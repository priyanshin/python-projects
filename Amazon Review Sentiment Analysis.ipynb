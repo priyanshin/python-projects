{
 "cells": [
  {
   "cell_type": "code",
   "execution_count": 23,
   "metadata": {
    "scrolled": true
   },
   "outputs": [
    {
     "name": "stdout",
     "output_type": "stream",
     "text": [
      "[('HUAWEI Ascend P7 P7-L10 16GB Unlocked GSM 4G LTE Smartphone - Black', ['0', '0', '0', '0', ' and there is no update from them. Other than that', '0', '\"', \" it has excellent battery and it warns you when applications are running in the background using battery. The screen and camera are great for the price. And you can't beat having an unlocked phone for when you travel or don't want to be attached to any carrier. I use it with H2O in the US but have also used it in Costa Rica\", '0', '0', '0', ' I like and the cellphone came early. CONGRATULATIONS\\xc2\\xa1\\xc2\\xa1\\xc2\\xa1\"', '0', '1', '0', ' excelent seller.\"', '1', ' period.\"', '0', '0', ' I need help', '1', '0', '0', ' L00 is what you get. Chinese should be your second language.\"', '0', '0', '0', '0', '0', ' like huawei\"', '0', '0', '0', ' the box was in very bad condition. It is a common scam. I regret purchasing it. came too late.\"', '0', '0', '0', ' was already used and had stuck a protective film on the screen', '1', ' you receive a high quality product. The materials of this telephone makes it look like a more expensive device. The box came with all the accesories you need (except the cover) but you can find a really cheap and good looking one here on amazon. The battery lasts longer than my old ascend p1', '0', \" which is much better than Samsung phone I had before. The Huawei P7 has many advantages. (1) Reasonable price. (2) Great hardware. The response speed of the phone is quick. Haven't experienced any crash\", '0', ' not everyone reads Chinese.\"', ' VERY GOOD PRODUCT. VERY HAPPY WITH THE ATENTION. THANKS.\"', ' awesome screen and smooth system.\"', '3', '1', ' thin and great build quality. The UI is kind of copying from iOS', ' it restars many times and the seller never contacted me.\"', '0', '0', '0', '0', '0', '0', \" but I recommend getting a small case and a screen protector anyways.The camera produces great quality images and is fairly simple to use. I've attached some photos for examples.The battery life is where this phone really sells. I could probably get away with two days before charging the phone\", '0', '0', '1', ' I knew from that purchase.Remarks to the seller:Does not include the removal tool SIM cardthe back cover of the smartphone was opened by a screw.not come in sealed boxApart from this', ' because for phone calls or anything that not need the screen long very well and that the volume and on button were a little farther.\"', '0', '1', ' but wanted a change due to the uninspiring outlook for the Iphone6. Tired of upgrading for nothing and a tiresome battery after 1 year of use. So after having for the weekend I can say that I love this Phone. Android system is great!!. I am making it look like the Iphone so I can have a seem less change to android. Great speed and battery lasts. With normal use FB', '1', ' waiting for the other one to be delivered as micro sim card. So far so good', '6', ' after plug in my t-mobile sim card', '1', '0', ' very thin and light. Personally', '0', ' if you go to Settings>About phone>Status under Network it shows AT&T. I have the best phone and plan in my family :)\"', '0', '0', '2', ' I really like it and it was what I expected\"', ' reliable', '0', '0', '0', '0', '0', '0', '0', '0', '0', '0', '0', '0', '0', ' and there is no update from them. Other than that', '0', '\"', \" it has excellent battery and it warns you when applications are running in the background using battery. The screen and camera are great for the price. And you can't beat having an unlocked phone for when you travel or don't want to be attached to any carrier. I use it with H2O in the US but have also used it in Costa Rica\", '0', '0'])]\n"
     ]
    }
   ],
   "source": [
    "amazon_reviews= open(\"Amazon_Unlocked_Mobile.csv\")\n",
    "row = []\n",
    "rows = []\n",
    "reviews = {}\n",
    "# a_line= amazon_reviews.readline()\n",
    "# # a_line.seek(1)\n",
    "for line in amazon_reviews:\n",
    "    row = line.strip().split(',')\n",
    "    #print row\n",
    "    #print (row[0], row[5])\n",
    "    \n",
    "    if (row[0] not in reviews) and len(row)>5:\n",
    "        reviews[row[0]] = [row[5]]\n",
    "    elif len(row) > 5:\n",
    "        reviews[row[0]].append(row[5])\n",
    "#         reviews[row[0]] = x\n",
    "    \n",
    "print reviews.items()[:1]"
   ]
  },
  {
   "cell_type": "code",
   "execution_count": 24,
   "metadata": {},
   "outputs": [
    {
     "ename": "AttributeError",
     "evalue": "'module' object has no attribute 'plotting'",
     "output_type": "error",
     "traceback": [
      "\u001b[1;31m---------------------------------------------------------------------------\u001b[0m",
      "\u001b[1;31mAttributeError\u001b[0m                            Traceback (most recent call last)",
      "\u001b[1;32m<ipython-input-24-0f3f8e6a8cec>\u001b[0m in \u001b[0;36m<module>\u001b[1;34m()\u001b[0m\n\u001b[1;32m----> 1\u001b[1;33m \u001b[1;32mimport\u001b[0m \u001b[0mpandas\u001b[0m \u001b[1;32mas\u001b[0m \u001b[0mpd\u001b[0m\u001b[1;33m\u001b[0m\u001b[0m\n\u001b[0m\u001b[0;32m      2\u001b[0m \u001b[0mdf\u001b[0m \u001b[1;33m=\u001b[0m \u001b[0mpd\u001b[0m\u001b[1;33m.\u001b[0m\u001b[0mread_csv\u001b[0m\u001b[1;33m(\u001b[0m\u001b[1;34m\"Amazon_Unlocked_Mobile.csv\"\u001b[0m\u001b[1;33m)\u001b[0m\u001b[1;33m\u001b[0m\u001b[0m\n",
      "\u001b[1;32mC:\\ProgramData\\Anaconda2\\lib\\site-packages\\pandas\\__init__.py\u001b[0m in \u001b[0;36m<module>\u001b[1;34m()\u001b[0m\n\u001b[0;32m     49\u001b[0m \u001b[1;31m# deprecate tools.plotting, plot_params and scatter_matrix on the top namespace\u001b[0m\u001b[1;33m\u001b[0m\u001b[1;33m\u001b[0m\u001b[0m\n\u001b[0;32m     50\u001b[0m \u001b[1;32mimport\u001b[0m \u001b[0mpandas\u001b[0m\u001b[1;33m.\u001b[0m\u001b[0mtools\u001b[0m\u001b[1;33m.\u001b[0m\u001b[0mplotting\u001b[0m\u001b[1;33m\u001b[0m\u001b[0m\n\u001b[1;32m---> 51\u001b[1;33m \u001b[0mplot_params\u001b[0m \u001b[1;33m=\u001b[0m \u001b[0mpandas\u001b[0m\u001b[1;33m.\u001b[0m\u001b[0mplotting\u001b[0m\u001b[1;33m.\u001b[0m\u001b[0m_style\u001b[0m\u001b[1;33m.\u001b[0m\u001b[0m_Options\u001b[0m\u001b[1;33m(\u001b[0m\u001b[0mdeprecated\u001b[0m\u001b[1;33m=\u001b[0m\u001b[0mTrue\u001b[0m\u001b[1;33m)\u001b[0m\u001b[1;33m\u001b[0m\u001b[0m\n\u001b[0m\u001b[0;32m     52\u001b[0m \u001b[1;31m# do not import deprecate to top namespace\u001b[0m\u001b[1;33m\u001b[0m\u001b[1;33m\u001b[0m\u001b[0m\n\u001b[0;32m     53\u001b[0m scatter_matrix = pandas.util._decorators.deprecate(\n",
      "\u001b[1;31mAttributeError\u001b[0m: 'module' object has no attribute 'plotting'"
     ]
    }
   ],
   "source": [
    "import pandas as pd\n",
    "df = pd.read_csv(\"Amazon_Unlocked_Mobile.csv\")"
   ]
  },
  {
   "cell_type": "code",
   "execution_count": 11,
   "metadata": {},
   "outputs": [
    {
     "name": "stdout",
     "output_type": "stream",
     "text": [
      "Requirement already satisfied: textblob in c:\\programdata\\anaconda2\\lib\\site-packages (0.15.1)\n",
      "Requirement already satisfied: nltk>=3.1 in c:\\programdata\\anaconda2\\lib\\site-packages (from textblob) (3.2.4)\n",
      "Requirement already satisfied: six in c:\\programdata\\anaconda2\\lib\\site-packages (from nltk>=3.1->textblob) (1.11.0)\n"
     ]
    },
    {
     "name": "stderr",
     "output_type": "stream",
     "text": [
      "grin 1.2.1 requires argparse>=1.1, which is not installed.\n"
     ]
    }
   ],
   "source": [
    "import sys\n",
    "! pip install textblob"
   ]
  },
  {
   "cell_type": "code",
   "execution_count": 12,
   "metadata": {},
   "outputs": [],
   "source": [
    "from textblob import TextBlob"
   ]
  },
  {
   "cell_type": "code",
   "execution_count": 17,
   "metadata": {},
   "outputs": [
    {
     "name": "stdout",
     "output_type": "stream",
     "text": [
      "('positive', 0.8)\n"
     ]
    }
   ],
   "source": [
    "def sentiment(text):\n",
    "        analysis = TextBlob(text)\n",
    "        if analysis.sentiment.polarity > 0:\n",
    "            return 'positive', analysis.sentiment.polarity\n",
    "        elif analysis.sentiment.polarity == 0:\n",
    "            return 'neutral', analysis.sentiment.polarity\n",
    "        else:\n",
    "            return 'negative', analysis.sentiment.polarity\n",
    "print sentiment(\"happy\")"
   ]
  },
  {
   "cell_type": "code",
   "execution_count": 18,
   "metadata": {},
   "outputs": [
    {
     "name": "stdout",
     "output_type": "stream",
     "text": [
      "('negative', -0.7)\n"
     ]
    }
   ],
   "source": [
    "print sentiment(\"i am frustrated\")"
   ]
  },
  {
   "cell_type": "code",
   "execution_count": null,
   "metadata": {
    "collapsed": true
   },
   "outputs": [],
   "source": []
  }
 ],
 "metadata": {
  "kernelspec": {
   "display_name": "Python 2",
   "language": "python",
   "name": "python2"
  },
  "language_info": {
   "codemirror_mode": {
    "name": "ipython",
    "version": 2
   },
   "file_extension": ".py",
   "mimetype": "text/x-python",
   "name": "python",
   "nbconvert_exporter": "python",
   "pygments_lexer": "ipython2",
   "version": "2.7.14"
  }
 },
 "nbformat": 4,
 "nbformat_minor": 2
}
