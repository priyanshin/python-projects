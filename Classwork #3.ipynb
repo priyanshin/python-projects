{
 "cells": [
  {
   "cell_type": "code",
   "execution_count": 1,
   "metadata": {
    "collapsed": true
   },
   "outputs": [],
   "source": [
    "import string"
   ]
  },
  {
   "cell_type": "code",
   "execution_count": 2,
   "metadata": {},
   "outputs": [
    {
     "name": "stdout",
     "output_type": "stream",
     "text": [
      "abcdefghijklmnopqrstuvwxyzABCDEFGHIJKLMNOPQRSTUVWXYZ\n"
     ]
    }
   ],
   "source": [
    "print string.ascii_letters"
   ]
  },
  {
   "cell_type": "code",
   "execution_count": 3,
   "metadata": {},
   "outputs": [
    {
     "name": "stdout",
     "output_type": "stream",
     "text": [
      "abcdefghijklmnopqrstuvwxyz\n"
     ]
    }
   ],
   "source": [
    "print string.ascii_lowercase"
   ]
  },
  {
   "cell_type": "code",
   "execution_count": 7,
   "metadata": {},
   "outputs": [
    {
     "data": {
      "text/plain": [
       "9"
      ]
     },
     "execution_count": 7,
     "metadata": {},
     "output_type": "execute_result"
    }
   ],
   "source": [
    "mystring = \"jack and jill went up the hill\"\n",
    "\n",
    "string.find(mystring, \"jill\")"
   ]
  },
  {
   "cell_type": "markdown",
   "metadata": {
    "collapsed": true
   },
   "source": [
    "Lab Exercises Week 3"
   ]
  },
  {
   "cell_type": "code",
   "execution_count": 11,
   "metadata": {},
   "outputs": [
    {
     "name": "stdout",
     "output_type": "stream",
     "text": [
      "Enter your name: Priyanshi\n",
      "ihsnayirP\n"
     ]
    }
   ],
   "source": [
    "#1\n",
    "\n",
    "import string\n",
    "name = raw_input(\"Enter your name: \")\n",
    "print name[::-1]"
   ]
  },
  {
   "cell_type": "code",
   "execution_count": 36,
   "metadata": {},
   "outputs": [
    {
     "name": "stdout",
     "output_type": "stream",
     "text": [
      "Please enter your full name: Priyanshi Nigam\n",
      "Priyanshi\n",
      "Nigam\n"
     ]
    }
   ],
   "source": [
    "#2\n",
    "\n",
    "full_name= raw_input(\"Please enter your full name: \")\n",
    "x= full_name.split()\n",
    "print x[0]\n",
    "print x[1]"
   ]
  },
  {
   "cell_type": "code",
   "execution_count": 47,
   "metadata": {},
   "outputs": [
    {
     "name": "stdout",
     "output_type": "stream",
     "text": [
      "0123456789\n",
      "alpha beta gamma 3 timesalpha beta gamma 3 timesalpha beta gamma 3 timesalpha beta gamma 3 timesalpha beta gamma 3 timesalpha beta gamma 3 timesalpha beta gamma 3 timesalpha beta gamma 3 timesalpha beta gamma 3 timesalpha beta gamma 3 times\n"
     ]
    }
   ],
   "source": [
    "#3\n",
    "\n",
    "# import string\n",
    "\n",
    "# abstract_string= str(raw_input(\"Enter a string with numbers and letters: \"))\n",
    "# # print abstract_string.digits()\n",
    "# # print abstract_string.digits\n",
    "# print \"abstract_string.digits :%s\" % abstract_string.digits\n",
    "\n",
    "import string\n",
    "\n",
    "print string.digits\n",
    "long_text= \"alpha beta gamma 3 times\" * 10\n",
    "print long_text\n",
    "\n",
    "#displaying digits in a string\n",
    "\n",
    "for letter in long_text:\n",
    "    \n",
    "    if letter in string.digits:\n",
    "        print letter\n",
    "        \n",
    "        \n",
    "new_string = \"\"\n",
    "\n",
    "for letter in long_text:\n",
    "    \n",
    "    if letter not in string.digits:\n",
    "        new_string += letter"
   ]
  },
  {
   "cell_type": "code",
   "execution_count": 53,
   "metadata": {},
   "outputs": [
    {
     "name": "stdout",
     "output_type": "stream",
     "text": [
      "Enter a string: HaPAPyy BirtHdaAYYY\n",
      "hapapyy birthdaayyy\n",
      "HAPAPYY BIRTHDAAYYY\n"
     ]
    }
   ],
   "source": [
    "#4\n",
    "\n",
    "string= raw_input(\"Enter a string: \")\n",
    "print string.lower()\n",
    "print string.upper()\n"
   ]
  },
  {
   "cell_type": "markdown",
   "metadata": {},
   "source": [
    "Write a python program to get two strings from the user - a string variable named text and another string variable named match. Look for match in text and remove all occurrences of match and display the result.\n",
    "\n",
    "For example, if the string is “It is cold outside” and the search string is “cold”. Your result should be “It is outside”\n"
   ]
  },
  {
   "cell_type": "code",
   "execution_count": 39,
   "metadata": {},
   "outputs": [
    {
     "name": "stdout",
     "output_type": "stream",
     "text": [
      "hello my name is priyanshi\n",
      "name\n",
      "hello my  is priyanshi\n"
     ]
    }
   ],
   "source": [
    "#5\n",
    "\n",
    "text= raw_input()\n",
    "match = raw_input()\n",
    "\n",
    "print text.replace(match, \"\")"
   ]
  },
  {
   "cell_type": "markdown",
   "metadata": {},
   "source": [
    "Write a python program to get two strings from the user - a string named text and another string named match. Look for match in text and substitute all occurrences of match with “hello” and display the result."
   ]
  },
  {
   "cell_type": "code",
   "execution_count": 51,
   "metadata": {},
   "outputs": [
    {
     "name": "stdout",
     "output_type": "stream",
     "text": [
      "Enter a string: hello my name is \n",
      "Enter another string: name\n",
      "hello my hello is \n"
     ]
    }
   ],
   "source": [
    "#6\n",
    "\n",
    "str_1= raw_input(\"Enter a string: \")\n",
    "str_2= raw_input(\"Enter another string: \")\n",
    "res= str_1.replace(str_2, \"hello\")\n",
    "print res"
   ]
  },
  {
   "cell_type": "markdown",
   "metadata": {},
   "source": [
    "Write a python program to get a list of words from the user and return the longest word"
   ]
  },
  {
   "cell_type": "code",
   "execution_count": 62,
   "metadata": {},
   "outputs": [
    {
     "name": "stdout",
     "output_type": "stream",
     "text": [
      "fun\n"
     ]
    }
   ],
   "source": [
    "#7\n",
    "\n",
    "string1= \"hello happy fun too \"\n",
    "words=string1.split()\n",
    "i=0\n",
    "for i in range(len(words)-1):\n",
    "    max = len (words[i])\n",
    "    if len(words[i]) > max:\n",
    "        new_max_index= i\n",
    "print words[i]\n"
   ]
  },
  {
   "cell_type": "code",
   "execution_count": null,
   "metadata": {
    "collapsed": true
   },
   "outputs": [],
   "source": []
  },
  {
   "cell_type": "code",
   "execution_count": null,
   "metadata": {
    "collapsed": true
   },
   "outputs": [],
   "source": []
  }
 ],
 "metadata": {
  "kernelspec": {
   "display_name": "Python 2",
   "language": "python",
   "name": "python2"
  },
  "language_info": {
   "codemirror_mode": {
    "name": "ipython",
    "version": 2
   },
   "file_extension": ".py",
   "mimetype": "text/x-python",
   "name": "python",
   "nbconvert_exporter": "python",
   "pygments_lexer": "ipython2",
   "version": "2.7.14"
  }
 },
 "nbformat": 4,
 "nbformat_minor": 2
}
