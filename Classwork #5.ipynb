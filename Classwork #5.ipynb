{
 "cells": [
  {
   "cell_type": "code",
   "execution_count": 7,
   "metadata": {
    "collapsed": true
   },
   "outputs": [],
   "source": [
    "movieFile= open(\"ml-latest-small/movies.csv\")"
   ]
  },
  {
   "cell_type": "code",
   "execution_count": 9,
   "metadata": {},
   "outputs": [
    {
     "data": {
      "text/plain": [
       "'movieId,title,genres\\n'"
      ]
     },
     "execution_count": 9,
     "metadata": {},
     "output_type": "execute_result"
    }
   ],
   "source": [
    "movieFile.readline()"
   ]
  },
  {
   "cell_type": "code",
   "execution_count": 10,
   "metadata": {},
   "outputs": [
    {
     "data": {
      "text/plain": [
       "file"
      ]
     },
     "execution_count": 10,
     "metadata": {},
     "output_type": "execute_result"
    }
   ],
   "source": [
    "type(movieFile)"
   ]
  },
  {
   "cell_type": "code",
   "execution_count": 11,
   "metadata": {},
   "outputs": [
    {
     "name": "stdout",
     "output_type": "stream",
     "text": [
      "1,Toy Story (1995),Adventure|Animation|Children|Comedy|Fantasy\n",
      "\n"
     ]
    }
   ],
   "source": [
    "line= movieFile.readline()\n",
    "print line"
   ]
  },
  {
   "cell_type": "code",
   "execution_count": 13,
   "metadata": {},
   "outputs": [
    {
     "name": "stdout",
     "output_type": "stream",
     "text": [
      "['1', 'Toy Story (1995)', 'Adventure|Animation|Children|Comedy|Fantasy']\n"
     ]
    }
   ],
   "source": [
    "lineContents=line.strip().split(\",\") #strips new line characters\n",
    "print lineContents\n",
    "movieInfo= {}\n",
    "\n"
   ]
  },
  {
   "cell_type": "code",
   "execution_count": 14,
   "metadata": {},
   "outputs": [
    {
     "name": "stdout",
     "output_type": "stream",
     "text": [
      "['Adventure', 'Animation', 'Children', 'Comedy', 'Fantasy']\n"
     ]
    }
   ],
   "source": [
    "genres= lineContents[2].split(\"|\")\n",
    "print genres"
   ]
  },
  {
   "cell_type": "code",
   "execution_count": 21,
   "metadata": {},
   "outputs": [
    {
     "name": "stdout",
     "output_type": "stream",
     "text": [
      "Toy Story  1995)\n"
     ]
    }
   ],
   "source": [
    "title, date= lineContents[1].split(\"(\")\n",
    "#alternative way \n",
    "titleDateList= lineContents[1].split(\"(\")\n",
    "print title, date"
   ]
  },
  {
   "cell_type": "code",
   "execution_count": 19,
   "metadata": {},
   "outputs": [
    {
     "name": "stdout",
     "output_type": "stream",
     "text": [
      "1995\n"
     ]
    },
    {
     "data": {
      "text/plain": [
       "str"
      ]
     },
     "execution_count": 19,
     "metadata": {},
     "output_type": "execute_result"
    }
   ],
   "source": [
    "date= date.strip(\")\")\n",
    "print date\n",
    "type(date)"
   ]
  },
  {
   "cell_type": "code",
   "execution_count": 25,
   "metadata": {
    "collapsed": true
   },
   "outputs": [],
   "source": [
    "# movieInfo[lineContents[0]]=  [titleDateList[0], date, genres]"
   ]
  },
  {
   "cell_type": "code",
   "execution_count": 26,
   "metadata": {
    "collapsed": true
   },
   "outputs": [],
   "source": [
    "genreCounts = {}\n",
    "\n",
    "count = 0\n",
    "for key in movieInfo:\n",
    "    \n",
    "    count += 1\n",
    "    \n",
    "    genres =  movieInfo[key][-1]\n",
    "    \n",
    "    for genre in genres:\n",
    "        \n",
    "        if genreCounts.get(genre) == None:\n",
    "            genreCounts[genre] = 1\n",
    "        else:\n",
    "            genreCounts[genre] += 1"
   ]
  },
  {
   "cell_type": "code",
   "execution_count": 27,
   "metadata": {},
   "outputs": [
    {
     "name": "stdout",
     "output_type": "stream",
     "text": [
      "{'Comedy': 1, 'Fantasy': 1, 'Animation': 1, 'Adventure': 1, 'Children': 1}\n"
     ]
    }
   ],
   "source": [
    "print genreCounts"
   ]
  },
  {
   "cell_type": "markdown",
   "metadata": {},
   "source": [
    "Salary File"
   ]
  },
  {
   "cell_type": "code",
   "execution_count": 4,
   "metadata": {
    "collapsed": true
   },
   "outputs": [],
   "source": [
    "writeFile = open(\"salaryReport.txt\",\"w\")\n",
    "\n",
    "writeFile.write(\"id,deptid,salary\\n\")\n",
    "\n",
    "for i in range(1,101):\n",
    "    \n",
    "    id = i\n",
    "    deptid = id%5 + 1\n",
    "    salary = i*deptid*10000\n",
    "    \n",
    "    writeFile.write(str(id) + \",\" + str(deptid) + \",\" + str(salary) + \"\\n\")\n",
    "\n",
    "writeFile.close()"
   ]
  },
  {
   "cell_type": "code",
   "execution_count": 5,
   "metadata": {
    "collapsed": true
   },
   "outputs": [],
   "source": [
    "salaries= open(\"salaryReport.txt\")"
   ]
  },
  {
   "cell_type": "code",
   "execution_count": 6,
   "metadata": {},
   "outputs": [
    {
     "data": {
      "text/plain": [
       "'id,deptid,salary\\n'"
      ]
     },
     "execution_count": 6,
     "metadata": {},
     "output_type": "execute_result"
    }
   ],
   "source": [
    "salaries.seek(0)\n",
    "salaries.readline()"
   ]
  },
  {
   "cell_type": "code",
   "execution_count": 7,
   "metadata": {
    "collapsed": true
   },
   "outputs": [],
   "source": [
    "line = salaries.readline()"
   ]
  },
  {
   "cell_type": "code",
   "execution_count": 8,
   "metadata": {
    "scrolled": false
   },
   "outputs": [
    {
     "name": "stdout",
     "output_type": "stream",
     "text": [
      "1,2,20000\n",
      "\n",
      "<type 'str'>\n",
      "['1', '2', '20000']\n"
     ]
    }
   ],
   "source": [
    "print line\n",
    "print type(line)\n",
    "employeeInfo= line.strip().split(\",\")\n",
    "# employeeInfo= employeeInfo.strip()\n",
    "print employeeInfo"
   ]
  },
  {
   "cell_type": "code",
   "execution_count": 9,
   "metadata": {},
   "outputs": [
    {
     "name": "stdout",
     "output_type": "stream",
     "text": [
      "[20000, 60000, 120000, 200000, 50000, 120000, 210000, 320000, 450000, 100000, 220000, 360000, 520000, 700000, 150000, 320000, 510000, 720000, 950000, 200000, 420000, 660000, 920000, 1200000, 250000, 520000, 810000, 1120000, 1450000, 300000, 620000, 960000, 1320000, 1700000, 350000, 720000, 1110000, 1520000, 1950000, 400000, 820000, 1260000, 1720000, 2200000, 450000, 920000, 1410000, 1920000, 2450000, 500000, 1020000, 1560000, 2120000, 2700000, 550000, 1120000, 1710000, 2320000, 2950000, 600000, 1220000, 1860000, 2520000, 3200000, 650000, 1320000, 2010000, 2720000, 3450000, 700000, 1420000, 2160000, 2920000, 3700000, 750000, 1520000, 2310000, 3120000, 3950000, 800000, 1620000, 2460000, 3320000, 4200000, 850000, 1720000, 2610000, 3520000, 4450000, 900000, 1820000, 2760000, 3720000, 4700000, 950000, 1920000, 2910000, 3920000, 4950000, 1000000]\n"
     ]
    }
   ],
   "source": [
    "salaryAmount = []\n",
    "salaries.seek(0)\n",
    "salaries.readline()\n",
    "line= salaries.readline()\n",
    "while line != \"\":\n",
    "    employeeInfo= line.strip().split(\",\")\n",
    "    salaryInt=int(employeeInfo[2])\n",
    "    salaryAmount.append(salaryInt)\n",
    "    line= salaries.readline()\n",
    "print salaryAmount\n",
    "\n"
   ]
  },
  {
   "cell_type": "code",
   "execution_count": 10,
   "metadata": {},
   "outputs": [
    {
     "name": "stdout",
     "output_type": "stream",
     "text": [
      "1515000\n"
     ]
    }
   ],
   "source": [
    "averageSalary=sum(salaryAmount)/len(salaryAmount)\n",
    "# print len(salaryAmount)\n",
    "print averageSalary"
   ]
  },
  {
   "cell_type": "markdown",
   "metadata": {},
   "source": [
    " Write a program to accept the name and ages of three users and write them to a file name user_ages.txt. Make sure that the name and the age are separated by commas"
   ]
  },
  {
   "cell_type": "code",
   "execution_count": 84,
   "metadata": {},
   "outputs": [
    {
     "name": "stdout",
     "output_type": "stream",
     "text": [
      "Please enter 3 names: pri pran sam\n",
      "['pri', 'pran', 'sam']\n",
      "['pri', 'pran', 'sam']\n"
     ]
    }
   ],
   "source": [
    "names=[]\n",
    "userNames= raw_input(\"Please enter 3 names: \").split(\" \")\n",
    "print userNames\n",
    "names.append(userNames[0])\n",
    "names.append(userNames[1])\n",
    "names.append(userNames[2])\n",
    "print names"
   ]
  }
 ],
 "metadata": {
  "kernelspec": {
   "display_name": "Python 2",
   "language": "python",
   "name": "python2"
  },
  "language_info": {
   "codemirror_mode": {
    "name": "ipython",
    "version": 2
   },
   "file_extension": ".py",
   "mimetype": "text/x-python",
   "name": "python",
   "nbconvert_exporter": "python",
   "pygments_lexer": "ipython2",
   "version": "2.7.14"
  }
 },
 "nbformat": 4,
 "nbformat_minor": 2
}
