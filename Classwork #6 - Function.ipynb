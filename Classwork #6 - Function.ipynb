{
 "cells": [
  {
   "cell_type": "code",
   "execution_count": 22,
   "metadata": {},
   "outputs": [
    {
     "name": "stdout",
     "output_type": "stream",
     "text": [
      "Invalid. Length of list is 0.\n",
      "0\n"
     ]
    }
   ],
   "source": [
    "def average(numberList):    #this is a function signature\n",
    "    \n",
    "    for element in numberList:\n",
    "        if type(element) != int or type(element) != float:\n",
    "            print \"Incompatible type incountered.\"\n",
    "            return 0\n",
    "    if len(numberList) == 0:\n",
    "        print \"Invalid. Length of list is 0.\"\n",
    "        return 0\n",
    "        # first value is tuple for error\n",
    "        \n",
    "    myAverage= float(sum(numberList))/ len(numberList)\n",
    "    return myAverage\n",
    "\n",
    "print average([])"
   ]
  },
  {
   "cell_type": "code",
   "execution_count": 23,
   "metadata": {},
   "outputs": [
    {
     "name": "stdout",
     "output_type": "stream",
     "text": [
      "<built-in function max>\n"
     ]
    }
   ],
   "source": [
    "print max #check function name to see if it already exists"
   ]
  },
  {
   "cell_type": "code",
   "execution_count": 24,
   "metadata": {},
   "outputs": [
    {
     "name": "stdout",
     "output_type": "stream",
     "text": [
      "Average age: Incompatible type incountered.\n",
      "0\n"
     ]
    }
   ],
   "source": [
    "ageList = [23, 33, 4, 5, 6, 345]\n",
    "print \"Average age:\", average(ageList)"
   ]
  },
  {
   "cell_type": "code",
   "execution_count": 25,
   "metadata": {
    "collapsed": true
   },
   "outputs": [],
   "source": [
    "# %d is for integer formatting\n",
    "# %f is for float formatting \n",
    "# %____() the decimal is as follows: 10.2 would mean 10 spaces out and cutting at 2"
   ]
  },
  {
   "cell_type": "code",
   "execution_count": null,
   "metadata": {
    "collapsed": true
   },
   "outputs": [],
   "source": [
    "# variable, _, _=  3, 4, 5: the underscores are bit buckets"
   ]
  },
  {
   "cell_type": "code",
   "execution_count": null,
   "metadata": {
    "collapsed": true
   },
   "outputs": [],
   "source": [
    "# documentation of functions- DocString \n",
    "\n",
    "# shift + tab gives documentation of a method\n",
    "\n",
    "# how to write documentation : triple quotes\n",
    "\n",
    "# # # ''' Function Name:\n",
    "#         Description:\n",
    "#         Input Arguments:\n",
    "#         Output Arguments: '''\n",
    "        "
   ]
  },
  {
   "cell_type": "markdown",
   "metadata": {},
   "source": [
    "## Keyword Arguments"
   ]
  },
  {
   "cell_type": "code",
   "execution_count": null,
   "metadata": {
    "collapsed": true
   },
   "outputs": [],
   "source": [
    "#setHousePrice (zipcode= \"95035\", )"
   ]
  },
  {
   "cell_type": "code",
   "execution_count": null,
   "metadata": {
    "collapsed": true
   },
   "outputs": [],
   "source": [
    "# str.find()- takes in a substring - returns -1 if not found\n",
    "\n",
    "#str.index(\"\")- takes a character - if index not there program crashes"
   ]
  },
  {
   "cell_type": "markdown",
   "metadata": {},
   "source": [
    "## Lab Exercises "
   ]
  },
  {
   "cell_type": "code",
   "execution_count": 26,
   "metadata": {
    "collapsed": true
   },
   "outputs": [],
   "source": [
    "def fourthPower(x):\n",
    "    return x*x*x*x"
   ]
  },
  {
   "cell_type": "code",
   "execution_count": 28,
   "metadata": {},
   "outputs": [
    {
     "name": "stdout",
     "output_type": "stream",
     "text": [
      "81\n"
     ]
    }
   ],
   "source": [
    "print fourthPower(3)"
   ]
  },
  {
   "cell_type": "code",
   "execution_count": 29,
   "metadata": {
    "collapsed": true
   },
   "outputs": [],
   "source": [
    "def odd(x):\n",
    "    if (x%2)==0:\n",
    "        return False\n",
    "    elif(x%2)==1:\n",
    "        return True\n"
   ]
  },
  {
   "cell_type": "code",
   "execution_count": 30,
   "metadata": {},
   "outputs": [
    {
     "data": {
      "text/plain": [
       "True"
      ]
     },
     "execution_count": 30,
     "metadata": {},
     "output_type": "execute_result"
    }
   ],
   "source": [
    "odd(99)"
   ]
  },
  {
   "cell_type": "markdown",
   "metadata": {},
   "source": [
    "## Recursion"
   ]
  },
  {
   "cell_type": "code",
   "execution_count": 31,
   "metadata": {
    "collapsed": true
   },
   "outputs": [],
   "source": [
    "def product(x,y):\n",
    "    \n",
    "    if y==1: #base case\n",
    "        return x\n",
    "    else:\n",
    "        return x + product(x, y-1)\n"
   ]
  },
  {
   "cell_type": "code",
   "execution_count": 32,
   "metadata": {},
   "outputs": [
    {
     "name": "stdout",
     "output_type": "stream",
     "text": [
      "30\n"
     ]
    }
   ],
   "source": [
    "print product(5, 6) # multiplication recursively"
   ]
  },
  {
   "cell_type": "code",
   "execution_count": 44,
   "metadata": {
    "collapsed": true
   },
   "outputs": [],
   "source": [
    "# Factorials using recursion\n",
    "\n",
    "def factorial(t):\n",
    "    if t==1:\n",
    "        return t\n",
    "    else: \n",
    "        return t * factorial (t-1)\n"
   ]
  },
  {
   "cell_type": "code",
   "execution_count": 46,
   "metadata": {},
   "outputs": [
    {
     "name": "stdout",
     "output_type": "stream",
     "text": [
      "24\n"
     ]
    }
   ],
   "source": [
    "print factorial(4)"
   ]
  }
 ],
 "metadata": {
  "kernelspec": {
   "display_name": "Python 2",
   "language": "python",
   "name": "python2"
  },
  "language_info": {
   "codemirror_mode": {
    "name": "ipython",
    "version": 2
   },
   "file_extension": ".py",
   "mimetype": "text/x-python",
   "name": "python",
   "nbconvert_exporter": "python",
   "pygments_lexer": "ipython2",
   "version": "2.7.14"
  }
 },
 "nbformat": 4,
 "nbformat_minor": 2
}
