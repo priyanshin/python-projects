{
 "cells": [
  {
   "cell_type": "code",
   "execution_count": 11,
   "metadata": {},
   "outputs": [
    {
     "data": {
      "text/plain": [
       "6"
      ]
     },
     "execution_count": 11,
     "metadata": {},
     "output_type": "execute_result"
    }
   ],
   "source": [
    "def factorial(x):\n",
    "    if x <= 0:\n",
    "        raise ValueError(\"Factorial does not accept negative integers.\")\n",
    "    if x==1:\n",
    "        return 1\n",
    "    else:\n",
    "        return x * factorial(x-1)\n",
    "print factorial(3)"
   ]
  },
  {
   "cell_type": "code",
   "execution_count": 17,
   "metadata": {},
   "outputs": [
    {
     "name": "stdout",
     "output_type": "stream",
     "text": [
      "Enter your age: -99\n",
      "Invalid age entered. Please ensure that age is a non-negative integer\n",
      "Enter your age: 87\n",
      "Age entered:  87\n"
     ]
    }
   ],
   "source": [
    "while True:\n",
    "    age = raw_input(\"Enter your age: \")\n",
    "    \n",
    "    try:\n",
    "        age_val = int(age)\n",
    "        \n",
    "        if age_val < 0:\n",
    "            raise ValueError\n",
    "    except ValueError:\n",
    "        print \"Invalid age entered. Please ensure that age is a non-negative integer\"\n",
    "        continue\n",
    "    else:\n",
    "        break\n",
    "\n",
    "print \"Age entered: \", age"
   ]
  },
  {
   "cell_type": "code",
   "execution_count": null,
   "metadata": {
    "collapsed": true
   },
   "outputs": [],
   "source": [
    "# Custom Exception Object \n",
    "class FactorialError(Exception):\n",
    "    pass\n"
   ]
  },
  {
   "cell_type": "markdown",
   "metadata": {},
   "source": [
    "Computing the Edit Distance"
   ]
  },
  {
   "cell_type": "code",
   "execution_count": 20,
   "metadata": {},
   "outputs": [
    {
     "name": "stdout",
     "output_type": "stream",
     "text": [
      "{'limited': 5, 'saves': 1, 'knelt': 1, 'four': 6, 'sleep': 4, 'hanging': 3, 'ringlets': 1, 'oldest': 1, 'hate': 1, 'assembled': 2, 'consider': 1, 'whose': 2, 'lory': 3, 'calculate': 1, 'paris': 1, 'presents': 2, 'under': 22, 'teaching': 1, 'sorry': 1, 'worth': 4, 'updated': 1, 'void': 1, 'rise': 1, 'every': 12, 'govern': 1, 'fireplace': 1, 'school': 4, 'prize': 1, 'wooden': 1, 'pinch': 2, 'persisted': 1, 'favoured': 1, 'tired': 7, 'efforts': 2, 'elegant': 1, 'likely': 4, 'louder': 1, 'machines': 1, 'shining': 1, 'even': 21, 'meekly': 1, 'disk': 1, 'hide': 1, 'solemn': 3, 'lizard': 2, 'above': 3, 'conduct': 1, 'new': 8, 'increasing': 1, 'ever': 17, 'told': 6, 'join': 9, 'never': 40, 'wrapping': 1, 'here': 19, 'hundreds': 1, 'met': 4, 'hers': 3, 'shriek': 3, 'dry': 7, 'property': 2, 'daughter': 1, 'leaves': 2, 'changed': 7, 'swam': 5, 'barrowful': 2, 'smoke': 1, 'unenforceability': 1, 'settled': 3, 'ventured': 4, 'golden': 7, 'secure': 1, 'owed': 1, 'angrily': 2, 'feelings': 1, 'brought': 3, 'patience': 1, 'moral': 6, 'guests': 2, 'drowned': 1, 'punching': 1, 'spoke': 4, 'would': 76, 'arms': 5, 'insult': 1, 'distributing': 6, 'call': 5, 'therefore': 1, 'leant': 1, 'survive': 1, 'fainting': 1, 'tell': 29, 'breathe': 1, 'paperwork': 1, 'posting': 1, 'hurt': 2, 'glass': 4, 'excellent': 2, 'hold': 7, 'outdated': 1, 'must': 51, 'me': 46, 'ma': 1, 'room': 8, 'work': 40, 'dodo': 9, 'roof': 5, 'obstacle': 1, 'elbow': 2, 'my': 56, 'shook': 9, 'quiver': 1, 'give': 13, 'unjust': 1, 'flung': 1, 'organized': 1, 'want': 9, 'keep': 10, 'returned': 2, 'end': 15, 'thing': 35, 'complaining': 1, 'agony': 1, 'puzzled': 5, 'damage': 1, 'machine': 1, 'how': 50, 'hot': 4, 'answer': 6, 'truthful': 1, 'poker': 1, 'flustered': 1, 'mouths': 1, 'after': 40, 'containing': 1, 'wrong': 2, 'jumping': 4, 'lay': 4, 'law': 1, 'lap': 2, 'types': 1, 'attempt': 1, 'wink': 2, 'wriggling': 1, 'green': 3, 'order': 2, 'hedgehog': 5, 'executed': 2, 'office': 2, 'dreamed': 1, 'over': 31, 'london': 1, 'mabel': 1, 'before': 21, 'fit': 1, 'somewhere': 1, 'bringing': 3, 'fix': 2, 'writing': 7, 'better': 11, 'glanced': 1, 'croquet': 3, 'overcome': 1, 'then': 59, 'them': 49, 'slate': 1, 'safe': 2, 'break': 1, 'caterpillar': 11, 'they': 120, 'interrupt': 1, 'one': 81, 'alternately': 1, 'eleventh': 1, 'roast': 1, 'each': 8, 'went': 79, 'side': 12, 'bone': 1, 'mean': 7, 'lifted': 1, 'financial': 1, 'telescope': 1, 'series': 1, 'dodged': 1, 'vote': 1, 'taught': 4, 'forgot': 2, 'flock': 1, 'array': 1, 'reminding': 1, 'velvet': 1, 'network': 1, 'sighing': 2, 'fellows': 1, 'content': 1, 'laid': 2, 'millennium': 1, 'surprise': 1, 'size': 6, 'forth': 8, 'foundation': 14, 'splashed': 1, 'stamping': 2, 'turning': 12, 'written': 9, 'given': 2, 'free': 7, 'whereupon': 1, 'mallets': 1, 'wanted': 4, 'enormous': 1, 'ate': 1, 'shelves': 1, 'cackled': 1, 'messages': 2, 'days': 6, 'hopeless': 1, 'footsteps': 1, 'user': 2, 'enjoy': 1, 'already': 2, 'synonymous': 1, 'encouraging': 2, 'hearing': 3, 'wash': 2, 'another': 21, 'thoughtfully': 1, 'thick': 1, 'electronic': 27, 'awfully': 1, 'top': 8, 'girls': 3, 'master': 2, 'too': 21, 'wildly': 2, 'legs': 3, 'dogs': 1, 'listen': 4, 'consented': 1, 'solemnly': 2, 'took': 24, 'positively': 1, 'begins': 4, 'distance': 1, 'tree': 3, 'second': 6, 'seated': 1, 'project': 81, 'matter': 8, 'splendidly': 1, 'exclaimed': 4, 'flame': 1, 'friend': 2, 'feeling': 6, 'ran': 13, 'mind': 5, 'mine': 3, 'talking': 12, 'manner': 1, 'seen': 12, 'seem': 7, 'tells': 2, 'thoroughly': 2, 'eagerly': 3, 'subjects': 1, 'doors': 2, 'laughed': 1, 'nobody': 4, 'though': 7, 'ebook': 7, 'regular': 2, 'mouth': 7, 'plenty': 2, 'grave': 3, 'zealand': 1, 'alarm': 1, 'dog': 2, 'swamp': 1, 'ridiculous': 1, 'notion': 3, 'came': 38, 'decidedly': 1, 'saying': 11, 'lewis': 4, 'queen': 35, 'ending': 1, 'attempts': 1, 'queer': 9, 'earth': 1, 'lessons': 4, 'busy': 2, 'spite': 1, 'explain': 8, 'folded': 1, 'sugar': 1, 'deepest': 1, 'rich': 1, 'do': 68, 'squeaking': 2, 'stop': 4, 'coast': 1, 'patted': 1, 'shutting': 2, 'altogether': 1, 'learned': 1, 'comply': 6, 'countries': 1, 'nicely': 2, 'anxiously': 13, 'shape': 1, 'licking': 1, 'method': 1, 'twice': 1, 'bad': 1, 'softly': 1, 'release': 1, 'ears': 4, 'blew': 2, 'fair': 1, 'depends': 2, 'decided': 3, 'flashed': 1, 'cattle': 1, 'corrupt': 1, 'miserable': 2, 'best': 9, 'subject': 3, 'pebbles': 2, 'pocket': 1, 'said': 421, 'away': 17, 'unable': 1, 'finger': 3, 'sorts': 3, 'approach': 1, 'preserve': 1, 'claws': 1, 'we': 25, 'interrupting': 2, 'terms': 22, 'confusion': 3, 'weak': 2, 'camomile': 1, 'twinkling': 3, 'drew': 5, 'extent': 1, 'picking': 2, 'kitchen': 2, 'pity': 1, 'received': 6, 'protect': 2, 'accident': 1, 'reported': 1, 'country': 3, 'cup': 1, 'adventures': 9, 'edgar': 1, 'players': 2, 'games': 1, 'treacle': 2, 'expense': 1, 'asked': 8, 'tone': 8, 'appeared': 3, 'character': 1, 'lullaby': 1, 'height': 4, 'active': 2, 'merchantibility': 1, 'speak': 8, 'shouting': 2, 'tarts': 3, 'three': 23, 'been': 36, 'quarrelling': 2, 'chimneys': 1, 'trampled': 1, 'interest': 1, 'lovely': 2, 'threw': 2, 'life': 2, 'wags': 1, 'mushroom': 4, 'twinkled': 1, 'concerning': 2, 'uncommon': 1, 'locations': 1, 'child': 3, 'catch': 3, 'doth': 3, 'has': 9, 'disclaimers': 1, 'lessen': 1, 'air': 2, 'ugly': 1, 'near': 14, 'suppose': 8, 'stopping': 1, 'voice': 18, 'employees': 2, 'mistake': 2, 'remembering': 1, 'seven': 4, 'compliance': 4, 'played': 1, 'is': 97, 'it': 374, 'clinging': 1, 'in': 412, 'mouse': 20, 'if': 91, 'grown': 7, 'growl': 1, 'credit': 1, 'things': 21, 'make': 29, 'clearly': 1, 'forehead': 2, 'damages': 2, 'unfortunate': 3, 'plates': 1, 'several': 5, 'tops': 1, 'hand': 11, 'delight': 1, 'marched': 1, 'dozing': 1, 'opportunity': 9, 'thoughts': 2, 'kid': 5, 'butter': 1, 'hearth': 1, 'kept': 13, 'pattering': 3, 'changes': 2, 'possessed': 1, 'humble': 1, 'contact': 4, 'hearts': 1, 'the': 1777, 'yours': 1, 'left': 13, 'just': 48, 'sentence': 6, 'distribute': 6, 'sleepy': 3, 'atheling': 1, 'verses': 3, 'farther': 1, 'yer': 4, 'yet': 9, 'electronically': 1, 'previous': 1, 'snout': 1, 'spectacles': 1, 'had': 176, 'belongs': 2, 'easy': 2, 'save': 1, 'gave': 15, 'boxed': 1, 'possible': 1, 'possibly': 3, 'dreamy': 1, 'afore': 1, 'replace': 1, 'shoulder': 3, 'appearing': 2, 'seaside': 1, 'alice': 221, 'quadrille': 2, 'specific': 1, 'officer': 1, 'night': 1, 'hung': 1, 'right': 24, 'old': 14, 'deal': 11, 'people': 13, 'sends': 1, 'crown': 2, 'somehow': 1, 'dead': 4, 'escape': 1, 'dear': 6, 'bore': 1, 'goldfish': 2, 'creep': 1, 'confusing': 2, 'denies': 1, 'for': 161, 'bottom': 4, 'everything': 10, 'asking': 3, 'denied': 1, 'serpents': 2, 'beating': 1, 'pinched': 2, 'knew': 13, 'burn': 2, 'lamps': 1, 'losing': 1, 'bowing': 1, 'permitted': 3, 'jurors': 3, 'wept': 1, 'limitation': 3, 'choke': 1, 'o': 1, 'costs': 2, 'despair': 1, 'permission': 6, 'raised': 2, 'statements': 1, 'wasting': 2, 'obtaining': 2, 'delighted': 2, 'cauldron': 2, 'down': 78, 'respectable': 1, 'bats': 1, 'lieu': 2, 'balanced': 1, 'federal': 2, 'frightened': 7, 'methods': 1, 'crowd': 4, 'wag': 1, 'support': 3, 'sneezing': 4, 'fight': 2, 'way': 39, 'editions': 5, 'was': 334, 'happy': 1, 'fork': 1, 'head': 29, 'creation': 1, 'form': 2, 'offer': 2, 'attempted': 1, 'back': 29, 'hear': 15, 'heap': 1, 'removed': 1, 'flavour': 1, 'rippling': 1, 'attached': 1, 'maximum': 1, 'until': 4, 'unusually': 1, 'temper': 1, 'proved': 2, 'sticks': 1, 'toss': 1, 'paragraphs': 3, 'muscular': 1, 'hungry': 2, 'howling': 3, 'guessed': 3, 'promised': 1, 'melan': 1, 'candle': 2, 'accounting': 1, 'archive': 13, 'peeping': 1, 'solicitation': 1, 'no': 77, 'tossing': 3, 'handed': 3, 'beheading': 1, 'setting': 1, 'holding': 2, 'tie': 1, 'vanished': 3, 'shrink': 1, 'pronounced': 1, 'welcome': 1, 'fell': 6, 'ridges': 1, 'inkstand': 1, 'unlocking': 1, 'died': 1, 'cheated': 1, 'together': 2, 'beds': 1, 'longed': 2, 'contemptuous': 1, 'time': 47, 'push': 1, 'treading': 2, 'profits': 1, 'concept': 2, 'managed': 3, 'remarkable': 2, 'dance': 2, 'untwist': 1, 'fulcrum': 1, 'invent': 1, 'crocodile': 1, 'mile': 2, 'displaying': 2, 'milk': 1, 'row': 2, 'certainly': 8, 'father': 4, 'passage': 1, 'answered': 3, 'charge': 6, 'unpleasant': 2, 'promoting': 2, 'jogged': 1, 'fancied': 2, 'brown': 1, 'advantage': 2, 'keeping': 4, 'hatter': 24, 'liability': 1, 'stays': 1, 'cook': 8, 'word': 8, 'trouble': 4, 'exact': 1, 'feeble': 1, 'minute': 15, 'cool': 2, 'sighed': 5, 'presented': 1, 'did': 50, 'turns': 1, 'dig': 1, 'accidentally': 1, 'leave': 7, 'settle': 1, 'quick': 1, 'scaly': 1, 'round': 30, 'prevent': 2, 'brave': 1, 'says': 4, 'tougher': 1, 'discover': 1, 'sign': 1, 'cost': 3, 'dried': 1, 'eating': 1, 'helpless': 1, 'irritated': 1, 'appear': 2, 'assistance': 1, 'uniform': 1, 'current': 1, 'paragraph': 11, 'lazily': 1, 'goes': 7, 'reply': 1, 'falling': 2, 'ground': 2, 'filled': 3, 'growls': 1, 'jury': 9, 'french': 3, 'water': 2, 'twentieth': 1, 'yards': 1, 'address': 1, 'hoarse': 2, 'along': 5, 'change': 9, 'box': 3, 'sending': 3, 'thirty': 1, 'wherever': 2, 'united': 10, 'gryphon': 22, 'trial': 4, 'usually': 2, 'shifting': 1, 'quarrel': 1, 'elect': 1, 'morals': 1, 'hopeful': 1, 'merely': 2, 'marked': 7, 'puffed': 1, 'swallowed': 1, 'stingy': 1, 'everybody': 6, 'driest': 1, 'angry': 3, 'visit': 2, 'only': 46, 'live': 7, 'going': 26, 'somersault': 1, 'wondering': 7, 'associated': 7, 'loving': 1, 'chapter': 12, 'entrance': 1, 'sharing': 2, 'afford': 1, 'ignorant': 1, 'effort': 1, 'fly': 1, 'deserved': 1, 'pretend': 1, 'modified': 1, 'longitude': 2, 'cat': 15, 'soup': 5, 'can': 41, 'growing': 6, 'making': 8, 'slightest': 1, 'heart': 2, 'undertone': 1, 'nursing': 3, 'figure': 1, 'arise': 1, 'carroll': 4, 'confused': 3, 'agent': 1, 'paused': 1, 'heard': 29, 'chin': 4, 'dropped': 4, 'phrase': 4, 'counting': 1, 'stole': 2, 'evidently': 1, 'pink': 1, 'requirements': 2, 'winter': 1, 'fortunately': 1, 'buttered': 1, 'watching': 3, 'write': 5, 'till': 19, 'condemn': 1, 'may': 27, 'neat': 1, 'dive': 1, 'crashed': 1, 'birthday': 1, 'tipped': 1, 'mad': 6, 'date': 2, 'such': 46, 'grow': 13, 'man': 1, 'scrambling': 1, 'natural': 3, 'remember': 12, 'succeeded': 3, 'stupidly': 1, 'tale': 2, 'provide': 6, 'so': 127, 'crept': 1, 'offend': 1, 'pulled': 1, 'talk': 10, 'recognised': 1, 'refund': 7, 'unsolicited': 1, 'shoes': 5, 'seeing': 1, 'indeed': 3, 'pointed': 1, 'canary': 1, 'entity': 3, 'course': 11, 'quarrelled': 1, 'shake': 1, 'argued': 1, 'cold': 1, 'still': 13, 'birds': 7, 'limbs': 1, 'derive': 1, 'yawning': 1, 'thank': 1, 'curly': 1, 'interesting': 3, 'curls': 1, 'civil': 2, 'offers': 1, 'dreadfully': 6, 'ours': 1, 'main': 1, 'happened': 3, 'roses': 1, 'non': 1, 'lonely': 2, 'tucked': 3, 'conversations': 1, 'introduce': 2, 'bound': 3, 'underneath': 1, 'tails': 3, 'intellectual': 2, 'half': 21, 'not': 129, 'now': 25, 'provision': 1, 'hall': 1, 'nor': 2, 'execute': 1, 'shouted': 9, 'name': 9, 'drop': 1, 'scolded': 1, 'entirely': 2, 'turtle': 33, 'domain': 8, 'bursting': 1, 'beloved': 1, 'hurried': 11, 'catching': 2, 'begun': 6, 'year': 2, 'distributor': 1, 'happen': 5, 'exclamation': 1, 'living': 1, 'canvas': 1, 'opened': 9, 'profit': 1, 'concert': 1, 'abide': 2, 'hastily': 7, 'looking': 30, 'miles': 3, 'receiving': 1, 'juror': 1, 'attended': 1, 'possibility': 1, 'quite': 55, 'screaming': 1, 'besides': 1, 'card': 1, 'care': 4, 'advance': 1, 'honest': 1, 'turn': 7, 'place': 7, 'invalidity': 1, 'invitation': 2, 'promotion': 1, 'think': 38, 'waited': 9, 'first': 30, 'sprawling': 1, 'flying': 1, 'revenue': 1, 'spoken': 1, 'yourself': 5, 'merrily': 1, 'fast': 4, 'directly': 1, 'carry': 2, 'impossible': 2, 'sounds': 3, 'open': 6, 'appealed': 1, 'cheerfully': 1, 'little': 120, 'necessarily': 1, 'checked': 3, 'silent': 3, 'arch': 1, 'caught': 3, 'anyone': 4, 'indicate': 1, 'legally': 1, 'white': 28, 'speaking': 2, 'eyes': 18, 'mostly': 1, 'that': 237, 'snatch': 2, 'alas': 1, 'copy': 8, 'holder': 1, 'than': 25, 'royal': 2, 'wide': 2, 'accordance': 2, 'require': 1, 'future': 3, 'venture': 3, 'were': 82, 'proofread': 1, 'wandering': 1, 'and': 833, 'addressing': 1, 'tasted': 2, 'remained': 3, 'turned': 16, 'argument': 4, 'voices': 2, 'say': 35, 'medium': 3, 'anger': 1, 'themselves': 2, 'saw': 13, 'any': 71, 'sat': 17, 'snorting': 1, 'transcription': 1, 'rudeness': 1, 'wandered': 2, 'equipment': 1, 'hookah': 4, 'take': 19, 'online': 4, 'destroy': 2, 'encouraged': 1, 'begin': 7, 'sure': 16, 'straightening': 1, 'opposite': 1, 'neatly': 2, 'clearer': 1, 'paid': 6, 'donation': 1, 'printed': 3, 'pair': 5, 'knee': 1, 'cleared': 1, 'pages': 1, 'pencils': 1, 'especially': 1, 'fills': 1, 'considered': 3, 'proud': 2, 'steady': 1, 'drive': 1, 'managing': 1, 'stockings': 1, 'salt': 3, 'trembled': 2, 'laws': 7, 'walking': 5, 'show': 3, 'cheap': 1, 'discovered': 1, 'bright': 7, 'corner': 1, 'fifth': 1, 'curled': 2, 'busily': 4, 'histories': 1, 'considerable': 2, 'coaxing': 1, 'tears': 5, 'wood': 2, 'posted': 5, 'shrill': 3, 'hypertext': 1, 'dispute': 2, 'get': 43, 'hiss': 1, 'mission': 4, 'cannot': 5, 'nearly': 12, 'seldom': 1, 'morning': 1, 'stupid': 1, 'liable': 1, 'executes': 1, 'finishing': 1, 'where': 13, 'deletions': 1, 'declared': 1, 'crumbs': 1, 'burst': 1, 'pennyworth': 2, 'fanned': 1, 'asleep': 4, 'violates': 1, 'wonder': 15, 'ways': 2, 'jumped': 5, 'pencil': 1, 'label': 1, 'teacup': 3, 'behind': 12, 'between': 6, 'cautiously': 2, 'reading': 3, 'across': 5, 'whispered': 4, 'notice': 8, 'queerest': 1, 'killing': 1, 'lefthand': 2, 'gratefully': 1, 'singers': 1, 'come': 26, 'croqueted': 1, 'blame': 1, 'dates': 1, 'many': 14, 'stupidest': 1, 'quiet': 2, 'nile': 1, 'blasts': 2, 'personal': 2, 'loudly': 2, 'disappointment': 1, 'railway': 1, 'expression': 1, 'comes': 1, 'riddle': 1, 'among': 12, 'loveliest': 1, 'sulky': 2, 'pop': 1, 'stretched': 2, 'learning': 2, 'ordered': 2, 'custody': 2, 'muttered': 2, 'uglify': 1, 'cares': 2, 'suppressed': 3, 'mark': 2, 'punished': 1, 'judging': 1, 'hardly': 12, 'mary': 3, 'wants': 2, 'direction': 2, 'thousand': 2, 'flurry': 1, 'evidence': 4, 'those': 11, 'granted': 1, 'case': 4, 'myself': 2, 'folding': 1, 'turtles': 1, 'these': 16, 'sobbed': 1, 'proves': 2, 'squeezed': 1, 'invited': 1, 'ein': 1, 'donors': 1, 'rubbing': 2, 'engaged': 1, 'middle': 3, 'pressing': 1, 'contract': 1, 'heels': 1, 'return': 3, 'worry': 1, 'different': 5, 'paw': 1, 'pay': 1, 'edwin': 1, 'same': 22, 'check': 2, 'speech': 1, 'arguments': 1, 'physical': 2, 'week': 2, 'finish': 4, 'director': 1, 'persons': 1, 'running': 8, 'changing': 2, 'passing': 1, 'complained': 1, 'charges': 1, 'roughly': 1, 'without': 32, 'grinned': 2, 'bottle': 7, 'summer': 2, 'being': 19, 'generally': 5, 'rest': 9, 'violent': 2, 'growled': 1, 'kill': 1, 'touch': 1, 'speed': 1, 'blow': 2, 'detach': 1, 'dipped': 2, 'widest': 2, 'hint': 1, 'thinking': 10, 'rose': 1, 'seems': 4, 'except': 7, 'confirmed': 1, 'verse': 1, 'treatment': 1, 'prominently': 2, 'struck': 2, 'real': 3, 'around': 2, 'kills': 1, 'read': 11, 'lowing': 1, 'dark': 3, 'politely': 1, 'world': 6, 'earls': 2, 'accepted': 1, 'lady': 2, 'vague': 1, 'dare': 5, 'tremulous': 1, 'draggled': 1, 'donations': 14, 'either': 7, 'passionate': 1, 'reduced': 1, 'twelve': 2, 'shillings': 1, 'calculated': 1, 'lobster': 5, 'kings': 1, 'mustard': 2, 'provided': 4, 'legal': 2, 'critical': 1, 'expressing': 1, 'knife': 1, 'considering': 3, 'felt': 23, 'reasonable': 2, 'business': 3, 'fitness': 1, 'broken': 5, 'references': 2, 'throw': 3, 'on': 152, 'subdued': 1, 'oh': 6, 'of': 610, 'violence': 1, 'shrimp': 1, 'stand': 4, 'knave': 7, 'act': 1, 'mixed': 2, 'gregory': 1, 'notifies': 1, 'or': 143, 'imitated': 1, 'quietly': 4, 'burning': 1, 'trot': 1, 'trademark': 4, 'spreading': 1, 'rising': 1, 'determine': 1, 'dreaming': 1, 'england': 1, 'shrinking': 4, 'your': 69, 'her': 208, 'there': 66, 'start': 2, 'cats': 9, 'low': 7, 'lot': 1, 'jaws': 1, 'attends': 1, 'mercia': 2, 'fish': 2, 'enough': 10, 'mice': 3, 'trying': 11, 'with': 217, 'copied': 2, 'faster': 1, 'rush': 2, 'october': 1, 'tones': 2, 'grass': 2, 'agree': 11, 'gone': 9, 'fright': 1, 'taste': 2, 'frighten': 1, 'moved': 4, 'deep': 5, 'general': 6, 'as': 258, 'bawled': 1, 'at': 220, 'file': 2, 'walks': 1, 'watched': 2, 'again': 13, 'rubbed': 1, 'tight': 1, 'implied': 1, 'remarks': 1, 'you': 332, 'puppy': 5, 'poor': 26, 'indemnify': 1, 'oneself': 1, 'inquired': 1, 'uncorked': 1, 'remarked': 1, 'contradicted': 1, 'includes': 1, 'waving': 5, 'gutenberg': 22, 'important': 4, 'included': 2, 'brass': 1, 'sneeze': 1, 'pool': 7, 'sobbing': 2, 'tricks': 1, 'having': 10, 'principal': 1, 'original': 1, 'all': 173, 'forget': 2, 'pointing': 3, 'caused': 2, 'month': 1, 'dish': 3, 'follow': 2, 'research': 1, 'children': 5, 'whiting': 3, 'dreadful': 1, 'ravens': 1, 'hunting': 3, 'startled': 2, 'encourage': 1, 'opportunities': 1, 'to': 782, 'tail': 3, 'solicit': 2, 'crimson': 2, 'sound': 3, 'worse': 2, 'sitting': 10, 'very': 140, 'fan': 8, 'minded': 1, 'hatching': 1, 'fall': 6, 'washing': 1, 'list': 2, 'joined': 2, 'large': 32, 'sang': 2, 'sand': 1, 'small': 10, 'indemnity': 1, 'familiarly': 1, 'rats': 1, 'ten': 5, 'tea': 5, 'past': 1, 'rate': 4, 'pass': 1, 'further': 2, 'creatures': 6, 'will': 37, 'what': 92, 'stood': 7, 'darkness': 1, 'clock': 1, 'deeply': 1, 'section': 7, 'stool': 1, 'stoop': 1, 'version': 1, 'nurse': 1, 'public': 9, 'full': 19, 'compilation': 1, 'loose': 2, 'hours': 3, 'affectionately': 1, 'directions': 1, 'search': 2, 'deductible': 1, 'tortoise': 1, 'difficulty': 3, 'stretching': 1, 'memorandum': 1, 'soldier': 1, 'periodic': 1, 'murdering': 1, 'narrow': 1, 'followed': 8, 'family': 1, 'suddenly': 10, 'clapping': 1, 'usurpation': 1, 'put': 31, 'toys': 1, 'thatched': 1, 'eye': 4, 'takes': 3, 'injure': 1, 'faint': 1, 'two': 22, 'damaged': 1, 'taken': 4, 'more': 40, 'flat': 1, 'wretched': 2, 'door': 15, 'knows': 2, 'company': 1, 'broke': 2, 'particular': 3, 'known': 1, 'hurry': 4, 'producing': 1, 'glad': 11, 'cunning': 1, 'none': 3, 'include': 1, 'hour': 2, 'sulkily': 2, 'created': 2, 'offended': 7, 'remain': 2, 'sudden': 5, 'nine': 4, 'indicating': 1, 'learn': 5, 'obtain': 3, 'history': 1, 'beautiful': 8, 'feebly': 1, 'rustled': 1, 'share': 2, 'accept': 1, 'states': 8, 'confirmation': 1, 'sense': 1, 'sharp': 6, 'garden': 4, 'information': 6, 'needs': 1, 'court': 5, 'rather': 25, 'disclaim': 1, 'magpie': 1, 'maps': 1, 'footman': 7, 'creature': 2, 'skurried': 1, 'tried': 18, 'advice': 1, 'derived': 1, 'purring': 1, 'coming': 5, 'gardeners': 4, 'pleaded': 3, 'unlink': 1, 'hedgehogs': 1, 'a': 670, 'short': 4, 'crowded': 5, 'loud': 3, 'eats': 1, 'pleasure': 2, 'dream': 3, 'playing': 2, 'replied': 14, 'help': 11, 'incessantly': 1, 'flowers': 2, 'soon': 24, 'held': 4, 'paper': 4, 'through': 15, 'committed': 1, 'smiling': 2, 'its': 63, 'roots': 1, 'fanning': 1, 'forwards': 1, 'pray': 1, 'buttercup': 1, 'actually': 1, 'late': 3, 'harmless': 1, 'parts': 1, 'might': 27, 'good': 23, 'somebody': 4, 'unrolled': 2, 'noticing': 1, 'foot': 5, 'executions': 2, 'easily': 4, 'always': 12, 'rattle': 1, 'fluttered': 1, 'someone': 1, 'stopped': 3, 'found': 31, 'repeating': 3, 'pleasanter': 1, 'heavy': 2, 'status': 4, 'harm': 1, 'transcribe': 1, 'begged': 1, 'house': 8, 'hare': 16, 'hard': 8, 'idea': 14, 'duchess': 15, 'punitive': 1, 'scratching': 1, 'hart': 1, 'really': 9, 'anxious': 2, 'dears': 1, 'missed': 2, 'wondered': 1, 'rearing': 1, 'since': 4, 'pigeon': 6, 'trusts': 1, 'print': 1, 'crouched': 1, 'upon': 28, 'guess': 2, 'pleasant': 1, 'extraordinary': 2, 'reason': 8, 'imagine': 2, 'ask': 7, 'rises': 1, 'beginning': 12, 'thrown': 1, 'pairs': 1, 'computers': 1, 'curtsey': 1, 'terribly': 1, 'expecting': 3, 'leading': 1, 'fallen': 4, 'porpoise': 1, 'slipped': 2, 'feel': 8, 'dinn': 1, 'number': 8, 'fancy': 3, 'feet': 11, 'done': 10, 'shilling': 1, 'fees': 2, 'miss': 1, 'story': 3, 'heads': 8, 'redistributing': 2, 'twenty': 1, 'least': 7, 'paint': 1, 'wonderful': 2, 'passed': 4, 'hundred': 1, 'recovered': 2, 'bowed': 3, 'relieved': 1, 'uncommonly': 1, 'immediate': 3, 'procession': 2, 'luckily': 1, 'part': 5, 'believe': 8, 'king': 28, 'kind': 6, 'grew': 1, 'kindly': 1, 'double': 1, 'grey': 1, 'i': 260, 'stalk': 1, 'treated': 1, 'declare': 1, 'executioner': 3, 'uncomfortable': 1, 'dainties': 1, 'defect': 3, 'livery': 1, 'murder': 1, 'fading': 1, 'sell': 1, 'lie': 2, 'dancing': 1, 'commotion': 1, 'officers': 3, 'lit': 1, 'swallowing': 1, 'breeze': 1, 'finding': 3, 'frontispiece': 1, 'play': 8, 'added': 20, 'eggs': 1, 'reach': 4, 'most': 11, 'plan': 1, 'eaten': 1, 'nothing': 22, 'accepting': 1, 'extremely': 1, 'performances': 1, 'clear': 2, 'sometimes': 4, 'charitable': 1, 'clean': 1, 'daresay': 1, 'lying': 8, 'particularly': 1, 'fond': 3, 'scattered': 1, 'croqueting': 1, 'fine': 2, 'find': 20, 'faces': 2, 'copyright': 13, 'grazed': 1, 'justice': 1, 'nervous': 4, 'distributed': 3, 'unwillingly': 1, 'unhappy': 1, 'pretty': 1, 'money': 3, 'shepherd': 1, 'his': 95, 'hit': 2, 'meanwhile': 1, 'express': 1, 'trees': 5, 'fancying': 1, 'whistle': 1, 'courage': 1, 'hid': 1, 'pretending': 1, 'shared': 2, 'him': 23, 'chimney': 2, 'cry': 3, 'remove': 1, 'gloves': 5, 'common': 1, 'cease': 1, 'engraved': 1, 'nibbled': 2, 'wrote': 3, 'howled': 1, 'throwing': 2, 'see': 51, 'hoarsely': 1, 'are': 59, 'sea': 2, 'close': 12, 'bark': 2, 'arm': 7, 'feared': 1, 'shower': 2, 'learnt': 2, 'library': 1, 'pictures': 4, 'please': 12, 'smallest': 2, 'various': 2, 'donate': 1, 'numerous': 1, 'kneel': 1, 'knowing': 2, 'latin': 1, 'creating': 4, 'timidly': 2, 'vanishing': 1, 'both': 16, 'last': 27, 'license': 11, 'panther': 3, 'became': 2, 'forgotten': 6, 'whole': 13, 'finds': 1, 'tittered': 1, 'sentenced': 1, 'cakes': 1, 'majesty': 2, 'drunk': 2, 'simple': 5, 'manners': 1, 'whatever': 1, 'hollow': 1, 'alone': 3, 'unfolded': 2, 'simply': 2, 'supple': 1, 'patiently': 1, 'described': 1, 'acceptance': 1, 'whom': 2, 'dropping': 1, 'pg': 1, 'collected': 2, 'meeting': 1, 'woke': 1, 'resting': 2, 'lived': 3, 'gay': 1, 'exempt': 2, 'remark': 3, 'else': 8, 'lives': 1, 'demand': 1, 'despite': 1, 'mournful': 1, 'furrow': 1, 'fur': 2, 'look': 25, 'solid': 1, 'straight': 2, 'bill': 2, 'forgetting': 3, 'while': 21, 'pressed': 3, 'leaning': 2, 'fun': 1, 'pack': 4, 'swim': 1, 'hoping': 3, 'violently': 2, 'itself': 8, 'beautifully': 2, 'ready': 7, 'funny': 3, 'righthand': 1, 'choking': 1, 'grant': 1, 'belong': 1, 'rules': 4, 'copying': 2, 'grand': 2, 'advise': 1, 'used': 15, 'snail': 1, 'discontinue': 1, 'yesterday': 2, 'patriotic': 1, 'moment': 21, 'flown': 1, 'moving': 3, 'purpose': 1, 'uneasily': 1, 'timid': 3, 'expend': 1, 'older': 2, 'person': 6, 'edge': 3, 'regulating': 1, 'grins': 1, 'redistribution': 1, 'clasped': 1, 'lobsters': 3, 'morsel': 1, 'rumbling': 1, 'questions': 2, 'using': 6, 'cut': 5, 'waste': 1, 'also': 3, 'hated': 1, 'alternate': 1, 'eager': 3, 'internal': 1, 'grin': 1, 'crying': 2, 'remaining': 2, 'surprised': 6, 'march': 31, 'format': 4, 'showing': 2, 'matters': 2, 'game': 6, 'entangled': 2, 'bit': 8, 'imposed': 1, 'shaped': 2, 'follows': 2, 'incidental': 1, 'chorus': 2, 'eel': 1, 'provoking': 1, 'foolish': 1, 'walrus': 1, 'often': 4, 'obliged': 3, 'lodging': 1, 'some': 51, 'remarking': 2, 'understood': 1, 'towards': 1, 'hurriedly': 2, 'sight': 2, 'wonderland': 5, 'curious': 16, 'capering': 1, 'newsletter': 1, 'pale': 2, 'saucer': 1, 'savage': 3, 'nonproprietary': 1, 'shall': 24, 'laughing': 1, 'be': 157, 'run': 4, 'remembered': 5, 'processing': 1, 'agreement': 9, 'refused': 1, 'nowhere': 2, 'by': 76, 'bristling': 1, 'anything': 16, 'wore': 1, 'prove': 1, 'straightened': 1, 'classics': 1, 'silence': 4, 'undoing': 1, 'letter': 1, 'into': 67, 'within': 5, 'nonsense': 1, 'jurymen': 2, 'piteous': 1, 'lesson': 1, 'signifies': 1, 'sad': 2, 'question': 7, 'long': 31, 'consultation': 1, 'suit': 3, 'sections': 1, 'files': 2, 'royalties': 1, 'himself': 4, 'inches': 6, 'registered': 2, 'applicable': 3, 'alive': 1, 'atom': 2, 'upright': 1, 'line': 1, 'dull': 2, 'raising': 1, 'peeped': 3, 'directed': 2, 'ut': 1, 'up': 83, 'us': 10, 'accustomed': 1, 'called': 15, 'yelled': 1, 'constant': 3, 'roared': 1, 'specified': 2, 'skimming': 1, 'graceful': 1, 'denying': 1, 'codes': 1, 'puzzling': 4, 'backs': 1, 'occasional': 1, 'ornamented': 2, 'mock': 56, 'nice': 5, 'brushing': 1, 'draw': 4, 'energetic': 1, 'gross': 1, 'favourite': 1, 'faintly': 1, 'occurred': 2, 'william': 3, 'meaning': 7, 'smiled': 2, 'fishes': 1, 'song': 1, 'sides': 4, 'ago': 1, 'land': 1, 'practically': 1, 'age': 2, 'required': 1, 'walked': 10, 'scream': 1, 'impatient': 1, 'neighbouring': 1, 'far': 9, 'international': 1, 'sounded': 5, 'once': 19, 'rabbit': 30, 'splashing': 2, 'go': 39, 'contributions': 2, 'cupboards': 2, 'seemed': 27, 'peering': 1, 'young': 5, 'send': 2, 'nose': 1, 'literary': 13, 'breach': 2, 'pleasing': 1, 'sent': 3, 'retire': 1, 'presently': 2, 'flinging': 1, 'outside': 3, 'spoon': 1, 'putting': 3, 'rattling': 2, 'telling': 2, 'continued': 7, 'severely': 3, 'redistribute': 1, 'magic': 1, 'respectful': 1, 'shock': 1, 'michael': 2, 'try': 12, 'tunnel': 1, 'race': 2, 'insolence': 1, 'disclaimer': 3, 'concluded': 2, 'uncomfortably': 1, 'sensation': 1, 'boots': 3, 'licensed': 1, 'picked': 3, 'odd': 1, 'formats': 2, 'giving': 2, 'squeeze': 1, 'access': 10, 'paying': 2, 'waiting': 8, 'experiment': 1, 'capital': 4, 'bird': 1, 'poky': 1, 'body': 2, 'sharks': 1, 'melancholy': 6, 'led': 4, 'chose': 1, 'upsetting': 1, 'got': 45, 'beasts': 1, 'commercial': 1, 'believed': 1, 'let': 13, 'sink': 1, 'others': 4, 'slates': 1, 'sing': 4, 'invented': 1, 'fifteen': 1, 'settling': 1, 'vinegar': 1, 'great': 39, 'receive': 3, 'involved': 1, 'larger': 3, 'leaving': 1, 'climb': 1, 'makes': 12, 'examining': 1, 'named': 1, 'claim': 1, 'complying': 3, 'manage': 6, 'dormouse': 23, 'addressed': 2, 'names': 1, 'duck': 2, 'newby': 1, 'apply': 1, 'nibbling': 3, 'singing': 2, 'standing': 1, 'use': 27, 'fee': 8, 'from': 46, 'archbishop': 2, 'readable': 2, 'frog': 1, 'next': 22, 'few': 10, 'doubt': 1, 'crab': 1, 'doubling': 1, 'eaglet': 1, 'sort': 17, 'throne': 1, 'clever': 1, 'started': 2, 'inclined': 1, 'about': 92, 'carrying': 2, 'labelled': 1, 'ashamed': 2, 'baby': 6, 'account': 1, 'balls': 1, 'animals': 3, 'panted': 1, 'locks': 1, 'this': 150, 'when': 74, 'shrieked': 1, 'pour': 1, 'curtseying': 1, 'arches': 3, 'anywhere': 3, 'crossed': 3, 'meet': 3, 'fetch': 5, 'bend': 1, 'proprietary': 1, 'bent': 1, 'links': 3, 'plate': 2, 'ferrets': 1, 'tax': 6, 'dripping': 1, 'pieces': 2, 'high': 4, 'professor': 1, 'pulling': 1, 'something': 15, 'bones': 1, 'paws': 2, 'trumpet': 1, 'pretexts': 1, 'educational': 1, 'curving': 1, 'defective': 2, 'sit': 6, 'six': 2, 'delay': 1, 'located': 4, 'animal': 1, 'instead': 2, 'watch': 6, 'waters': 1, 'tied': 1, 'pigs': 1, 'minding': 1, 'multiplication': 1, 'frowning': 3, 'interrupted': 5, 'trembling': 6, 'chief': 2, 'allow': 3, 'crawling': 1, 'furious': 1, 'volunteers': 6, 'flapper': 1, 'bathing': 1, 'closely': 1, 'move': 2, 'doubtful': 2, 'produced': 2, 'including': 8, 'mentioned': 3, 'exclusion': 1, 'permanent': 1, 'choose': 1, 'latitude': 2, 'derivative': 3, 'originator': 1, 'crash': 1, 'practice': 1, 'muddle': 1, 'flew': 1, 'kiss': 1, 'hands': 6, 'front': 2, 'day': 11, 'toes': 1, 'sneezed': 1, 'delightful': 2, 'accounts': 1, 'shaking': 3, 'doing': 3, 'globe': 1, 'sands': 1, 'measure': 1, 'our': 12, 'wander': 1, 'witness': 4, 'out': 98, 'sobs': 2, 'hatters': 1, 'exporting': 1, 'cause': 3, 'red': 1, 'oblong': 1, 'shut': 4, 'undo': 1, 'attending': 2, 'collection': 3, 'prepare': 1, 'gallons': 1, 'could': 66, 'rustling': 1, 'times': 6, 'conversation': 4, 'length': 1, 'produce': 1, 'trickling': 1, 'sorrowful': 2, 'clamour': 1, 'plainly': 1, 'blown': 1, 'pitied': 1, 'soothing': 1, 'set': 23, 'representations': 1, 'owner': 3, 'blows': 1, 'ancient': 1, 'sadly': 2, 'strict': 1, 'ordering': 2, 'vulgar': 1, 'their': 51, 'perfectly': 4, 'explanation': 1, 'exactly': 6, 'branches': 1, 'herself': 40, 'neck': 6, 'bother': 1, 'yawned': 2, 'beg': 8, 'submitted': 1, 'whenever': 1, 'listeners': 1, 'individual': 4, 'providing': 4, 'result': 1, 'thistle': 1, 'tidy': 1, 'gently': 3, 'tide': 1, 'comfortably': 1, 'have': 82, 'linked': 2, 'afraid': 9, 'dishes': 1, 'bough': 1, 'which': 47, 'blades': 1, 'unless': 5, 'centre': 1, 'who': 57, 'prisoner': 1, 'alarmed': 1, 'why': 7, 'deny': 2, 'gather': 1, 'upset': 2, 'face': 7, 'looked': 45, 'absurd': 1, 'painting': 2, 'fact': 2, 'agreed': 1, 'bring': 2, 'planning': 1, 'soldiers': 8, 'fear': 4, 'longer': 2, 'pleased': 5, 'chanced': 1, 'nearer': 4, 'ear': 2, 'based': 2, 'knowledge': 1, 'jar': 2, 'should': 29, 'employee': 1, 'fumbled': 1, 'handsome': 1, 'hope': 4, 'indignant': 1, 'meant': 4, 'prosecute': 1, 'means': 5, 'beat': 4, 'convert': 1, 'muttering': 3, 'prohibition': 1, 'ones': 1, 'words': 14, 'interpreted': 1, 'following': 3, 'calling': 1, 'stuff': 1, 'she': 518, 'contain': 2, 'rapped': 1, 'fixed': 1, 'generations': 1, 'available': 1, 'shedding': 1, 'official': 3, 'exists': 1, 'lazy': 1, 'edition': 1, 'computer': 2, 'desperate': 1, 'forepaws': 1, 'closer': 1, 'pattern': 1, 'state': 6, 'beautify': 1, 'identification': 1, 'closed': 2, 'neither': 2, 'email': 3, 'opening': 3, 'hurrying': 1, 'key': 5, 'group': 1, 'precious': 1, 'staring': 3, 'restrictions': 2, 'sharply': 1, 'freely': 4, 'taking': 5, 'swallow': 1, 'otherwise': 2, 'walk': 4, 'subscribe': 1, 'table': 8, 'addition': 1, 'thanked': 1, 'copies': 7, 'immense': 1, 'poured': 1, 'slowly': 6, 'certain': 4, 'curtain': 1, 'feather': 1, 'improve': 1, 'remedies': 1, 'shoulders': 2, 'am': 13, 'neighbour': 1, 'finished': 7, 'ensuring': 1, 'smoking': 2, 'an': 60, 'present': 1, 'volunteer': 1, 'riddles': 1, 'vanilla': 2, 'appearance': 1, 'grinning': 1, 'riper': 1, 'owns': 2, 'wild': 2, 'advisable': 1, 'instantly': 3, 'almost': 8, 'site': 4, 'helped': 1, 'against': 10, 'sits': 1, 'tumbled': 1, 'kissed': 1, 'perhaps': 12, 'began': 47, 'brightened': 2, 'strange': 4, 'tumbling': 2, 'digging': 3, 'largest': 1, 'party': 8, 'glaring': 1, 'difficult': 2, 'elbows': 1, 'spell': 1, 'drink': 4, 'disagree': 1, 'effect': 1, 'sooner': 2, 'cheshire': 6, 'off': 40, 'nevertheless': 1, 'dinah': 4, 'well': 27, 'fighting': 1, 'thought': 63, 'english': 2, 'position': 2, 'raving': 2, 'drawing': 1, 'usual': 1, 'lest': 1, 'taller': 1, 'barking': 1, 'cried': 18, 'less': 3, 'executive': 1, 'liked': 3, 'cries': 1, 'distant': 2, 'parchment': 2, 'web': 6, 'field': 1, 'sky': 1, 'lake': 1, 'book': 3, 'adoption': 1, 'maintaining': 1, 'wet': 1, 'ought': 13, 'kick': 2, 'raven': 1, 'ledge': 1, 'whispers': 1, 'royalty': 3, 'five': 2, 'know': 46, 'immediately': 3, 'flamingo': 2, 'like': 75, 'lost': 1, 'sizes': 1, 'crawled': 1, 'payments': 3, 'lose': 1, 'become': 5, 'works': 22, 'soft': 1, 'page': 2, 'replacement': 5, 'accessible': 1, 'because': 13, 'authority': 2, 'hair': 5, 'choosing': 1, 'proper': 3, 'home': 1, 'happens': 2, 'est': 1, 'avoid': 1, 'kettle': 1, 'leap': 1, 'does': 5, 'saucepan': 1, 'belt': 1, 'warranties': 3, 'pepper': 6, 'noise': 3, 'inaccurate': 1, 'reaching': 2, 'choked': 3, 'gained': 1, 'sister': 5, 'carried': 4, 'getting': 21, 'gazing': 1, 'tongue': 1, 'introduced': 1, 'swimming': 2, 'warranty': 1, 'owl': 2, 'own': 9, 'screamed': 4, 'guard': 1, 'tiny': 4, 'additions': 1, 'quickly': 2, 'charities': 1, 'mississippi': 1, 'ridge': 1, 'additional': 4, 'rushed': 1, 'noticed': 7, 'spread': 4, 'much': 41, 'powdered': 1, 'receipt': 2, 'north': 1, 'but': 121, 'repeated': 8, 'goals': 1, 'highest': 1, 'eat': 16, 'he': 113, 'made': 29, 'wise': 2, 'whether': 11, 'wish': 22, 'scroll': 1, 'signed': 2, 'placed': 1, 'below': 1, 'distribution': 6, 'piece': 5, 'minutes': 7, 'stirring': 2, 'diligently': 1, 'rightly': 1, 'whisper': 1, 'pie': 1, 'pig': 1, 'twist': 2, 'trotting': 2, 'girl': 3, 'variety': 1, 'corporation': 1, 'other': 40, 'special': 1, 'branch': 1, 'suppress': 1, 'ebooks': 3, 'conclusion': 1, 'repeat': 6, 'june': 1, 'stay': 4, 'chance': 4, 'teacups': 2, 'throughout': 1, 'friends': 2, 'grunted': 3, 'yelp': 1, 'tinkling': 1, 'lasted': 1, 'rule': 2, 'pictured': 1, 'understand': 5, 'trims': 1, 'baked': 1, 'indirectly': 1}\n"
     ]
    }
   ],
   "source": [
    "import string\n",
    "\n",
    "aliceFile = open(\"AliceInWonderland.txt\")\n",
    "\n",
    "wordCounts = {}\n",
    "\n",
    "for line in aliceFile:\n",
    "    words = line.strip().split()\n",
    "\n",
    "    for word in words:\n",
    "        \n",
    "        word = word.lower()\n",
    "        \n",
    "        invalid_letter = False\n",
    "        for letter in word:\n",
    "            \n",
    "            if letter not in string.letters:\n",
    "                invalid_letter = True\n",
    "                break\n",
    "                \n",
    "        if invalid_letter == True:\n",
    "            continue\n",
    "        \n",
    "                \n",
    "        if wordCounts.get(word) == None:\n",
    "            wordCounts[word] = 1\n",
    "        else:\n",
    "            wordCounts[word] += 1\n",
    "            \n",
    "print wordCounts"
   ]
  },
  {
   "cell_type": "code",
   "execution_count": 50,
   "metadata": {
    "collapsed": true
   },
   "outputs": [],
   "source": [
    "def getEditDistance(w):\n",
    "    bestMatch = None\n",
    "    minCost= None\n",
    "    \n",
    "    for word in wordCounts:\n",
    "        rangeLen= min(len(w), len(word))\n",
    "        cost= 0\n",
    "        \n",
    "        for i in range(rangeLen): #going through every letter in word\n",
    "            \n",
    "            if w[i]==word[i]:\n",
    "                continue\n",
    "            else:\n",
    "                cost += 1\n",
    "        cost += abs(len(w)-len(word))\n",
    "        if minCost == None or cost < minCost:\n",
    "            \n",
    "            minCost = cost\n",
    "            bestMatch = [word]\n",
    "            bestMatch.append(word)\n",
    "            \n",
    "        if minCost == cost:\n",
    "            bestMatch.append(word)\n",
    "    return \"Best Match: %s, Cost: %s\" % (minCost, bestMatch)"
   ]
  },
  {
   "cell_type": "code",
   "execution_count": 52,
   "metadata": {},
   "outputs": [
    {
     "name": "stdout",
     "output_type": "stream",
     "text": [
      "Best Match: 2, Cost: ['mean', 'mean', 'mean', 'been', 'burn', 'brave', 'than', 'brass', 'pray', 'plan', 'grant', 'grand', 'grin', 'draw', 'crab', 'bring', 'beat', 'branch']\n"
     ]
    }
   ],
   "source": [
    "print getEditDistance(\"bran\")"
   ]
  },
  {
   "cell_type": "code",
   "execution_count": 22,
   "metadata": {},
   "outputs": [
    {
     "name": "stdout",
     "output_type": "stream",
     "text": [
      "word is a valid word\n"
     ]
    }
   ],
   "source": [
    "wordToCorrect= 'alice'\n",
    "\n",
    "if wordCounts.get(\"alice\") != None:\n",
    "    print \"word is a valid word\""
   ]
  },
  {
   "cell_type": "markdown",
   "metadata": {},
   "source": [
    "Lab Exercises"
   ]
  },
  {
   "cell_type": "markdown",
   "metadata": {},
   "source": [
    "When try results in an error- it goes to the except "
   ]
  },
  {
   "cell_type": "code",
   "execution_count": 57,
   "metadata": {},
   "outputs": [
    {
     "name": "stdout",
     "output_type": "stream",
     "text": [
      "1.5\n"
     ]
    }
   ],
   "source": [
    "#2\n",
    "\n",
    "def multiply(num1, num2):\n",
    "    try:\n",
    "        type(num1)==int\n",
    "        type(num2)==int\n",
    "    except ValueError as err:\n",
    "        print err\n",
    "    return num1* num2\n",
    "\n",
    "def add(num1, num2):\n",
    "    try:\n",
    "        type(num1)==int\n",
    "        type(num2)==int\n",
    "    except ValueError as err:\n",
    "        print err\n",
    "    return num1 + num2\n",
    "\n",
    "print multiply(1, 1.5)"
   ]
  },
  {
   "cell_type": "code",
   "execution_count": 60,
   "metadata": {},
   "outputs": [
    {
     "name": "stdout",
     "output_type": "stream",
     "text": [
      "Enter a number: 5\n",
      "Enter a number: 0\n",
      "This obviously won't work\n"
     ]
    }
   ],
   "source": [
    "#3\n",
    "\n",
    "try:\n",
    "    num1= int(raw_input(\"Enter a number: \"))\n",
    "    num2= int(raw_input(\"Enter a number: \"))\n",
    "    division = num1/ num2\n",
    "except ZeroDivisionError:\n",
    "    print \"This obviously won't work\""
   ]
  },
  {
   "cell_type": "code",
   "execution_count": null,
   "metadata": {
    "collapsed": true
   },
   "outputs": [],
   "source": [
    "#4\n",
    "\n"
   ]
  }
 ],
 "metadata": {
  "kernelspec": {
   "display_name": "Python 2",
   "language": "python",
   "name": "python2"
  },
  "language_info": {
   "codemirror_mode": {
    "name": "ipython",
    "version": 2
   },
   "file_extension": ".py",
   "mimetype": "text/x-python",
   "name": "python",
   "nbconvert_exporter": "python",
   "pygments_lexer": "ipython2",
   "version": "2.7.14"
  }
 },
 "nbformat": 4,
 "nbformat_minor": 2
}
