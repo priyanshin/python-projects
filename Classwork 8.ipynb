{
 "cells": [
  {
   "cell_type": "markdown",
   "metadata": {},
   "source": [
    "Create an external module that can do the following operations\n",
    "     1) addNumbers\n",
    "     2) multiplyNumbers\n",
    "Write a python program that uses the random library to generate a set of numbers, imports the module created above and computes the sum and product of those numbers"
   ]
  },
  {
   "cell_type": "code",
   "execution_count": 8,
   "metadata": {},
   "outputs": [
    {
     "name": "stdout",
     "output_type": "stream",
     "text": [
      "[13, 7, 10, 16, 14, 15, 11, 3, 12, 3]\n",
      "[36, 0, 16, 64, 45, 56, 28, 2, 36, 0]\n"
     ]
    }
   ],
   "source": [
    "# Lab Exercise #4\n",
    "\n",
    "import random\n",
    "\n",
    "num1= []\n",
    "num2= []\n",
    "for i in range(10):\n",
    "    num1.append(int(random.random()*10))\n",
    "    num2.append(int(random.random()*10))\n",
    "add = map(lambda x,y: x+y, num1, num2)\n",
    "multiply = map(lambda x,y: x*y, num1, num2)\n",
    "print add\n",
    "print multiply\n"
   ]
  }
 ],
 "metadata": {
  "kernelspec": {
   "display_name": "Python 2",
   "language": "python",
   "name": "python2"
  },
  "language_info": {
   "codemirror_mode": {
    "name": "ipython",
    "version": 2
   },
   "file_extension": ".py",
   "mimetype": "text/x-python",
   "name": "python",
   "nbconvert_exporter": "python",
   "pygments_lexer": "ipython2",
   "version": "2.7.14"
  }
 },
 "nbformat": 4,
 "nbformat_minor": 2
}
