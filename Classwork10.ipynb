{
 "cells": [
  {
   "cell_type": "code",
   "execution_count": 1,
   "metadata": {
    "collapsed": true
   },
   "outputs": [],
   "source": [
    "# class Employee:\n",
    "#     pass      \n",
    "class Employee:\n",
    "    def __init__(self, name, age):\n",
    "        \n",
    "        self.name= name\n",
    "        self.age= age\n",
    "        self.salary=0\n",
    "    def updateSalary(self, salary):\n",
    "        if salary < 100000:\n",
    "            self.__salary= salary\n",
    "        else:\n",
    "            print \"Invalid salary amount.\"\n",
    "    def displayInfo(self):\n",
    "        print \"Name: \", self.name\n",
    "        print \"Age: \", self.age\n",
    "        print \"Salary: \", self.__salary"
   ]
  },
  {
   "cell_type": "code",
   "execution_count": 2,
   "metadata": {
    "collapsed": true
   },
   "outputs": [],
   "source": [
    "# class Employee:\n",
    "#     pass      \n",
    "class Employee:\n",
    "    count = 0\n",
    "    \n",
    "    def __init__(self, name, age):\n",
    "        \n",
    "        self.name= name\n",
    "        self.age= age\n",
    "        self.salary=0\n",
    "        \n",
    "        Employee.count +=1\n",
    "    def updateSalary(self, salary):\n",
    "        if salary < 100000:\n",
    "            self.__salary= salary\n",
    "        else:\n",
    "            print \"Invalid salary amount.\"\n",
    "    def displayInfo(self):\n",
    "        print \"Name: \", self.name\n",
    "        print \"Age: \", self.age\n",
    "#         print \"Salary: \", self.__salary"
   ]
  },
  {
   "cell_type": "code",
   "execution_count": 3,
   "metadata": {
    "collapsed": true
   },
   "outputs": [],
   "source": [
    "emp_1= Employee(\"Bob\", 55)"
   ]
  },
  {
   "cell_type": "code",
   "execution_count": 4,
   "metadata": {
    "collapsed": true
   },
   "outputs": [],
   "source": [
    "emp_2= Employee(\"Harry\", 45)"
   ]
  },
  {
   "cell_type": "code",
   "execution_count": 5,
   "metadata": {},
   "outputs": [
    {
     "name": "stdout",
     "output_type": "stream",
     "text": [
      "Name:  Bob\n",
      "Age:  55\n"
     ]
    }
   ],
   "source": [
    "emp_1.displayInfo()"
   ]
  },
  {
   "cell_type": "code",
   "execution_count": 6,
   "metadata": {},
   "outputs": [
    {
     "name": "stdout",
     "output_type": "stream",
     "text": [
      "2\n"
     ]
    }
   ],
   "source": [
    "print Employee.count"
   ]
  },
  {
   "cell_type": "code",
   "execution_count": 7,
   "metadata": {
    "collapsed": true
   },
   "outputs": [],
   "source": [
    "class Number:\n",
    "    \n",
    "    def __init__(self, number):\n",
    "        self.number = number\n",
    "        \n",
    "    def displayInfo(self):\n",
    "        print\"Number: \", self.number\n",
    "    def __add__(self, rhs_number):\n",
    "        return Number(self.number+ rhs_number.number)\n",
    "    def __len__(self):\n",
    "        return len(str(self.number))\n",
    "#     def __str__(self):\n",
    "        "
   ]
  },
  {
   "cell_type": "code",
   "execution_count": 8,
   "metadata": {
    "collapsed": true
   },
   "outputs": [],
   "source": [
    "n1 = Number(35)"
   ]
  },
  {
   "cell_type": "code",
   "execution_count": 9,
   "metadata": {},
   "outputs": [
    {
     "name": "stdout",
     "output_type": "stream",
     "text": [
      "Number:  35\n"
     ]
    }
   ],
   "source": [
    "n1.displayInfo()"
   ]
  },
  {
   "cell_type": "code",
   "execution_count": 10,
   "metadata": {
    "collapsed": true
   },
   "outputs": [],
   "source": [
    "n2= Number(55)"
   ]
  },
  {
   "cell_type": "code",
   "execution_count": 11,
   "metadata": {
    "collapsed": true
   },
   "outputs": [],
   "source": [
    "n3=n1+n2"
   ]
  },
  {
   "cell_type": "code",
   "execution_count": 12,
   "metadata": {},
   "outputs": [
    {
     "name": "stdout",
     "output_type": "stream",
     "text": [
      "Number:  90\n"
     ]
    }
   ],
   "source": [
    "n3.displayInfo()"
   ]
  },
  {
   "cell_type": "code",
   "execution_count": 13,
   "metadata": {},
   "outputs": [
    {
     "data": {
      "text/plain": [
       "2"
      ]
     },
     "execution_count": 13,
     "metadata": {},
     "output_type": "execute_result"
    }
   ],
   "source": [
    "len(n3)"
   ]
  },
  {
   "cell_type": "code",
   "execution_count": 14,
   "metadata": {
    "collapsed": true
   },
   "outputs": [],
   "source": [
    "# class Employee:\n",
    "#     pass      \n",
    "class Employee(object):\n",
    "    def __init__(self, name, age):\n",
    "        \n",
    "        self.name= name\n",
    "        self.age= age\n",
    "        self.salary=0\n",
    "    def updateSalary(self, salary):\n",
    "        if salary < 100000:\n",
    "            self.__salary= salary\n",
    "        else:\n",
    "            print \"Invalid salary amount.\"\n",
    "    def displayInfo(self):\n",
    "        print \"Name: \", self.name\n",
    "        print \"Age: \", self.age\n",
    "        print \"Salary: \", self.__salary\n",
    "    def __str__ (self):\n",
    "        info= \"\\n Name:\", self.name"
   ]
  },
  {
   "cell_type": "code",
   "execution_count": 15,
   "metadata": {
    "collapsed": true
   },
   "outputs": [],
   "source": [
    "class FullTimeEmployee(Employee): #FullTimeEmployee is inheriting from Employee\n",
    "    def __init__(self, name, age, tenured):\n",
    "        \n",
    "        self.tenured = tenured\n",
    "        super(FullTimeEmployee, self).__init__(name, age) \n",
    "        #super takes from parent which in this case is Employee\n",
    "    def __str__(self):\n",
    "        \n",
    "        print \"Tenured: \", self.tenured\n",
    "        "
   ]
  },
  {
   "cell_type": "code",
   "execution_count": 16,
   "metadata": {},
   "outputs": [],
   "source": [
    "emp_1= FullTimeEmployee(\"Bob\", 45,True)"
   ]
  },
  {
   "cell_type": "markdown",
   "metadata": {},
   "source": [
    "Lab Exercises"
   ]
  },
  {
   "cell_type": "code",
   "execution_count": 17,
   "metadata": {
    "collapsed": true
   },
   "outputs": [],
   "source": [
    "# Exercise 1: Python Class with 4 member functions- add, subtract, multiply, divide\n",
    "\n",
    "class Functions():\n",
    "    def __init__(self, n1, n2):\n",
    "        self.n1 = n1\n",
    "        self.n2= n2\n",
    "    def add(self):\n",
    "        return self.n1 + self.n2\n",
    "    def multiply(self):\n",
    "        return self.n1 * self.n2\n",
    "    def subtract(self):\n",
    "        return self.n1 - self.n2\n",
    "    def divide(self):\n",
    "        return self.n1/self.n2\n",
    "    def __str__(self):\n",
    "        result = \"Sum: \" + str(self.add())\n",
    "        result += \"\\nProduct: \" + str(self.multiply())\n",
    "        result += \"\\nQuotient: \" + str(self.divide())\n",
    "        result += \"\\nDifference: \" + str(self.subtract())\n",
    "        return result"
   ]
  },
  {
   "cell_type": "code",
   "execution_count": 18,
   "metadata": {
    "collapsed": true
   },
   "outputs": [],
   "source": [
    "calc = Functions(2, 3)"
   ]
  },
  {
   "cell_type": "code",
   "execution_count": 19,
   "metadata": {},
   "outputs": [
    {
     "name": "stdout",
     "output_type": "stream",
     "text": [
      "Sum: 5\n",
      "Product: 6\n",
      "Quotient: 0\n",
      "Difference: -1\n"
     ]
    }
   ],
   "source": [
    "print calc\n"
   ]
  },
  {
   "cell_type": "markdown",
   "metadata": {},
   "source": [
    "Exercise 2:\n",
    "\n",
    "Write a Python class called Employee with the following properties. Initialize the attributes during class creation. Instantiate the class and invoke its methods\n",
    "\n",
    "Attributes:\n",
    "Name\n",
    "Age \n",
    "Salary\n",
    "\n",
    "Methods:\n",
    "getName\n",
    "getAge\n",
    "getSalary\n"
   ]
  },
  {
   "cell_type": "code",
   "execution_count": 20,
   "metadata": {
    "collapsed": true
   },
   "outputs": [],
   "source": [
    "class Employee1:\n",
    "    def __init__(self, name, age, salary):\n",
    "        \n",
    "        self.name= name\n",
    "        self.age= age\n",
    "        self.salary= salary\n",
    "    def getName(self):\n",
    "        return self.name\n",
    "    def getAge(self):\n",
    "        return self.age\n",
    "    def getSalary(self):\n",
    "        return self.salary"
   ]
  },
  {
   "cell_type": "code",
   "execution_count": 21,
   "metadata": {
    "collapsed": true
   },
   "outputs": [],
   "source": [
    "emp_4= Employee1(\"Harry\", 80, 500000)"
   ]
  },
  {
   "cell_type": "code",
   "execution_count": 22,
   "metadata": {},
   "outputs": [
    {
     "data": {
      "text/plain": [
       "500000"
      ]
     },
     "execution_count": 22,
     "metadata": {},
     "output_type": "execute_result"
    }
   ],
   "source": [
    "emp_4.getSalary()"
   ]
  },
  {
   "cell_type": "code",
   "execution_count": null,
   "metadata": {
    "collapsed": true
   },
   "outputs": [],
   "source": []
  },
  {
   "cell_type": "code",
   "execution_count": null,
   "metadata": {
    "collapsed": true
   },
   "outputs": [],
   "source": []
  }
 ],
 "metadata": {
  "kernelspec": {
   "display_name": "Python 2",
   "language": "python",
   "name": "python2"
  },
  "language_info": {
   "codemirror_mode": {
    "name": "ipython",
    "version": 2
   },
   "file_extension": ".py",
   "mimetype": "text/x-python",
   "name": "python",
   "nbconvert_exporter": "python",
   "pygments_lexer": "ipython2",
   "version": "2.7.14"
  }
 },
 "nbformat": 4,
 "nbformat_minor": 2
}
