{
 "cells": [
  {
   "cell_type": "markdown",
   "metadata": {},
   "source": [
    "# Homework 1- Priyanshi Nigam"
   ]
  },
  {
   "cell_type": "markdown",
   "metadata": {},
   "source": [
    "Coding Exercises"
   ]
  },
  {
   "cell_type": "code",
   "execution_count": 14,
   "metadata": {
    "scrolled": true
   },
   "outputs": [
    {
     "name": "stdout",
     "output_type": "stream",
     "text": [
      "5 6\n"
     ]
    }
   ],
   "source": [
    "# Exercise 3.1\n",
    "\n",
    "a=5\n",
    "b=6\n",
    "print a,b"
   ]
  },
  {
   "cell_type": "code",
   "execution_count": 7,
   "metadata": {},
   "outputs": [
    {
     "name": "stdout",
     "output_type": "stream",
     "text": [
      "Hello Oscar\n"
     ]
    }
   ],
   "source": [
    "# Exercise 3.2\n",
    "\n",
    "greeting = 'Hello'\n",
    "person = 'Oscar'\n",
    "\n",
    "# Exercise 3.3\n",
    "\n",
    "personalGreeting = greeting +' '+ person\n",
    "print personalGreeting\n"
   ]
  },
  {
   "cell_type": "code",
   "execution_count": 11,
   "metadata": {},
   "outputs": [
    {
     "name": "stdout",
     "output_type": "stream",
     "text": [
      "Please enter your age: 88\n",
      "Your age is greater than 35.\n"
     ]
    }
   ],
   "source": [
    "# Exercise 3.4/3.5\n",
    "\n",
    "age= raw_input(\"Please enter your age: \")\n",
    "\n",
    "# Exercise 3.6/3.7\n",
    "\n",
    "if age > 35:\n",
    "    print \"Your age is greater than 35.\"\n",
    "else:\n",
    "    print \"Your age is not greater than 35.\"\n",
    "    \n",
    "\n"
   ]
  },
  {
   "cell_type": "code",
   "execution_count": 12,
   "metadata": {},
   "outputs": [
    {
     "name": "stdout",
     "output_type": "stream",
     "text": [
      "2\n",
      "2\n",
      "2\n"
     ]
    }
   ],
   "source": [
    "# Exercise 3.8 - Integers\n",
    "\n",
    "number = 10\n",
    "print number/4\n",
    "print number//4\n",
    "print number%4\n"
   ]
  },
  {
   "cell_type": "code",
   "execution_count": 13,
   "metadata": {},
   "outputs": [
    {
     "name": "stdout",
     "output_type": "stream",
     "text": [
      "25.3375\n",
      "25.0\n",
      "1.35\n"
     ]
    }
   ],
   "source": [
    "# Exercise 3.9 - Floats\n",
    "\n",
    "number= 101.35\n",
    "print number/4\n",
    "print number//4\n",
    "print number%4"
   ]
  },
  {
   "cell_type": "code",
   "execution_count": 18,
   "metadata": {},
   "outputs": [
    {
     "name": "stdout",
     "output_type": "stream",
     "text": [
      "False\n",
      "False\n"
     ]
    }
   ],
   "source": [
    "# Exercise 3.10 - Booleans\n",
    "\n",
    "myAge = 21\n",
    "yourAge=25\n",
    "result = myAge == yourAge\n",
    "print result\n",
    "hisAge = 25\n",
    "result1= myAge == hisAge\n",
    "print result1\n",
    "    "
   ]
  },
  {
   "cell_type": "code",
   "execution_count": null,
   "metadata": {
    "collapsed": true
   },
   "outputs": [],
   "source": []
  }
 ],
 "metadata": {
  "kernelspec": {
   "display_name": "Python 2",
   "language": "python",
   "name": "python2"
  },
  "language_info": {
   "codemirror_mode": {
    "name": "ipython",
    "version": 2
   },
   "file_extension": ".py",
   "mimetype": "text/x-python",
   "name": "python",
   "nbconvert_exporter": "python",
   "pygments_lexer": "ipython2",
   "version": "2.7.14"
  }
 },
 "nbformat": 4,
 "nbformat_minor": 2
}
