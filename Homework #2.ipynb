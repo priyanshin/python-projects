{
 "cells": [
  {
   "cell_type": "markdown",
   "metadata": {},
   "source": [
    "# Homework 2 - Priyanshi Nigam"
   ]
  },
  {
   "cell_type": "code",
   "execution_count": 3,
   "metadata": {},
   "outputs": [
    {
     "name": "stdout",
     "output_type": "stream",
     "text": [
      "Enter a number: 90\n",
      "Found a number less than or equal to 100\n"
     ]
    }
   ],
   "source": [
    "# Exercise 1: if statement\n",
    "\n",
    "number = int(raw_input(\"Enter a number: \"))\n",
    "if (number>100):\n",
    "    print \"Found a number greater than 100\"\n",
    "else:\n",
    "    print \"Found a number less than or equal to 100\"\n",
    "    "
   ]
  },
  {
   "cell_type": "code",
   "execution_count": 5,
   "metadata": {},
   "outputs": [
    {
     "name": "stdout",
     "output_type": "stream",
     "text": [
      "What is your name? Joe\n",
      "User Joe was entered\n"
     ]
    }
   ],
   "source": [
    "# Exercise 2: if/else statement\n",
    "\n",
    "name = raw_input(\"What is your name? \")\n",
    "if (name == \"Joe\"):\n",
    "    print \"User Joe was entered\"\n",
    "else:\n",
    "    print \"User Joe was not entered\""
   ]
  },
  {
   "cell_type": "code",
   "execution_count": 8,
   "metadata": {
    "scrolled": true
   },
   "outputs": [
    {
     "name": "stdout",
     "output_type": "stream",
     "text": [
      "Please enter your salary:182038109\n",
      "User salary is greeater than or equal to 100000\n"
     ]
    }
   ],
   "source": [
    "# Exercise 3: if/elif/else statement\n",
    "\n",
    "salary= int(raw_input('Please enter your salary:' ))\n",
    "if salary < 70000:\n",
    "    print \"User salary is less than 70000\"\n",
    "elif salary < 100000:\n",
    "    print \"User salary is less than 100000\"\n",
    "else:\n",
    "    print \"User salary is greater than or equal to 100000\"\n"
   ]
  },
  {
   "cell_type": "code",
   "execution_count": 13,
   "metadata": {},
   "outputs": [
    {
     "name": "stdout",
     "output_type": "stream",
     "text": [
      "Please enter a number: 100\n",
      "5050\n"
     ]
    }
   ],
   "source": [
    "# Exercise 4: for loop\n",
    "\n",
    "number=0\n",
    "total=0\n",
    "num=int(raw_input(\"Please enter a number: \"))\n",
    "for number in range(1, num+1):\n",
    "        total= total + number\n",
    "print total\n",
    "  \n",
    "#Using while loop\n",
    "\n",
    "# num= int(raw_input(\"Please enter a number: \"))\n",
    "# total=0\n",
    "# while (num != 0):\n",
    "#     total= total + num \n",
    "#     num = num-1\n",
    "# print total"
   ]
  },
  {
   "cell_type": "code",
   "execution_count": 14,
   "metadata": {
    "scrolled": true
   },
   "outputs": [
    {
     "name": "stdout",
     "output_type": "stream",
     "text": [
      "Enter a number: 90\n",
      "Try again 892\n",
      "Try again 89\n",
      "Try again 77\n",
      "Yippee, you guessed my number!\n"
     ]
    }
   ],
   "source": [
    "#Exercise 5: while loop \n",
    "\n",
    "myNumber=77\n",
    "yourNumber= int(raw_input(\"Enter a number: \"))\n",
    "while (yourNumber!=myNumber):\n",
    "    yourNumber=int(raw_input(\"Try again \"))\n",
    "print \"Yippee, you guessed my number!\""
   ]
  },
  {
   "cell_type": "markdown",
   "metadata": {},
   "source": [
    "Optional Exercises"
   ]
  },
  {
   "cell_type": "code",
   "execution_count": 15,
   "metadata": {},
   "outputs": [
    {
     "name": "stdout",
     "output_type": "stream",
     "text": [
      "Please type 'F' to convert from Fahrenheit to Celsius or type 'C' to convert from Celsius to Fahrenheit: c\n",
      "c\n",
      "Enter a temperature in degrees Celsius to be converted into degrees Fahrenheit: -40\n",
      "-40.0 degrees Celsius is -40.0 degrees Fahrenheit.\n"
     ]
    }
   ],
   "source": [
    "# Exercise 6\n",
    "# Temperature Converter\n",
    "\n",
    "conversion= str(raw_input(\"Please type 'F' to convert from Fahrenheit to Celsius or type 'C' to convert from Celsius to Fahrenheit: \"))\n",
    "print conversion\n",
    "\n",
    "if (conversion == \"F\" or conversion ==\"f\"):\n",
    "    f=float(raw_input(\"Enter a temperature in degrees Fahrenheit to be converted into degrees Celsius: \"))     \n",
    "    c= (f-32) * 5/9\n",
    "    print  \"%s degrees Fahrenheit is %s degrees Celsius\" % (f, c)\n",
    "    #print  \"{f} degrees Fahrenheit is {c} degrees Celsius\".format(f=f, c=c) I tried this out when my %s wasn't working\n",
    "\n",
    "elif (conversion == \"C\" or conversion == \"c\"):\n",
    "    c=float(raw_input(\"Enter a temperature in degrees Celsius to be converted into degrees Fahrenheit: \"))\n",
    "    f=c* 9/5 +32 \n",
    "    print  \"%s degrees Celsius is %s degrees Fahrenheit.\" % (c, f)\n",
    "    \n",
    "else:\n",
    "    print \"Invalid.\"\n",
    "\n",
    "    "
   ]
  },
  {
   "cell_type": "code",
   "execution_count": 10,
   "metadata": {},
   "outputs": [
    {
     "name": "stdout",
     "output_type": "stream",
     "text": [
      "2\n",
      "3\n",
      "4\n",
      "6\n",
      "7\n",
      "8\n",
      "9\n",
      "10\n"
     ]
    }
   ],
   "source": [
    "# Exercise 7\n",
    "\n",
    "i=0\n",
    "for i in range (1,11):\n",
    "    if (i != 1 and i != 5):\n",
    "        print i"
   ]
  },
  {
   "cell_type": "code",
   "execution_count": 17,
   "metadata": {},
   "outputs": [
    {
     "name": "stdout",
     "output_type": "stream",
     "text": [
      "Please enter the month in the 'mm' format: 06\n",
      "Please enter the day in the 'dd' format: 21\n",
      "On 6/21 it is summer.\n"
     ]
    }
   ],
   "source": [
    "# Exercise 8\n",
    "# Season Calculator (Northern Meteorological Seasons)\n",
    "\n",
    "num1= int(raw_input(\"Please enter the month in the 'mm' format: \"))\n",
    "num2= int(raw_input(\"Please enter the day in the 'dd' format: \"))\n",
    "if (num1 > 12 or num1 <0) or (num2<0 or num2>31):\n",
    "    print \"Invalid date, try again\"\n",
    "    \n",
    "season = \"not available\"\n",
    "\n",
    "if (num1 == 3 or num1 == 4 or num1 == 5):\n",
    "    season = \"spring\"\n",
    "elif (num1 == 6 or num1== 7 or num1 == 8):\n",
    "    season = \"summer\"\n",
    "elif (num1 == 9 or num1== 10 or num1 == 11):\n",
    "    season=\"fall\"\n",
    "elif (num1 == 12 or num1== 1 or num1 == 2):\n",
    "    season=\"winter\"\n",
    "    \n",
    "print \"On %s/%s it is %s.\" % (num1, num2, season)"
   ]
  },
  {
   "cell_type": "code",
   "execution_count": 18,
   "metadata": {},
   "outputs": [
    {
     "name": "stdout",
     "output_type": "stream",
     "text": [
      "Enter a number to add to your total: 9\n",
      "Enter a number to add to your total: 10\n",
      "Enter a number to add to your total: 22\n",
      "Enter a number to add to your total: 88\n",
      "Enter a number to add to your total: 0\n",
      "129\n"
     ]
    }
   ],
   "source": [
    "# Exercise 9\n",
    "# Running Total\n",
    "\n",
    "num= 1\n",
    "total=0\n",
    "while (num != 0): \n",
    "    num= int(raw_input(\"Enter a number to add to your total: \")) #Enter 0 to exit\n",
    "    total= total + num\n",
    "print total"
   ]
  },
  {
   "cell_type": "code",
   "execution_count": 19,
   "metadata": {},
   "outputs": [
    {
     "name": "stdout",
     "output_type": "stream",
     "text": [
      "Enter a number for which you want the multiplication tables (from 1 to 10): 88\n",
      "88 x 1 = 88\n",
      "88 x 2 = 176\n",
      "88 x 3 = 264\n",
      "88 x 4 = 352\n",
      "88 x 5 = 440\n",
      "88 x 6 = 528\n",
      "88 x 7 = 616\n",
      "88 x 8 = 704\n",
      "88 x 9 = 792\n",
      "88 x 10 = 880\n"
     ]
    }
   ],
   "source": [
    "# Exercise 10\n",
    "# Multiplication Tables\n",
    "\n",
    "num= int(raw_input (\"Enter a number for which you want the multiplication tables (from 1 to 10): \"))\n",
    "i=1\n",
    "for  i in range (i, 11):\n",
    "    mult= i * num\n",
    "    print \"%s x %s = %s\" % (num, i, mult)"
   ]
  },
  {
   "cell_type": "code",
   "execution_count": null,
   "metadata": {
    "collapsed": true
   },
   "outputs": [],
   "source": []
  }
 ],
 "metadata": {
  "kernelspec": {
   "display_name": "Python 2",
   "language": "python",
   "name": "python2"
  },
  "language_info": {
   "codemirror_mode": {
    "name": "ipython",
    "version": 2
   },
   "file_extension": ".py",
   "mimetype": "text/x-python",
   "name": "python",
   "nbconvert_exporter": "python",
   "pygments_lexer": "ipython2",
   "version": "2.7.14"
  }
 },
 "nbformat": 4,
 "nbformat_minor": 2
}
