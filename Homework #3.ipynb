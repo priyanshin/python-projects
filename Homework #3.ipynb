{
 "cells": [
  {
   "cell_type": "markdown",
   "metadata": {},
   "source": [
    "# Homework 3 - Priyanshi Nigam"
   ]
  },
  {
   "cell_type": "code",
   "execution_count": 5,
   "metadata": {},
   "outputs": [
    {
     "name": "stdout",
     "output_type": "stream",
     "text": [
      "Harry's age: 15\n",
      "Sally's age: 16\n",
      "Mary's age: 32\n",
      "Harry and Sally are less than 20 years old.\n",
      "Either Sally or Mary is older than 30.\n"
     ]
    }
   ],
   "source": [
    "# Exercise 1 - Using logical operators: and, or, and not\n",
    "\n",
    "harry = int(raw_input (\"Harry's age: \"))\n",
    "sally= int(raw_input(\"Sally's age: \"))\n",
    "mary= int(raw_input(\"Mary's age: \"))\n",
    "\n",
    "if (harry < 20 and sally < 20 ):\n",
    "    print \"Harry and Sally are less than 20 years old.\"\n",
    "    \n",
    "if (sally > 30 or mary > 30):\n",
    "    print \"Either Sally or Mary is older than 30.\"\n",
    "    "
   ]
  },
  {
   "cell_type": "code",
   "execution_count": 8,
   "metadata": {},
   "outputs": [
    {
     "name": "stdout",
     "output_type": "stream",
     "text": [
      "Please enter your first name: Priyanshi\n",
      "9\n"
     ]
    }
   ],
   "source": [
    "#Exercise 2 - Find the length of a given string\n",
    "\n",
    "name= raw_input(\"Please enter your first name: \")\n",
    "\n",
    "print len(name)\n"
   ]
  },
  {
   "cell_type": "code",
   "execution_count": 18,
   "metadata": {},
   "outputs": [
    {
     "name": "stdout",
     "output_type": "stream",
     "text": [
      "Enter the name of your favorite movie: The Greatest Showman\n",
      "namwohS tsetaerG ehT\n"
     ]
    }
   ],
   "source": [
    "#Exercise 3 - Reversing a String\n",
    "\n",
    "import string \n",
    "\n",
    "movie= raw_input(\"Enter the name of your favorite movie: \")\n",
    "\n",
    "print movie [:: -1]"
   ]
  },
  {
   "cell_type": "code",
   "execution_count": 34,
   "metadata": {},
   "outputs": [
    {
     "name": "stdout",
     "output_type": "stream",
     "text": [
      "Enter a line of text: hello my name is jello\n",
      "Enter a search string: JELLO\n",
      "Search string found.\n"
     ]
    }
   ],
   "source": [
    "#Exercise 4 - Converting an input string to lower case and looking for a match\n",
    "import string\n",
    "\n",
    "text= (raw_input(\"Enter a line of text: \")).lower()\n",
    "search_string= (raw_input (\"Enter a search string: \")).lower()\n",
    "\n",
    "num= text.find(search_string)\n",
    "\n",
    "if (num!=-1):\n",
    "    print \"Search string found.\"\n",
    "else: \n",
    "    print \"Search string not found.\"\n"
   ]
  },
  {
   "cell_type": "code",
   "execution_count": 38,
   "metadata": {},
   "outputs": [
    {
     "name": "stdout",
     "output_type": "stream",
     "text": [
      "Enter a grocery list with items separated by commas: eggs, milk, bananas\n",
      "bananas\n"
     ]
    }
   ],
   "source": [
    "# Exercise 5 - Parsing a comma separated set of values\n",
    "# Print last item in a grocery list \n",
    "grocery_list = raw_input(\"Enter a grocery list with items separated by commas: \")\n",
    "g_list=grocery_list.split()\n",
    "print g_list[len(g_list)-1]"
   ]
  },
  {
   "cell_type": "markdown",
   "metadata": {},
   "source": [
    "Optional Exercises"
   ]
  },
  {
   "cell_type": "code",
   "execution_count": 84,
   "metadata": {},
   "outputs": [
    {
     "name": "stdout",
     "output_type": "stream",
     "text": [
      "Enter a grocery list separated by commas: cake, bananas, pizza, ice cream\n",
      "Enter a search item: ice cream\n",
      "Item found\n"
     ]
    }
   ],
   "source": [
    "# Exercise 6 - Find item in grocery list (with arbitrary spaces)\n",
    "\n",
    "grocery_list= raw_input(\"Enter a grocery list separated by commas: \")\n",
    "search_item= raw_input(\"Enter a search item: \")\n",
    "g_list=grocery_list.split(\",\")\n",
    "found = False\n",
    "g_list2= []\n",
    "for item in g_list:\n",
    "    g_list2.append(item.strip())\n",
    "for item in g_list2:\n",
    "    if (search_item == item):\n",
    "        print \"Item found\"\n",
    "        found= True\n",
    "        break\n",
    "#     else:\n",
    "#         found=False\n",
    "        \n",
    "if (found == False):\n",
    "    print \"Item not found\"\n",
    "        \n"
   ]
  },
  {
   "cell_type": "markdown",
   "metadata": {},
   "source": [
    "Write a python program that takes in a list of words from the user and prints the shortest word in the list. If two words are equally short, just pick the first one that you see."
   ]
  },
  {
   "cell_type": "code",
   "execution_count": 18,
   "metadata": {},
   "outputs": [
    {
     "name": "stdout",
     "output_type": "stream",
     "text": [
      "Please enter a list of words separated by spaces: hello my name is priyanshi and i love pie\n",
      "i\n"
     ]
    }
   ],
   "source": [
    "# Exercise 7: First instance of shortest word\n",
    "\n",
    "w_list=raw_input(\"Please enter a list of words separated by spaces: \")\n",
    "words= w_list.split()\n",
    "s_index=0\n",
    "for i in range(0, len(words)):\n",
    "    if (len(words[i]) < len(words[s_index])):\n",
    "        s_index=i\n",
    "print (words[s_index])\n",
    "        "
   ]
  },
  {
   "cell_type": "markdown",
   "metadata": {},
   "source": [
    "Accept a line of text from the user with some repeating words. Ask the user to enter a search term (one of the repeating words). Count the number of times the search term repeats in the text.\n",
    "\n",
    "For example, if the sentence is - \"She sells sea shells on the sea shore\" and the search term is \"sea\", then the program should print the result 2, indicating that two occurrences of the word \"sea\" were found in the text"
   ]
  },
  {
   "cell_type": "code",
   "execution_count": 51,
   "metadata": {},
   "outputs": [
    {
     "name": "stdout",
     "output_type": "stream",
     "text": [
      "Please enter a line of text: She sells sea shells on the sea shore\n",
      "Please enter a search term: sea\n",
      "The word 'sea' was in the text 2 times.\n"
     ]
    }
   ],
   "source": [
    "# Exercise 8: Instances of a repeating word\n",
    "\n",
    "text= raw_input(\"Please enter a line of text: \")\n",
    "search= raw_input(\"Please enter a search term: \")\n",
    "t_list = text.split()\n",
    "\n",
    "counter = 0\n",
    "for i in range(len(t_list)):\n",
    "    if (search == t_list[i]):\n",
    "        counter += 1\n",
    "print \"The word '%s' was in the text %s times.\" % (search, counter)"
   ]
  },
  {
   "cell_type": "markdown",
   "metadata": {},
   "source": [
    "Write a python program to get text from the user. Create a new text from the original text with the word \" stranger \" inserted in the middle of the text. Print the resulting new text."
   ]
  },
  {
   "cell_type": "code",
   "execution_count": 64,
   "metadata": {},
   "outputs": [
    {
     "name": "stdout",
     "output_type": "stream",
     "text": [
      "Enter text: hello\n",
      "he stranger llo\n"
     ]
    }
   ],
   "source": [
    "# Exercise 9\n",
    "\n",
    "text= raw_input(\"Enter text: \")\n",
    "num = int(len(text)/2)\n",
    "string= text[0:num] + \" stranger \"+ text[num: len(text)]\n",
    "print string"
   ]
  },
  {
   "cell_type": "markdown",
   "metadata": {},
   "source": [
    "Write a python program to get a line of text from the user. Sort each word in the text alphabetically and print it out.\n",
    "\n",
    "For example, if the user enters \"Jack and Jill went up the hill\", the result should be \"and Jack Jill hill the up went\""
   ]
  },
  {
   "cell_type": "code",
   "execution_count": 2,
   "metadata": {},
   "outputs": [
    {
     "name": "stdout",
     "output_type": "stream",
     "text": [
      "Enter a line of text: cherry banana moon dog happy apple kite juice\n",
      "  apple banana cherry dog happy juice kite moon\n"
     ]
    }
   ],
   "source": [
    "# Exercise 10: Alphabetical Order\n",
    "\n",
    "text = raw_input(\"Enter a line of text separated by spaces: \")\n",
    "list1 = text.split()\n",
    "list1.sort()\n",
    "string = \" \"\n",
    "for i in list1:\n",
    "    string = string + \" \" + i\n",
    "print string "
   ]
  }
 ],
 "metadata": {
  "kernelspec": {
   "display_name": "Python 2",
   "language": "python",
   "name": "python2"
  },
  "language_info": {
   "codemirror_mode": {
    "name": "ipython",
    "version": 2
   },
   "file_extension": ".py",
   "mimetype": "text/x-python",
   "name": "python",
   "nbconvert_exporter": "python",
   "pygments_lexer": "ipython2",
   "version": "2.7.14"
  }
 },
 "nbformat": 4,
 "nbformat_minor": 2
}
