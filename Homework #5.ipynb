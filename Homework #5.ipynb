{
 "cells": [
  {
   "cell_type": "markdown",
   "metadata": {},
   "source": [
    "# Homework #5 - Priyanshi Nigam"
   ]
  },
  {
   "cell_type": "code",
   "execution_count": 135,
   "metadata": {},
   "outputs": [
    {
     "name": "stderr",
     "output_type": "stream",
     "text": [
      "Python 2.7.14 :: Anaconda, Inc.\n"
     ]
    }
   ],
   "source": [
    "!python --version"
   ]
  },
  {
   "cell_type": "markdown",
   "metadata": {},
   "source": [
    "**Exercise 1 - Testing your knowledge of files **\n",
    "\n",
    "Answer the below questions\n",
    "\n",
    "1. In your own words, describe what a **file** is?\n",
    "2. Why is it important to close a file after we are done using it?"
   ]
  },
  {
   "cell_type": "markdown",
   "metadata": {},
   "source": [
    "1) A file is a type of storage unit.\n",
    "2) It is important to close a file so it doesn't occupy memory."
   ]
  },
  {
   "cell_type": "markdown",
   "metadata": {},
   "source": [
    "#### Exercise 2 -  Write to a file\n",
    "\n",
    "Write a python program to write the below lines to a file\n",
    "\n",
    "- Name, Age, Gender, Profession\n",
    "- Harry, 23, Male, Software Engineer\n",
    "- Sam, 25, Male, Lawyer\n",
    "- Lisa, 29, Female, Computer Scientist\n",
    "- Mary, 22, Female, Doctor\n",
    "\n",
    "Below are a set of recommended steps to accomplish this\n",
    "1. open a file in write mode. This will return a handle to the file\n",
    "2. use the write method to write each line to the file using the file handle returned in the open call\n",
    "3. close the file when done\n",
    "\n",
    "Once done, go to the folder where the file is and open it to make sure that this is written.\n",
    "\n",
    "Refer to class exercises especially \"In [22]\" in https://github.com/cis024c/fall2017classwork/blob/master/week5/working_with_files.ipynb"
   ]
  },
  {
   "cell_type": "code",
   "execution_count": 158,
   "metadata": {},
   "outputs": [],
   "source": [
    "data= open(\"info.txt\",\"w\")\n",
    "data.write(\"Name, Age, Gender, Profession\\n\")\n",
    "data.write(\"Harry, 23, Male, Software Engineer\\n\")\n",
    "data.write(\"Sam, 25, Male, Lawyer\\n\")\n",
    "data.write(\"Lisa, 29, Female, Computer Scientist\\n\")\n",
    "data.write(\"Mary, 22, Female, Doctor\\n\")\n",
    "data.close()\n"
   ]
  },
  {
   "cell_type": "markdown",
   "metadata": {},
   "source": [
    "#### Exercise 3 - Reading from a file\n",
    "\n",
    "Read and display the data from the file you had just written to.\n",
    "\n",
    "Below are a set of recommended steps to accomplish this\n",
    "1. open the file in read mode. This will return a handle to the file.\n",
    "2. You can now iterate through each line in the file  and then use readline to read each line.\n",
    "3. Display each line as you read it in\n",
    "\n",
    "Note that you can also use the **read** method to read in all lines or the **readlines** method to read all lines into a list."
   ]
  },
  {
   "cell_type": "code",
   "execution_count": 159,
   "metadata": {},
   "outputs": [
    {
     "name": "stdout",
     "output_type": "stream",
     "text": [
      "Name, Age, Gender, Profession\n",
      "\n",
      "Harry, 23, Male, Software Engineer\n",
      "\n",
      "Sam, 25, Male, Lawyer\n",
      "\n",
      "Lisa, 29, Female, Computer Scientist\n",
      "\n",
      "Mary, 22, Female, Doctor\n",
      "\n",
      "\n"
     ]
    }
   ],
   "source": [
    "dataFile=open(\"info.txt\")\n",
    "dataFile.seek(0)\n",
    "line= dataFile.readline()\n",
    "dataFile.seek(0)\n",
    "while line != \"\":\n",
    "    line= dataFile.readline()\n",
    "    print line\n",
    "dataFile.close()   "
   ]
  },
  {
   "cell_type": "markdown",
   "metadata": {},
   "source": [
    "#### Exercise 4 - Finding the average age of users in a file\n",
    "\n",
    "Write a python program to find the average age of users in the file you just created.\n",
    "\n",
    "Below are a set of recommended steps to accomplish this\n",
    "1. Open the file in read mode\n",
    "2. Read in each line of the file\n",
    "3. Split each line in the file to get the age\n",
    "4. Find the average age and display it"
   ]
  },
  {
   "cell_type": "code",
   "execution_count": 160,
   "metadata": {},
   "outputs": [
    {
     "name": "stdout",
     "output_type": "stream",
     "text": [
      "[23, 25, 29, 22]\n",
      "The average age of the employees is 24.\n"
     ]
    }
   ],
   "source": [
    "contents= open(\"info.txt\")\n",
    "# print contents.readline()\n",
    "contents.seek(0)\n",
    "emp_info=contents.readline().strip().split(\",\")\n",
    "\n",
    "# Make a list of ages\n",
    "age= []\n",
    "contents.seek(0)\n",
    "line=contents.readline()\n",
    "while line:\n",
    "    emp_info=contents.readline().strip().split(\",\")\n",
    "    if emp_info == [\"\"]:\n",
    "        break\n",
    "    age.append(int(emp_info[1]))\n",
    "print age\n",
    "    \n",
    "# Find average age\n",
    "averageAge=sum(age)/len(age)\n",
    "print \"The average age of the employees is %s.\" % averageAge\n",
    "contents.close()\n",
    "    "
   ]
  },
  {
   "cell_type": "markdown",
   "metadata": {},
   "source": [
    "#### Exercise 5 - Appending to a file\n",
    "\n",
    "Write a python program to append information provided by users to an existing file. \n",
    "\n",
    "You will need to \n",
    "1.  ask the user to enter their name, age, gender and profession using the **raw_input** method (for Python 3 users, you will use the **input** method).\n",
    "2.  open the file you just created in the above exercies in append mode and write this information to the file.\n",
    "\n",
    "Remember to make sure that the information you append is entered in the same format where each field is separated by commas.\n",
    "\n"
   ]
  },
  {
   "cell_type": "code",
   "execution_count": 161,
   "metadata": {},
   "outputs": [
    {
     "name": "stdout",
     "output_type": "stream",
     "text": [
      "Enter your name, age, gender, and profession(name, age, gender, profession): Priyanshi, 16, Female, Student\n",
      "Enter your name, age, gender, and profession(name, age, gender, profession): Pranav, 16, Male, Student\n",
      "Enter your name, age, gender, and profession(name, age, gender, profession): Oishika, 16, Female, Student\n"
     ]
    }
   ],
   "source": [
    "\n",
    "emp_1= raw_input(\"Enter your name, age, gender, and profession(name, age, gender, profession): \")\n",
    "emp_2= raw_input(\"Enter your name, age, gender, and profession(name, age, gender, profession): \")\n",
    "emp_3= raw_input(\"Enter your name, age, gender, and profession(name, age, gender, profession): \")\n",
    "\n",
    "file_content = open(\"info.txt\", \"a\")\n",
    "file_content.seek(2)\n",
    "file_content.write(emp_1 + '\\n')\n",
    "file_content.write(emp_2 + '\\n')\n",
    "file_content.write(emp_3 + '\\n' )\n",
    "\n",
    "file_content.close()\n",
    "\n",
    "\n",
    "\n",
    "\n",
    "\n"
   ]
  },
  {
   "cell_type": "markdown",
   "metadata": {},
   "source": [
    "## OPTIONAL EXERCISES\n",
    "\n",
    "Below is a set of optional exercises. These will not be graded but the solutions will be posted. I would strongly encourage you to try these out if you are done with the mandatory homework exercises to improve your understanding of python."
   ]
  },
  {
   "cell_type": "markdown",
   "metadata": {},
   "source": [
    "#### NOTE \n",
    "\n",
    "For this program you will need to download the full text of Alice in Wonderland. This is available at this link http://www.gutenberg.org/files/11/11-0.txt\n",
    "\n",
    "For MAC users, you can download this directly from Jupyter by executing the below cell. Windows users might need to click on the link and download the file and save it to your computer. "
   ]
  },
  {
   "cell_type": "code",
   "execution_count": 21,
   "metadata": {},
   "outputs": [
    {
     "name": "stdout",
     "output_type": "stream",
     "text": [
      "  % Total    % Received % Xferd  Average Speed   Time    Time     Time  Current\n",
      "                                 Dload  Upload   Total   Spent    Left  Speed\n",
      "100  169k  100  169k    0     0   242k      0 --:--:-- --:--:-- --:--:--  242k\n"
     ]
    }
   ],
   "source": [
    "# download alice text\n",
    "!curl 'http://www.gutenberg.org/files/11/11-0.txt' -o aliceText.txt"
   ]
  },
  {
   "cell_type": "markdown",
   "metadata": {},
   "source": [
    "#### Exercise 6\n",
    "\n",
    "Write a program to read the file aliceText.txt and count the number of times that the word \"house\" occurs in the text."
   ]
  },
  {
   "cell_type": "code",
   "execution_count": 188,
   "metadata": {},
   "outputs": [
    {
     "name": "stdout",
     "output_type": "stream",
     "text": [
      "The word house occurs 8 times.\n"
     ]
    }
   ],
   "source": [
    "aliceText= open(\"AliceInWonderland.txt\")\n",
    "aliceList=aliceText.read().split()\n",
    "word= \"house\"\n",
    "count=0\n",
    "for word in aliceList:\n",
    "    if (word== \"house\"):\n",
    "        count+=1\n",
    "print \"The word house occurs %s times.\" % count\n",
    "aliceText.close()"
   ]
  },
  {
   "cell_type": "code",
   "execution_count": 189,
   "metadata": {},
   "outputs": [
    {
     "name": "stdout",
     "output_type": "stream",
     "text": [
      "Enter a word: the\n",
      "The word the occurs 1777 times.\n"
     ]
    }
   ],
   "source": [
    "# How to find the count of any word\n",
    "\n",
    "aliceText= open(\"AliceInWonderland.txt\")\n",
    "aliceList=aliceText.read().split()\n",
    "user_word= raw_input(\"Enter a word: \")\n",
    "count=0\n",
    "for word in aliceList:\n",
    "    if (word.lower()== user_word.lower()):\n",
    "        count+=1\n",
    "print \"The word %s occurs %s times.\" % (user_word.lower(), count)\n",
    "aliceText.close()"
   ]
  },
  {
   "cell_type": "markdown",
   "metadata": {},
   "source": [
    "#### Exercise 7\n",
    "\n",
    "Write a python program to read the file aliceText.txt and find \n",
    "\n",
    "* the number of characters in the file\n",
    "* the number of words in the file\n",
    "* the number of lines in the file\n",
    "\n",
    "Display the result"
   ]
  },
  {
   "cell_type": "code",
   "execution_count": 201,
   "metadata": {},
   "outputs": [
    {
     "name": "stdout",
     "output_type": "stream",
     "text": [
      "169859\n",
      "29465\n",
      "3737\n",
      "There are 169859 characters, 29465 words, and 3737 lines.\n"
     ]
    }
   ],
   "source": [
    "# Number of characters\n",
    "aliceText= open(\"AliceInWonderland.txt\")\n",
    "aliceList=aliceText.read()\n",
    "characters= len(aliceList)\n",
    "print characters\n",
    "aliceText.close()\n",
    "\n",
    "# Number of Words\n",
    "aliceText= open(\"AliceInWonderland.txt\")\n",
    "aliceList=aliceText.read().split()\n",
    "words=0\n",
    "for word in aliceList:\n",
    "    words+=1\n",
    "print words\n",
    "aliceText.close()\n",
    "\n",
    "# Number of Lines\n",
    "aliceText= open(\"AliceInWonderland.txt\")\n",
    "aliceList=aliceText.read().split('\\n')\n",
    "lines=0\n",
    "for line in aliceList:\n",
    "    lines+=1\n",
    "print lines\n",
    "aliceText.close()\n",
    "\n",
    "print \"There are %s characters, %s words, and %s lines.\" % (characters, words, lines)"
   ]
  },
  {
   "cell_type": "markdown",
   "metadata": {},
   "source": [
    "#### Exercise 8\n",
    "\n",
    "Write a Python program to read the file aliceText.txt and find the top 10 most frequent words in the file. Display the result\n",
    "\n",
    "Below are recommended steps for this program\n",
    "\n",
    "* Read the contents of the file\n",
    "* Initialize a dictionary to maintain the counts of each word\n",
    "* Loop through each word in the file\n",
    "    - If the word is new, then add to dictionary and initialize count to 1 for this word\n",
    "    - If the word is already in the dictionary, then increment the count of that word by 1\n",
    "* Use the **sorted** method to sort all values in descending order  - See the **example** code at the end of this assignment for an example on sorting a dictionary in reverse order by value"
   ]
  },
  {
   "cell_type": "code",
   "execution_count": 223,
   "metadata": {},
   "outputs": [
    {
     "name": "stdout",
     "output_type": "stream",
     "text": [
      "The top ten most frequent words are: \n",
      "\n",
      "the 1664\n",
      "and 780\n",
      "to 773\n",
      "a 662\n",
      "of 596\n",
      "she 484\n",
      "said 416\n",
      "in 401\n",
      "it 356\n",
      "was 329\n"
     ]
    }
   ],
   "source": [
    "aliceText= open(\"AliceInWonderland.txt\")\n",
    "aliceList=aliceText.read().split()\n",
    "\n",
    "words_unique= {}\n",
    "for word in aliceList:\n",
    "    if words_unique.get(word)== None:\n",
    "        words_unique[word]= 1\n",
    "    else:\n",
    "        words_unique[word]= words_unique[word]+1\n",
    "        \n",
    "sortedWords = sorted(words_unique, key=words_unique.get, reverse=True)\n",
    "\n",
    "print \"The top ten most frequent words are: \\n\"\n",
    "for key in sortedWords[0:10]:\n",
    "    print key, words_unique[key]\n",
    "aliceText.close()"
   ]
  }
 ],
 "metadata": {
  "kernelspec": {
   "display_name": "Python 2",
   "language": "python",
   "name": "python2"
  },
  "language_info": {
   "codemirror_mode": {
    "name": "ipython",
    "version": 2
   },
   "file_extension": ".py",
   "mimetype": "text/x-python",
   "name": "python",
   "nbconvert_exporter": "python",
   "pygments_lexer": "ipython2",
   "version": "2.7.14"
  }
 },
 "nbformat": 4,
 "nbformat_minor": 2
}
