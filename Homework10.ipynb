{
 "cells": [
  {
   "cell_type": "markdown",
   "metadata": {},
   "source": [
    "## Priyanshi Nigam - Homework 10"
   ]
  },
  {
   "cell_type": "markdown",
   "metadata": {},
   "source": [
    "#### Check Python Version"
   ]
  },
  {
   "cell_type": "code",
   "execution_count": 1,
   "metadata": {},
   "outputs": [
    {
     "name": "stderr",
     "output_type": "stream",
     "text": [
      "Python 2.7.14 :: Anaconda, Inc.\n"
     ]
    }
   ],
   "source": [
    "!python --version"
   ]
  },
  {
   "cell_type": "markdown",
   "metadata": {},
   "source": [
    "#### Sample Exercises with Exception Handling\n",
    "\n",
    "Week 10 Class Work can be found here\n",
    "\n",
    "https://github.com/cis024c/spring2018classwork/blob/master/week10/classwork_04162018.ipynb"
   ]
  },
  {
   "cell_type": "markdown",
   "metadata": {},
   "source": [
    "**Exercise 1 - Testing your knowledge of object oriented programming concepts **\n",
    "\n",
    "Answer the below questions\n",
    "\n",
    "1. Why do we need classes?\n",
    "2. What is encapsulation?"
   ]
  },
  {
   "cell_type": "markdown",
   "metadata": {},
   "source": [
    "1. We need classes to make objects of a specific type. For example, if I made a flowers class I could make objects of specific flowers like roses, daisy, etc. \n",
    "\n",
    "2. Encapsulation is the creation of private variables or methods that can not be directly accessed by the user. "
   ]
  },
  {
   "cell_type": "markdown",
   "metadata": {},
   "source": [
    "** Exercise 2 - Class creation **\n",
    "\n",
    "Create a Python class named **Employee** with the following attributes and methods\n",
    "\n",
    "Data members\n",
    "```\n",
    "1. employeeName  - type string\n",
    "2. employeeAge  - type int\n",
    "3. employeeSalary - type float\n",
    "```\n",
    "\n",
    "Methods:\n",
    "```\n",
    "1. getEmployee - returns employee name\n",
    "2. getEmployeeAge - gets the employee age\n",
    "3. getEmployeeSalary - returns the employee salary\n",
    "4. __init__ - initialize method accepts the name, age and salary of the employee\n",
    "```\n",
    "\n",
    "Create an object of type Employee and initialize with arbitrary values. Invoke the get methods and display the result."
   ]
  },
  {
   "cell_type": "code",
   "execution_count": 2,
   "metadata": {
    "collapsed": true
   },
   "outputs": [],
   "source": [
    "class Employee:\n",
    "    def __init__(self, employeeName, employeeAge, employeeSalary):\n",
    "        \n",
    "        self.name= employeeName\n",
    "        self.age= employeeAge\n",
    "        self.salary= employeeSalary\n",
    "    def getEmployee(self):\n",
    "        return self.name\n",
    "    def getEmployeeAge(self):\n",
    "        return self.age\n",
    "    def getEmployeeSalary(self):\n",
    "        return self.salary"
   ]
  },
  {
   "cell_type": "markdown",
   "metadata": {},
   "source": [
    "#### Exercise 3 - Private members\n",
    "\n",
    "In the above **Employee** class make the employeeName, employeeAge and employeeSalary private so that their access is restricted to only within the class."
   ]
  },
  {
   "cell_type": "code",
   "execution_count": 3,
   "metadata": {
    "collapsed": true
   },
   "outputs": [],
   "source": [
    "class Employee:\n",
    "    def __init__(self, employeeName, employeeAge, employeeSalary):\n",
    "        \n",
    "        self.__name= employeeName\n",
    "        self.__age= employeeAge\n",
    "        self.__salary= employeeSalary\n",
    "    def getEmployee(self):\n",
    "        return self.__name\n",
    "    def getEmployeeAge(self):\n",
    "        return self.__age\n",
    "    def getEmployeeSalary(self):\n",
    "        return self.__salary"
   ]
  },
  {
   "cell_type": "markdown",
   "metadata": {},
   "source": [
    "#### Exercise 4 - Adding setters and working with a list of Employees\n",
    "\n",
    "In the **Employee** class add the following methods\n",
    "\n",
    "```\n",
    "1. setEmployeeAge - accepts age and sets it in the object\n",
    "2. setEmployeeName - accepts employee name and sets it in the object\n",
    "3. setEmployeeSalary - accepts employee salary and sets it i nthe object\n",
    "```\n",
    "\n",
    "Create a list of employees called employeeList. Initialize the list with three objects of type Employee. Initialize the object with the values \"None\" for employeeName, 0 for employeeAge and 0 for employeeSalary.\n",
    "\n",
    "Loop  through each employee in the employeeList. Each time, request the user to enter the name, age and salary of a different employee. Use the set methods to set the name, age and salary for each employee in the employeeList.\n",
    "\n",
    "Loop through each employee in the employeeList. Display the name, age and salary of each employee."
   ]
  },
  {
   "cell_type": "code",
   "execution_count": 4,
   "metadata": {},
   "outputs": [],
   "source": [
    "class Employee:\n",
    "    def __init__(self, employeeName, employeeAge, employeeSalary):\n",
    "        \n",
    "        self.__name= employeeName\n",
    "        self.__age= employeeAge\n",
    "        self.__salary= employeeSalary\n",
    "    def getEmployee(self):\n",
    "        return self.__name\n",
    "    def getEmployeeAge(self):\n",
    "        return self.__age\n",
    "    def getEmployeeSalary(self):\n",
    "        return self.__salary\n",
    "    def setEmployeeName(self, employeeName):\n",
    "        self.__name= employeeName\n",
    "    def setEmployeeAge(self, employeeAge):\n",
    "        self.__name= employeeAge\n",
    "    def setEmployeeSalary(self, employeeSalary):\n",
    "        self.__name= employeeSalary"
   ]
  },
  {
   "cell_type": "markdown",
   "metadata": {},
   "source": [
    "#### Exercise 5 -  Creating a Python calculator class\n",
    "\n",
    "Create a Python class called Calculator. \n",
    "\n",
    "The class has the following data members\n",
    "\n",
    "```\n",
    "1. number1 - type float\n",
    "2. number2 - type float\n",
    "```\n",
    "\n",
    "The class must have the below methods\n",
    "\n",
    "```\n",
    "1. add - adds two numbers and returns the result\n",
    "2. subtract - subtracts the first number from the second number and returns the result\n",
    "3. multiply - multiply two numbers and returns the result\n",
    "4. divide - divide the first number by the second number and returns the result\n",
    "5. __init__ - accepts two numbers and uses those numbers to initialize number1 and number2 respectively\n",
    "```\n",
    "\n",
    "Create an object of the Calculator class. Initialize it with any two arbitrary numbers. Invoke the methods add, subtract, multiple and divide and display the result\n",
    "\n",
    "\n"
   ]
  },
  {
   "cell_type": "code",
   "execution_count": 5,
   "metadata": {
    "collapsed": true
   },
   "outputs": [],
   "source": [
    "class Calculator():\n",
    "    def __init__(self, n1, n2):\n",
    "        self.n1 = n1\n",
    "        self.n2= n2\n",
    "    def add(self):\n",
    "        return self.n1 + self.n2\n",
    "    def multiply(self):\n",
    "        return self.n1 * self.n2\n",
    "    def subtract(self):\n",
    "        return self.n1 - self.n2\n",
    "    def divide(self):\n",
    "        return self.n1/self.n2\n",
    "    def __str__(self):\n",
    "        result = \"Sum: \" + str(self.add())\n",
    "        result += \"\\nProduct: \" + str(self.multiply())\n",
    "        result += \"\\nQuotient: \" + str(self.divide())\n",
    "        result += \"\\nDifference: \" + str(self.subtract())\n",
    "        return result"
   ]
  },
  {
   "cell_type": "code",
   "execution_count": 8,
   "metadata": {
    "collapsed": true
   },
   "outputs": [],
   "source": [
    "numberCalc = Calculator (4.0, 5)"
   ]
  },
  {
   "cell_type": "code",
   "execution_count": 9,
   "metadata": {},
   "outputs": [
    {
     "name": "stdout",
     "output_type": "stream",
     "text": [
      "Sum: 9.0\n",
      "Product: 20.0\n",
      "Quotient: 0.8\n",
      "Difference: -1.0\n"
     ]
    }
   ],
   "source": [
    "print numberCalc"
   ]
  },
  {
   "cell_type": "markdown",
   "metadata": {},
   "source": [
    "# Optional Exercise"
   ]
  },
  {
   "cell_type": "markdown",
   "metadata": {},
   "source": [
    "#### Exercise 6"
   ]
  },
  {
   "cell_type": "markdown",
   "metadata": {
    "collapsed": true
   },
   "source": [
    "In the next two problems, you’ll be building an address book using object-­‐oriented programming in Python. To begin, you’ll define a Person class. You’ll use this class in the next problem to build your address book – each entry in your address book will be an instance of the Person class.\n",
    "\n",
    "To begin, define the    init    and    str    methods for the Person class. Read the Python documentation if needed to help you understand what    init__ and    str \t need to do.\n",
    "\n",
    "Here’s an example interaction in the Python shell demonstrating how your class should work after implementing these two methods:"
   ]
  },
  {
   "cell_type": "raw",
   "metadata": {},
   "source": [
    "Emily = Person(“Zhang”, “Emily”, “5559358150”, “emzhang@mit.edu”)\n",
    "print Emily\n",
    "Zhang, Emily -- Phone Number: 5559358150 -- Email Address(es): emzhang@mit.edu\n",
    "Wesley = Person(“Graybill”, “Wesley”, “5551940325”, [‘wgray496@mit.edu’, ‘wdgraybill@gmail.com’])\n",
    "print Wesley\n",
    "Graybill, Wesley -- Phone Number: 5551940325 -- Email Address(es): wgray496@mit.edu, wdgraybill@gmail.com"
   ]
  },
  {
   "cell_type": "code",
   "execution_count": 75,
   "metadata": {
    "collapsed": true
   },
   "outputs": [],
   "source": [
    "class Person():\n",
    "    def __init__(self, last_name, first_name, phone_number, email):\n",
    "        self.last_name= last_name\n",
    "        self.first_name= first_name\n",
    "        self.phone_number= phone_number\n",
    "        self.email= email\n",
    "    def __str__(self):\n",
    "        addressBook = str(self.last_name)+ \", \"+ str(self.first_name)+ \" -- \" + \"Phone Number: \"+ str(self.phone_number)+ \"-- \" + \"Email Address(es): \"+ str(self.email) \n",
    "        return addressBook"
   ]
  },
  {
   "cell_type": "code",
   "execution_count": 76,
   "metadata": {},
   "outputs": [],
   "source": [
    "Emily = Person(\"Zhang\", \"Emily\", \"5559358150\", \"emzhang@mit.edu\")"
   ]
  },
  {
   "cell_type": "code",
   "execution_count": 77,
   "metadata": {},
   "outputs": [
    {
     "name": "stdout",
     "output_type": "stream",
     "text": [
      "Zhang, Emily -- Phone Number: 5559358150-- Email Address(es): emzhang@mit.edu\n"
     ]
    }
   ],
   "source": [
    "print Emily"
   ]
  },
  {
   "cell_type": "code",
   "execution_count": 84,
   "metadata": {},
   "outputs": [
    {
     "name": "stdout",
     "output_type": "stream",
     "text": [
      "Raymond, Lana -- Phone Number: 6775664098-- Email Address(es): lana@gmail.com\n"
     ]
    }
   ],
   "source": [
    "Lana = Person(\"Raymond\", \"Lana\", \"6775664098\", \"lana@gmail.com\")\n",
    "print Lana"
   ]
  },
  {
   "cell_type": "markdown",
   "metadata": {},
   "source": [
    "#### Exercise 7"
   ]
  },
  {
   "cell_type": "markdown",
   "metadata": {},
   "source": [
    "In this problem, you will use your Person class from the previous problem to create an address book for storing the contacts of your friends and family. It should allow you to search the address book for a friend, and return their contact information.\n",
    "\n",
    "Begin by defining an   init   method. Don’t forget about Python's built-­‐in dictionary data type.\n",
    "\n",
    "Next, write a method add_contact that allows you to add a new person to the address book.\n",
    "\n",
    "Finally, write a method lookup_contact that looks up a contact by last name. The method should accept the last name as an argument, and print each contact that matches the last name on a new line. As an additional challenge, extend this method to allow users to optionally specify a first name to narrow down the results when multiple contacts have the same last name. To learn more about optional arguments in Python, search for terms such as “optional arguments in Python” and “default arguments in Python”.\n",
    "\n",
    "For example, suppose the contact book contains entries for both Ali Kamil, and his wife Sama Kamil. The following is an example output:\n"
   ]
  },
  {
   "cell_type": "raw",
   "metadata": {},
   "source": [
    ">>> a = AddressBook()\n",
    ">>> a.add_person(Person(“Kamil”, “Ali”, … ))\n",
    ">>> a.add_person(Person(“Kamil”, “Sama”, … ))\n",
    ">>> a.lookup_contact(“Kamil”) Kamil, Ali -- Phone Number: … Kamil, Sama -- Phone Number: …\n",
    ">>> a.lookup_contact(“Kamil”, “Ali”)\n",
    "Kamil, Ali -- Phone Number: …\n"
   ]
  },
  {
   "cell_type": "code",
   "execution_count": 82,
   "metadata": {},
   "outputs": [],
   "source": [
    "class AddressBook():\n",
    "    def __init__(self):\n",
    "        self.info = {}\n",
    "    def add_contact(self, person):\n",
    "        self.info[person.last_name+\" \"+person.first_name] = [person.phone_number, person.email]\n",
    "        \n",
    "    def lookup_contact(self, last_name, first_name= \"\"):\n",
    "        k = \"\"\n",
    "        for key in self.info:\n",
    "            s = key.split()\n",
    "            last = s[0]\n",
    "            first = s[1]\n",
    "            if(last == last_name):\n",
    "                if(first_name!=\"\" and first == first_name):\n",
    "                    k = key\n",
    "                    break\n",
    "        print k.split()[0]+\", \"+k.split()[1]+\"\\nPhone: \" + self.info[k][0] + \"\\nEmail: \" + self.info[k][1]"
   ]
  },
  {
   "cell_type": "code",
   "execution_count": 86,
   "metadata": {},
   "outputs": [
    {
     "name": "stdout",
     "output_type": "stream",
     "text": [
      "Zhang, Emily\n",
      "Phone: 5559358150\n",
      "Email: emzhang@mit.edu\n",
      "\n",
      "Raymond, Lana\n",
      "Phone: 6775664098\n",
      "Email: lana@gmail.com\n"
     ]
    }
   ],
   "source": [
    "friends = AddressBook()\n",
    "friends.add_contact(Emily)\n",
    "friends.lookup_contact(\"Zhang\", \"Emily\")\n",
    "print \"\"\n",
    "friends.add_contact(Lana)\n",
    "friends.lookup_contact(\"Raymond\", \"Lana\")"
   ]
  }
 ],
 "metadata": {
  "kernelspec": {
   "display_name": "Python 2",
   "language": "python",
   "name": "python2"
  },
  "language_info": {
   "codemirror_mode": {
    "name": "ipython",
    "version": 2
   },
   "file_extension": ".py",
   "mimetype": "text/x-python",
   "name": "python",
   "nbconvert_exporter": "python",
   "pygments_lexer": "ipython2",
   "version": "2.7.14"
  }
 },
 "nbformat": 4,
 "nbformat_minor": 2
}
