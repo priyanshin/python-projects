{
 "cells": [
  {
   "cell_type": "markdown",
   "metadata": {},
   "source": [
    "# Homework #7 - Priyanshi Nigam"
   ]
  },
  {
   "cell_type": "markdown",
   "metadata": {},
   "source": [
    "#### Check Python Version"
   ]
  },
  {
   "cell_type": "code",
   "execution_count": 1,
   "metadata": {},
   "outputs": [
    {
     "name": "stderr",
     "output_type": "stream",
     "text": [
      "Python 2.7.14 :: Anaconda, Inc.\n"
     ]
    }
   ],
   "source": [
    "!python --version"
   ]
  },
  {
   "cell_type": "markdown",
   "metadata": {},
   "source": [
    "#### Sample Exercises with Exception Handling\n",
    "\n",
    "Week 7 Class Work can be found here https://github.com/cis024c/spring2018classwork/blob/master/week7/week7_classwork.ipynb"
   ]
  },
  {
   "cell_type": "markdown",
   "metadata": {},
   "source": [
    "**Exercise 1 - Testing your knowledge of Exceptions **\n",
    "\n",
    "Answer the below questions\n",
    "\n",
    "1. What is the difference between a Syntax Error and a Runtime Error?\n",
    "2. Are exceptions Syntax Errors or Runtime Errors?\n",
    "3. How do exceptions help a programmer?\n",
    "4. Which exception is raised when the user tries to use a variable that has not been defined?"
   ]
  },
  {
   "cell_type": "markdown",
   "metadata": {},
   "source": [
    "1) A syntax error is seen while compiling the program, and a runtime error is seen while running the program\n",
    "2) An exception is a runtime error because it is detected after running the code\n",
    "3) Exceptions help a programmer by giving them a general idea about what the issue is about is and where it occurs\n",
    "4) When a user tries to use a variable that has not been defined a NameError exception will be raised "
   ]
  },
  {
   "cell_type": "markdown",
   "metadata": {},
   "source": [
    "#### Exercise 2 -  Raising Exceptions\n",
    "\n",
    "Write python programs that raise the following exceptions.\n",
    "\n",
    "1. ValueError\n",
    "2. TypeError\n",
    "3. IndexError\n",
    "4. KeyError"
   ]
  },
  {
   "cell_type": "code",
   "execution_count": 20,
   "metadata": {},
   "outputs": [
    {
     "name": "stdout",
     "output_type": "stream",
     "text": [
      "Please enter a number: five\n",
      "This raises a ValueError. \n",
      "\n",
      "Please enter a number: 1\n",
      "Enter another number: 5\n",
      "This raises a TypeError. \n",
      "\n",
      "This raises an IndexError. \n",
      "\n",
      "This raises a KeyError.\n"
     ]
    }
   ],
   "source": [
    "# ValueError\n",
    "try:\n",
    "    num1= int(raw_input(\"Please enter a number: \"))\n",
    "except ValueError:\n",
    "    print \"This raises a ValueError. \\n\" \n",
    "    \n",
    "# TypeError\n",
    "try:\n",
    "    num1= int(raw_input(\"Please enter a number: \"))\n",
    "    num2= raw_input(\"Enter another number: \")\n",
    "    print num1 + num2\n",
    "except TypeError:\n",
    "    print \"This raises a TypeError. \\n\"\n",
    "    \n",
    "# IndexError\n",
    "try:\n",
    "    l1= [1, 2, 3, 4, 5]\n",
    "    print l1[10]\n",
    "except IndexError:\n",
    "    print \"This raises an IndexError. \\n\"\n",
    "    \n",
    "# KeyError\n",
    "try:\n",
    "    d1={0: 1, 1: 2, 2: 3}\n",
    "    print d1[6]\n",
    "except KeyError:\n",
    "    print \"This raises a KeyError.\""
   ]
  },
  {
   "cell_type": "markdown",
   "metadata": {},
   "source": [
    "#### Exercise 3 - Handling Exceptions\n",
    "\n",
    "Write a Python program that asks the user to enter a GPA (integer values - 0,1,2,3 or 4). Convert the input from the user into an integer. Write an exception handler to handle the ValueError exception and display the message \"ValueError occurred. Please try again\". If the value entered by the user is not compatible with integer values the program will raise a ValueError exception and display the message from within the exception handler."
   ]
  },
  {
   "cell_type": "code",
   "execution_count": 21,
   "metadata": {},
   "outputs": [
    {
     "name": "stdout",
     "output_type": "stream",
     "text": [
      "Enter your gpa as an integer: 4.3\n",
      "ValueError occurred. Please try again.\n"
     ]
    }
   ],
   "source": [
    "try:\n",
    "    gpa = int(raw_input(\"Enter your gpa as an integer: \"))\n",
    "except ValueError:\n",
    "    print \"ValueError occurred. Please try again.\""
   ]
  },
  {
   "cell_type": "markdown",
   "metadata": {},
   "source": [
    "#### Exercise 4 - Displaying the error description in an Exception\n",
    "\n",
    "Create a list of **5** items in a grocery cart. For example, your list can be something like the below\n",
    "\n",
    "**Example of a list with 2 items:**\n",
    "groceryList = [\"suger\",\"rice\"]\n",
    "\n",
    "Write an exception handler to handle an IndexError exceptio and store the details of the exception in a variable called **details**. If the exception occurs, print out a message saying \"Exception Occurred\" along with the details (from **details** variable). \n",
    "\n",
    "In your program attempt to access the 6th item in the list. \n",
    "\n",
    "Since there are only 5 elements, the exception handler should be triggered and the message printed inside the exception should be printed."
   ]
  },
  {
   "cell_type": "code",
   "execution_count": 27,
   "metadata": {},
   "outputs": [
    {
     "name": "stdout",
     "output_type": "stream",
     "text": [
      "Error Occurred.\n",
      "<type 'exceptions.IndexError'> list index out of range\n"
     ]
    }
   ],
   "source": [
    "try:\n",
    "    groceryList= [\"sugar\", \"rice\", \"bananas\", \"milk\", \"cereal\"]\n",
    "    groceryList[6]\n",
    "except Exception as e:\n",
    "    details = type(e)\n",
    "    print \"Error Occurred.\"\n",
    "    print details, e/"
   ]
  },
  {
   "cell_type": "markdown",
   "metadata": {},
   "source": [
    "#### Exercise 5 - Using loops to wait for a user to enter a valid value\n",
    "\n",
    "**This is a partial repeat of problem 1. You should be able to reuse that code**\n",
    "\n",
    "Write a Python program that asks the user to enter a GPA (integer values - 0,1,2,3 or 4). Convert the input from the user into an integer. Write an exception handler to handle the ValueError exception and display the message \"ValueError occurred. Please try again\". If the value entered by the user is not compatible with integer values the program will raise a ValueError exception and display the message from within the exception handler.\n",
    "\n",
    "Place the above code to get user input inside a **while** loop. As long as the user is entering an invalid numeric value, the program should **continue** to prompt the user to enter the GPA. When the user enters a correct value, the program should **break** out of the while loop and print the GPA.\n",
    "\n",
    "**Please see classwork for similar examples**"
   ]
  },
  {
   "cell_type": "code",
   "execution_count": 3,
   "metadata": {},
   "outputs": [
    {
     "name": "stdout",
     "output_type": "stream",
     "text": [
      "Enter your gpa as an integer: 4.5\n",
      "ValueError occurred. Please try again.\n",
      "Enter your gpa as an integer: 3\n"
     ]
    }
   ],
   "source": [
    "while True:\n",
    "    try:\n",
    "        gpa = int(raw_input(\"Enter your gpa as an integer: \"))\n",
    "        break\n",
    "    except ValueError:\n",
    "        print \"ValueError occurred. Please try again.\""
   ]
  },
  {
   "cell_type": "markdown",
   "metadata": {},
   "source": [
    "## OPTIONAL EXERCISES\n",
    "\n",
    "Below is a set of optional exercises. These will not be graded but the solutions will be posted. I would strongly encourage you to try these out if you are done with the mandatory homework exercises to improve your understanding of python."
   ]
  },
  {
   "cell_type": "markdown",
   "metadata": {},
   "source": [
    "#### Exercise 6\n",
    "\n",
    "Write a python program to build a simple chatbot. The chatbot will accept input from the user, check the input against a dictionary and display the corresponding value. \n",
    "\n",
    "Below is the dictionary that the chatbot will use.\n",
    "\n",
    "```\n",
    "conversationsDict = {\n",
    "'how are you':'I am fine, thank you.How are you today',\n",
    "'i am well':'Cool! How can I help you today',\n",
    "'can you tell me what the weather is like today':'Sure. It looks mostly sunny with a high of 80 degrees',\n",
    "'thank you very much':'You are welcome. Have a nice day'\n",
    "}\n",
    "```\n",
    "\n",
    "Note that the dictionary **key** is the value entered by the user and the **value** is the response from the chatbot. The chatbot must use the user input to look up the dictionary for a response. If a response is found, then the chatbot must print the response. If the key is Invalid, then a KeyError exception handler must handle the exception displaying the messsage \"Sorry, I did not get that\". It must then allow the user to repeat the question."
   ]
  },
  {
   "cell_type": "code",
   "execution_count": 17,
   "metadata": {},
   "outputs": [
    {
     "name": "stdout",
     "output_type": "stream",
     "text": [
      "hello\n",
      "Sorry, I did not get that.\n",
      "how are you\n",
      "I am fine, thank you. How are you today\n",
      "i am well\n",
      "Cool! How can I help you today?\n",
      "stop\n"
     ]
    }
   ],
   "source": [
    "while True:\n",
    "    try:\n",
    "        conv_input= raw_input()\n",
    "        \n",
    "        if (conv_input.lower() == \"stop\"):\n",
    "            break\n",
    "        \n",
    "        conversationsDict = {'how are you':'I am fine, thank you. How are you today',\n",
    "        'i am well':'Cool! How can I help you today?',\n",
    "        'can you tell me what the weather is like today':'Sure. It looks mostly sunny with a high of 80 degrees.',\n",
    "        'thank you very much':'You are welcome. Have a nice day!'}\n",
    "        print conversationsDict[conv_input.lower()]\n",
    "\n",
    "    except KeyError:\n",
    "        print \"Sorry, I did not get that.\"\n",
    "    \n",
    "        "
   ]
  },
  {
   "cell_type": "markdown",
   "metadata": {},
   "source": [
    "#### Exercise 7\n",
    "\n",
    "Write two Python  to compute the average of a list of numbers. The inputs to the function is a python **List**. The output is the average. The function must have an Exception handler to handle the **ZeroDivisionError exception**. \n",
    "\n",
    "Verify that the ZeroDivisionError handler works by passing in an empty list."
   ]
  },
  {
   "cell_type": "code",
   "execution_count": 24,
   "metadata": {},
   "outputs": [
    {
     "name": "stdout",
     "output_type": "stream",
     "text": [
      "2\n",
      "Invalid input. Please try again.\n"
     ]
    }
   ],
   "source": [
    "def average(l):\n",
    "    total=0\n",
    "    try:\n",
    "        for item in l:\n",
    "            total = total + item\n",
    "        return total/len(l)\n",
    "    except ZeroDivisionError:\n",
    "        print \"Invalid input. Please try again.\"\n",
    "print average([1, 2, 3, 4])\n",
    "average([])\n"
   ]
  },
  {
   "cell_type": "markdown",
   "metadata": {},
   "source": [
    "#### Exercise 8\n",
    "\n",
    "Write a python program that accepts a sequence of words, some of them numbers. Attempt to perform an integer add on all the words that were entered. If a word that is not a number is encountered, use the ValueError to skip the next word. Display the resulting sum of all the numbers."
   ]
  },
  {
   "cell_type": "code",
   "execution_count": 43,
   "metadata": {},
   "outputs": [
    {
     "name": "stdout",
     "output_type": "stream",
     "text": [
      "22\n"
     ]
    }
   ],
   "source": [
    "# Integer Addition using Value Error\n",
    "\n",
    "def string_add(l2):\n",
    "    \n",
    "            total1=0\n",
    "            for item in l2:\n",
    "                \n",
    "                try:\n",
    "                    num= int(item)\n",
    "                    total1= total1 + num\n",
    "                except ValueError:\n",
    "                    num=0\n",
    "            return total1\n",
    "\n",
    "print string_add([\"I \", 8, 9, \"am a \", 5, \"happy camper.\"])"
   ]
  },
  {
   "cell_type": "code",
   "execution_count": 34,
   "metadata": {},
   "outputs": [
    {
     "name": "stdout",
     "output_type": "stream",
     "text": [
      "I am a happy camper.\n"
     ]
    }
   ],
   "source": [
    "# String Addition Using Type Error\n",
    "\n",
    "def string_add(l1):\n",
    "            str_full=\"\"\n",
    "            for item in l1:\n",
    "                try:\n",
    "                    str_full= str_full + item\n",
    "                except TypeError:\n",
    "                    item= \"\"\n",
    "            return str_full\n",
    "print string_add([\"I \", 8, 9, \"am a \", 5, \"happy camper.\"])"
   ]
  }
 ],
 "metadata": {
  "kernelspec": {
   "display_name": "Python 2",
   "language": "python",
   "name": "python2"
  },
  "language_info": {
   "codemirror_mode": {
    "name": "ipython",
    "version": 2
   },
   "file_extension": ".py",
   "mimetype": "text/x-python",
   "name": "python",
   "nbconvert_exporter": "python",
   "pygments_lexer": "ipython2",
   "version": "2.7.14"
  }
 },
 "nbformat": 4,
 "nbformat_minor": 2
}
