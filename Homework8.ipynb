{
 "cells": [
  {
   "cell_type": "markdown",
   "metadata": {},
   "source": [
    "## Priyanshi Nigam - Homework 8"
   ]
  },
  {
   "cell_type": "markdown",
   "metadata": {},
   "source": [
    "#### Check Python Version"
   ]
  },
  {
   "cell_type": "code",
   "execution_count": 1,
   "metadata": {},
   "outputs": [
    {
     "name": "stderr",
     "output_type": "stream",
     "text": [
      "Python 2.7.14 :: Anaconda, Inc.\n"
     ]
    }
   ],
   "source": [
    "!python --version"
   ]
  },
  {
   "cell_type": "markdown",
   "metadata": {},
   "source": [
    "#### Sample Exercises with Exception Handling\n",
    "\n",
    "Week 8 Class Work can be found here\n",
    "\n",
    "https://github.com/cis024c/fall2017classwork/tree/master/week8"
   ]
  },
  {
   "cell_type": "markdown",
   "metadata": {},
   "source": [
    "**Exercise 1 - Testing your knowledge of External Libraries **\n",
    "\n",
    "Answer the below questions\n",
    "\n",
    "1. Name two benefits of using external libraries.\n",
    "2. What are the different ways of including an external library in a Python program?"
   ]
  },
  {
   "cell_type": "markdown",
   "metadata": {},
   "source": [
    "1. The two benefits of using external libraries are they can perform complex functions without coding in the program and the libraries are more reliable because are they are tested  \n",
    "2. The different ways of including an external library in a Python program are to use the import function and the from import function"
   ]
  },
  {
   "cell_type": "markdown",
   "metadata": {},
   "source": [
    "#### Exercise 2 -  Using the math library\n",
    "\n",
    "Import the math library in your program and do the following\n",
    "\n",
    "1. Request the user to enter a number between 1 and 10\n",
    "2. Compute the log (math.log) of the number\n",
    "3. Compute teh factorial (math.factorial) of the number\n",
    "4. Compute the square root (math.sqrt) of the number\n",
    "5. Compute the sine (math.sin) of the number\n",
    "\n",
    "Refer to https://docs.python.org/2/library/math.html for more information on the math library\n"
   ]
  },
  {
   "cell_type": "code",
   "execution_count": 11,
   "metadata": {},
   "outputs": [
    {
     "name": "stdout",
     "output_type": "stream",
     "text": [
      "Please enter a number between 1 and 10: 1\n",
      "The log of 1 is 0.0.\n",
      "The factorial of 1 is 1.\n",
      "The square root of 1 is 1.0.\n",
      "The sine of 1 is 0.841470984808.\n"
     ]
    }
   ],
   "source": [
    "from math import *\n",
    "\n",
    "num= int(raw_input(\"Please enter a number between 1 and 10: \"))\n",
    "print \"The log of %s is %s.\" % (num, log(num))\n",
    "print \"The factorial of %s is %s.\" % (num, factorial(num))\n",
    "print \"The square root of %s is %s.\" % (num, sqrt(num))\n",
    "print \"The sine of %s is %s.\" % (num, sin(num))"
   ]
  },
  {
   "cell_type": "markdown",
   "metadata": {},
   "source": [
    "#### Exercise 3 - Random numbers\n",
    "\n",
    "Generate a list of 10 random numbers between 1 and 100. Use random.sample function. Write a program to then sort the list of numbers in ascending order."
   ]
  },
  {
   "cell_type": "code",
   "execution_count": 21,
   "metadata": {},
   "outputs": [
    {
     "name": "stdout",
     "output_type": "stream",
     "text": [
      "The sorted random list is:  [0, 3, 8, 27, 58, 60, 66, 88, 91, 96]\n"
     ]
    }
   ],
   "source": [
    "import random\n",
    "\n",
    "rand_list= random.sample(range(100), 10)\n",
    "sorted_list = []\n",
    "for i in range(len(rand_list)):\n",
    "    sorted_list.append(min(rand_list))\n",
    "    rand_list.remove(min(rand_list))\n",
    "print \"The sorted random list is: \" , sorted_list\n",
    "    "
   ]
  },
  {
   "cell_type": "markdown",
   "metadata": {},
   "source": [
    "#### Exercise 4 - Creating your own library\n",
    "\n",
    "Create a python module **helperfunctions.py** with the following functions.\n",
    "\n",
    "1. add - returns the sum of two numbers\n",
    "2. diff - returns the difference between two numbers\n",
    "3. product - returns the product of two numbers\n",
    "4. greatest - returns the greatest of two numbers.\n",
    "\n",
    "Import this module in your python program and use the functions your created on any two numbers and print the result.\n",
    "\n",
    "Note: Upload the **helperfunctions.py** module to your github folder along with the notebook file. You can also upload **helperfunctions.py** to Canvas if you are having trouble copying it to Github"
   ]
  },
  {
   "cell_type": "code",
   "execution_count": 23,
   "metadata": {},
   "outputs": [
    {
     "name": "stdout",
     "output_type": "stream",
     "text": [
      "Overwriting helperfunctions.py\n"
     ]
    }
   ],
   "source": [
    "%%%writefile helperfunctions.py\n",
    "\n",
    "def add (x, y):\n",
    "    return x + y\n",
    "def diff (x, y):\n",
    "    if x > y:\n",
    "        return x-y\n",
    "    else:\n",
    "        return y-x\n",
    "def product(x, y):\n",
    "    return x*y\n",
    "def greatest(x, y):\n",
    "    if x > y:\n",
    "        return x\n",
    "    elif x < y:\n",
    "        return y\n",
    "    else: \n",
    "        return x, y"
   ]
  },
  {
   "cell_type": "markdown",
   "metadata": {},
   "source": [
    "#### Exercise 5 - Command Line programs with multiple modules\n",
    "\n",
    "Write a Python program to add two numbers. \n",
    "\n",
    "Your Python program must have a function called **add** that is placed in a separate module called **helper.py**. \n",
    "\n",
    "Your main program, which is also a standalone Python program **main.py** must import **helper.py** and use this module to add the two numbers. \n",
    "\n",
    "The numbers to be added must be passed via the command line. You could use either argv or argparse for accepting command line arguments.\n",
    "\n",
    "Here is an example of how your program would be invoked assuming the numbers to be added are 3 and 2\n",
    "\n",
    "**python main.py 3 2**\n"
   ]
  },
  {
   "cell_type": "code",
   "execution_count": 31,
   "metadata": {},
   "outputs": [
    {
     "name": "stdout",
     "output_type": "stream",
     "text": [
      "Overwriting helper.py\n"
     ]
    }
   ],
   "source": [
    "%%%writefile helper.py\n",
    "def add(x, y):\n",
    "    return x+y\n",
    "    "
   ]
  },
  {
   "cell_type": "code",
   "execution_count": 32,
   "metadata": {},
   "outputs": [
    {
     "name": "stdout",
     "output_type": "stream",
     "text": [
      "Overwriting main.py\n"
     ]
    }
   ],
   "source": [
    "%%%writefile main.py\n",
    "from helper.py import *"
   ]
  },
  {
   "cell_type": "markdown",
   "metadata": {},
   "source": [
    "## OPTIONAL EXERCISES\n",
    "\n",
    "Below is a set of optional exercises. These will not be graded but the solutions will be posted. I would strongly encourage you to try these out if you are done with the mandatory homework exercises to improve your understanding of python."
   ]
  },
  {
   "cell_type": "markdown",
   "metadata": {},
   "source": [
    "#### Exercise 6\n",
    "\n",
    "Recall the similarity function to compute the edit distance in homework 7 and classwork 7. \n",
    "\n",
    "Create a Python module using the similarity function. Write a Python program to invoke the similarity function on any word entered by the user."
   ]
  },
  {
   "cell_type": "code",
   "execution_count": 33,
   "metadata": {},
   "outputs": [
    {
     "name": "stdout",
     "output_type": "stream",
     "text": [
      "There are 6 errors.\n"
     ]
    }
   ],
   "source": [
    "def edit_distance(s1, s2):\n",
    "    m=len(s1)+1\n",
    "    n=len(s2)+1\n",
    "\n",
    "    tbl = {}\n",
    "    for i in range(m): tbl[i,0]=i\n",
    "    for j in range(n): tbl[0,j]=j\n",
    "    for i in range(1, m):\n",
    "        for j in range(1, n):\n",
    "            cost = 0 if s1[i-1] == s2[j-1] else 1\n",
    "            tbl[i,j] = min(tbl[i, j-1]+1, tbl[i-1, j]+1, tbl[i-1, j-1]+cost)\n",
    "\n",
    "    return tbl[i,j]\n",
    "\n",
    "print \"There are %s errors.\" % (edit_distance(\"this is a spell checker\", \"thsi is a spleel chekcer\"))"
   ]
  },
  {
   "cell_type": "markdown",
   "metadata": {},
   "source": [
    "#### Exercise 7\n",
    "\n",
    "Write a Python program using the urrlib2 library to print all the URLs present on the website http://www.cnn.com\n",
    "\n",
    "Note that you will need to search for href tags in order to locate links. An easier option is to use an HTML parser module to parse the website and then you can query it for a set of links. \n",
    "\n"
   ]
  },
  {
   "cell_type": "code",
   "execution_count": 64,
   "metadata": {},
   "outputs": [
    {
     "name": "stdout",
     "output_type": "stream",
     "text": [
      "/\n",
      "/\n",
      "/us\n",
      "/world\n",
      "/politics\n",
      "http://money.cnn.com\n",
      "/opinions\n",
      "/health\n",
      "/entertainment\n",
      "http://money.cnn.com/technology\n",
      "/style\n",
      "/travel\n",
      "http://bleacherreport.com\n",
      "/videos\n",
      "/vr\n",
      "http://cnn.it/go2\n",
      "/\n",
      "/us\n",
      "/specials/us/crime-and-justice\n",
      "/specials/us/energy-and-environment\n",
      "/specials/us/extreme-weather\n",
      "/specials/space-science\n",
      "/world\n",
      "/africa\n",
      "/americas\n",
      "/asia\n",
      "/europe\n",
      "/middle-east\n",
      "/politics\n",
      "/specials/politics/president-donald-trump-45\n",
      "/specials/politics/congress-capitol-hill\n",
      "/specials/politics/us-security\n",
      "/specials/politics/supreme-court-nine\n",
      "/specials/politics/trumpmerica\n",
      "/election\n",
      "http://money.cnn.com\n",
      "http://money.cnn.com/data/markets/\n",
      "http://money.cnn.com/technology/\n",
      "http://money.cnn.com/media/\n",
      "http://money.cnn.com/pf/\n",
      "http://money.cnn.com/luxury/\n",
      "/opinions\n",
      "/specials/opinion/opinion-politics\n",
      "/specials/opinion/opinion-social-issues\n",
      "/health\n",
      "/specials/health/food-diet\n",
      "/specials/health/fitness-excercise\n",
      "/specials/health/wellness\n",
      "/specials/health/parenting\n",
      "/specials/health/vital-signs\n",
      "/entertainment\n",
      "/entertainment/celebrities\n",
      "/entertainment/movies\n",
      "/entertainment/tv-shows\n",
      "/entertainment/culture\n",
      "http://money.cnn.com/media\n",
      "http://money.cnn.com/technology\n",
      "http://money.cnn.com/technology/business\n",
      "http://money.cnn.com/technology/culture\n",
      "http://money.cnn.com/technology/gadgets\n",
      "http://money.cnn.com/technology/future\n",
      "http://money.cnn.com/technology/startups\n",
      "/style\n",
      "/style/arts\n",
      "/style/design\n",
      "/style/fashion\n",
      "/style/architecture\n",
      "/style/luxury\n",
      "/style/autos\n",
      "/style/videos\n",
      "/travel\n",
      "/travel/destinations\n",
      "/travel/food-and-drink\n",
      "/travel/play\n",
      "/travel/stay\n",
      "/travel/videos\n",
      "http://bleacherreport.com\n",
      "http://bleacherreport.com/nfl\n",
      "http://bleacherreport.com/college-football\n",
      "http://bleacherreport.com/nba\n",
      "http://bleacherreport.com/mlb\n",
      "http://bleacherreport.com/world-football\n",
      "/specials/sport/winter-olympics-2018\n",
      "/videos\n",
      "//cnn.it/go2\n",
      "/specials/digital-studios\n",
      "/specials/videos/digital-shorts\n",
      "/specials/videos/hln\n",
      "/tv/schedule/cnn\n",
      "/specials/tv/all-shows\n",
      "/vr\n",
      "//store.cnn.com/?utm_source=cnn.com&utm_medium=referral&utm_campaign=navbar\n",
      "/cnn-underscored/\n",
      "/specials/cnn-underscored/explore/\n",
      "/specials/cnn-underscored/wellness/\n",
      "/specials/cnn-underscored/gadgets/\n",
      "/specials/cnn-underscored/lifestyle/\n",
      "//store.cnn.com/?utm_source=cnn.com&utm_medium=referral&utm_campaign=navbar\n",
      "/vr\n",
      "/2017/03/04/vr/how-to-watch-vr\n",
      "/specials/vr/vr-archives\n",
      "/more\n",
      "/specials/photos\n",
      "/specials/cnn-longform\n",
      "/specials/cnn-investigations\n",
      "/specials/profiles\n",
      "/specials/more/cnn-leadership\n",
      "/email/subscription\n",
      "https://www.turnerjobs.com/search-jobs?orgIds=1174&ac=19299\n",
      "https://www.facebook.com/cnn\n",
      "https://twitter.com/cnn\n",
      "https://instagram.com/cnn\n",
      "/\n",
      "/us\n",
      "/specials/us/crime-and-justice\n",
      "/specials/us/energy-and-environment\n",
      "/specials/us/extreme-weather\n",
      "/specials/space-science\n",
      "/world\n",
      "/africa\n",
      "/americas\n",
      "/asia\n",
      "/europe\n",
      "/middle-east\n",
      "/politics\n",
      "/specials/politics/president-donald-trump-45\n",
      "/specials/politics/congress-capitol-hill\n",
      "/specials/politics/us-security\n",
      "/specials/politics/supreme-court-nine\n",
      "/specials/politics/trumpmerica\n",
      "/election\n",
      "http://money.cnn.com\n",
      "http://money.cnn.com/data/markets/\n",
      "http://money.cnn.com/technology/\n",
      "http://money.cnn.com/media/\n",
      "http://money.cnn.com/pf/\n",
      "http://money.cnn.com/luxury/\n",
      "/opinions\n",
      "/specials/opinion/opinion-politics\n",
      "/specials/opinion/opinion-social-issues\n",
      "/health\n",
      "/specials/health/food-diet\n",
      "/specials/health/fitness-excercise\n",
      "/specials/health/wellness\n",
      "/specials/health/parenting\n",
      "/specials/health/vital-signs\n",
      "/entertainment\n",
      "/entertainment/celebrities\n",
      "/entertainment/movies\n",
      "/entertainment/tv-shows\n",
      "/entertainment/culture\n",
      "http://money.cnn.com/media\n",
      "http://money.cnn.com/technology\n",
      "http://money.cnn.com/technology/business\n",
      "http://money.cnn.com/technology/culture\n",
      "http://money.cnn.com/technology/gadgets\n",
      "http://money.cnn.com/technology/future\n",
      "http://money.cnn.com/technology/startups\n",
      "/style\n",
      "/style/arts\n",
      "/style/design\n",
      "/style/fashion\n",
      "/style/architecture\n",
      "/style/luxury\n",
      "/style/autos\n",
      "/style/videos\n",
      "/travel\n",
      "/travel/destinations\n",
      "/travel/food-and-drink\n",
      "/travel/play\n",
      "/travel/stay\n",
      "/travel/videos\n",
      "http://bleacherreport.com\n",
      "http://bleacherreport.com/nfl\n",
      "http://bleacherreport.com/college-football\n",
      "http://bleacherreport.com/nba\n",
      "http://bleacherreport.com/mlb\n",
      "http://bleacherreport.com/world-football\n",
      "/specials/sport/winter-olympics-2018\n",
      "/videos\n",
      "//cnn.it/go2\n",
      "/specials/digital-studios\n",
      "/specials/videos/digital-shorts\n",
      "/specials/videos/hln\n",
      "/tv/schedule/cnn\n",
      "/specials/tv/all-shows\n",
      "/vr\n",
      "//store.cnn.com/?utm_source=cnn.com&utm_medium=referral&utm_campaign=navbar\n",
      "/cnn-underscored/\n",
      "/specials/cnn-underscored/explore/\n",
      "/specials/cnn-underscored/wellness/\n",
      "/specials/cnn-underscored/gadgets/\n",
      "/specials/cnn-underscored/lifestyle/\n",
      "//store.cnn.com/?utm_source=cnn.com&utm_medium=referral&utm_campaign=navbar\n",
      "/vr\n",
      "/2017/03/04/vr/how-to-watch-vr\n",
      "/specials/vr/vr-archives\n",
      "/more\n",
      "/specials/photos\n",
      "/specials/cnn-longform\n",
      "/specials/cnn-investigations\n",
      "/specials/profiles\n",
      "/specials/more/cnn-leadership\n",
      "/email/subscription\n",
      "https://www.turnerjobs.com/search-jobs?orgIds=1174&ac=19299\n",
      "/\n",
      "http://www.turner.com\n",
      "/terms\n",
      "/privacy\n",
      "/accessibility\n",
      "#\n",
      "/about\n",
      "//tours.cnn.com\n",
      "//store.cnn.com\n",
      "/newsletters\n",
      "/transcripts\n",
      "/collection\n",
      "http://cnnnewsource.com\n"
     ]
    }
   ],
   "source": [
    "from bs4 import BeautifulSoup\n",
    "import urllib2\n",
    "\n",
    "resp = urllib2.urlopen(\"http://www.cnn.com\")\n",
    "soup = BeautifulSoup(resp, from_encoding=resp.info().getparam('charset'))\n",
    "\n",
    "for link in soup.find_all('a', href=True):\n",
    "    print link['href']"
   ]
  },
  {
   "cell_type": "markdown",
   "metadata": {},
   "source": [
    "#### Exercise 8\n",
    "\n",
    "Write a Python program to use the Twitter library tweepy to retrieve a set of tweets from the internet.\n",
    "\n",
    "More information on how to do this can be found here\n",
    "\n",
    "http://docs.tweepy.org/en/v3.5.0/"
   ]
  },
  {
   "cell_type": "code",
   "execution_count": 74,
   "metadata": {
    "scrolled": true
   },
   "outputs": [
    {
     "ename": "TweepError",
     "evalue": "Failed to send request: HTTPSConnectionPool(host='api.twitter.com', port=443): Max retries exceeded with url: /1.1/statuses/home_timeline.json (Caused by NewConnectionError('<urllib3.connection.VerifiedHTTPSConnection object at 0x0000000008F974E0>: Failed to establish a new connection: [Errno 10060] A connection attempt failed because the connected party did not properly respond after a period of time, or established connection failed because connected host has failed to respond',))",
     "output_type": "error",
     "traceback": [
      "\u001b[1;31m---------------------------------------------------------------------------\u001b[0m",
      "\u001b[1;31mTweepError\u001b[0m                                Traceback (most recent call last)",
      "\u001b[1;32m<ipython-input-74-50ad41dc72d3>\u001b[0m in \u001b[0;36m<module>\u001b[1;34m()\u001b[0m\n\u001b[0;32m     11\u001b[0m \u001b[0mapi\u001b[0m \u001b[1;33m=\u001b[0m \u001b[0mtweepy\u001b[0m\u001b[1;33m.\u001b[0m\u001b[0mAPI\u001b[0m\u001b[1;33m(\u001b[0m\u001b[0mauth\u001b[0m\u001b[1;33m)\u001b[0m\u001b[1;33m\u001b[0m\u001b[0m\n\u001b[0;32m     12\u001b[0m \u001b[1;33m\u001b[0m\u001b[0m\n\u001b[1;32m---> 13\u001b[1;33m \u001b[0mpublic_tweets\u001b[0m \u001b[1;33m=\u001b[0m \u001b[0mapi\u001b[0m\u001b[1;33m.\u001b[0m\u001b[0mhome_timeline\u001b[0m\u001b[1;33m(\u001b[0m\u001b[1;33m)\u001b[0m\u001b[1;33m\u001b[0m\u001b[0m\n\u001b[0m\u001b[0;32m     14\u001b[0m \u001b[1;32mfor\u001b[0m \u001b[0mtweet\u001b[0m \u001b[1;32min\u001b[0m \u001b[0mpublic_tweets\u001b[0m\u001b[1;33m:\u001b[0m\u001b[1;33m\u001b[0m\u001b[0m\n\u001b[0;32m     15\u001b[0m     \u001b[1;32mprint\u001b[0m \u001b[0mtweet\u001b[0m\u001b[1;33m.\u001b[0m\u001b[0mtext\u001b[0m\u001b[1;33m\u001b[0m\u001b[0m\n",
      "\u001b[1;32mC:\\ProgramData\\Anaconda2\\lib\\site-packages\\tweepy\\binder.pyc\u001b[0m in \u001b[0;36m_call\u001b[1;34m(*args, **kwargs)\u001b[0m\n\u001b[0;32m    248\u001b[0m             \u001b[1;32mreturn\u001b[0m \u001b[0mmethod\u001b[0m\u001b[1;33m\u001b[0m\u001b[0m\n\u001b[0;32m    249\u001b[0m         \u001b[1;32melse\u001b[0m\u001b[1;33m:\u001b[0m\u001b[1;33m\u001b[0m\u001b[0m\n\u001b[1;32m--> 250\u001b[1;33m             \u001b[1;32mreturn\u001b[0m \u001b[0mmethod\u001b[0m\u001b[1;33m.\u001b[0m\u001b[0mexecute\u001b[0m\u001b[1;33m(\u001b[0m\u001b[1;33m)\u001b[0m\u001b[1;33m\u001b[0m\u001b[0m\n\u001b[0m\u001b[0;32m    251\u001b[0m \u001b[1;33m\u001b[0m\u001b[0m\n\u001b[0;32m    252\u001b[0m     \u001b[1;31m# Set pagination mode\u001b[0m\u001b[1;33m\u001b[0m\u001b[1;33m\u001b[0m\u001b[0m\n",
      "\u001b[1;32mC:\\ProgramData\\Anaconda2\\lib\\site-packages\\tweepy\\binder.pyc\u001b[0m in \u001b[0;36mexecute\u001b[1;34m(self)\u001b[0m\n\u001b[0;32m    190\u001b[0m                                                 proxies=self.api.proxy)\n\u001b[0;32m    191\u001b[0m                 \u001b[1;32mexcept\u001b[0m \u001b[0mException\u001b[0m \u001b[1;32mas\u001b[0m \u001b[0me\u001b[0m\u001b[1;33m:\u001b[0m\u001b[1;33m\u001b[0m\u001b[0m\n\u001b[1;32m--> 192\u001b[1;33m                     \u001b[0msix\u001b[0m\u001b[1;33m.\u001b[0m\u001b[0mreraise\u001b[0m\u001b[1;33m(\u001b[0m\u001b[0mTweepError\u001b[0m\u001b[1;33m,\u001b[0m \u001b[0mTweepError\u001b[0m\u001b[1;33m(\u001b[0m\u001b[1;34m'Failed to send request: %s'\u001b[0m \u001b[1;33m%\u001b[0m \u001b[0me\u001b[0m\u001b[1;33m)\u001b[0m\u001b[1;33m,\u001b[0m \u001b[0msys\u001b[0m\u001b[1;33m.\u001b[0m\u001b[0mexc_info\u001b[0m\u001b[1;33m(\u001b[0m\u001b[1;33m)\u001b[0m\u001b[1;33m[\u001b[0m\u001b[1;36m2\u001b[0m\u001b[1;33m]\u001b[0m\u001b[1;33m)\u001b[0m\u001b[1;33m\u001b[0m\u001b[0m\n\u001b[0m\u001b[0;32m    193\u001b[0m \u001b[1;33m\u001b[0m\u001b[0m\n\u001b[0;32m    194\u001b[0m                 \u001b[0mrem_calls\u001b[0m \u001b[1;33m=\u001b[0m \u001b[0mresp\u001b[0m\u001b[1;33m.\u001b[0m\u001b[0mheaders\u001b[0m\u001b[1;33m.\u001b[0m\u001b[0mget\u001b[0m\u001b[1;33m(\u001b[0m\u001b[1;34m'x-rate-limit-remaining'\u001b[0m\u001b[1;33m)\u001b[0m\u001b[1;33m\u001b[0m\u001b[0m\n",
      "\u001b[1;32mC:\\ProgramData\\Anaconda2\\lib\\site-packages\\tweepy\\binder.pyc\u001b[0m in \u001b[0;36mexecute\u001b[1;34m(self)\u001b[0m\n\u001b[0;32m    188\u001b[0m                                                 \u001b[0mtimeout\u001b[0m\u001b[1;33m=\u001b[0m\u001b[0mself\u001b[0m\u001b[1;33m.\u001b[0m\u001b[0mapi\u001b[0m\u001b[1;33m.\u001b[0m\u001b[0mtimeout\u001b[0m\u001b[1;33m,\u001b[0m\u001b[1;33m\u001b[0m\u001b[0m\n\u001b[0;32m    189\u001b[0m                                                 \u001b[0mauth\u001b[0m\u001b[1;33m=\u001b[0m\u001b[0mauth\u001b[0m\u001b[1;33m,\u001b[0m\u001b[1;33m\u001b[0m\u001b[0m\n\u001b[1;32m--> 190\u001b[1;33m                                                 proxies=self.api.proxy)\n\u001b[0m\u001b[0;32m    191\u001b[0m                 \u001b[1;32mexcept\u001b[0m \u001b[0mException\u001b[0m \u001b[1;32mas\u001b[0m \u001b[0me\u001b[0m\u001b[1;33m:\u001b[0m\u001b[1;33m\u001b[0m\u001b[0m\n\u001b[0;32m    192\u001b[0m                     \u001b[0msix\u001b[0m\u001b[1;33m.\u001b[0m\u001b[0mreraise\u001b[0m\u001b[1;33m(\u001b[0m\u001b[0mTweepError\u001b[0m\u001b[1;33m,\u001b[0m \u001b[0mTweepError\u001b[0m\u001b[1;33m(\u001b[0m\u001b[1;34m'Failed to send request: %s'\u001b[0m \u001b[1;33m%\u001b[0m \u001b[0me\u001b[0m\u001b[1;33m)\u001b[0m\u001b[1;33m,\u001b[0m \u001b[0msys\u001b[0m\u001b[1;33m.\u001b[0m\u001b[0mexc_info\u001b[0m\u001b[1;33m(\u001b[0m\u001b[1;33m)\u001b[0m\u001b[1;33m[\u001b[0m\u001b[1;36m2\u001b[0m\u001b[1;33m]\u001b[0m\u001b[1;33m)\u001b[0m\u001b[1;33m\u001b[0m\u001b[0m\n",
      "\u001b[1;32mC:\\ProgramData\\Anaconda2\\lib\\site-packages\\requests\\sessions.py\u001b[0m in \u001b[0;36mrequest\u001b[1;34m(self, method, url, params, data, headers, cookies, files, auth, timeout, allow_redirects, proxies, hooks, stream, verify, cert, json)\u001b[0m\n\u001b[0;32m    506\u001b[0m         }\n\u001b[0;32m    507\u001b[0m         \u001b[0msend_kwargs\u001b[0m\u001b[1;33m.\u001b[0m\u001b[0mupdate\u001b[0m\u001b[1;33m(\u001b[0m\u001b[0msettings\u001b[0m\u001b[1;33m)\u001b[0m\u001b[1;33m\u001b[0m\u001b[0m\n\u001b[1;32m--> 508\u001b[1;33m         \u001b[0mresp\u001b[0m \u001b[1;33m=\u001b[0m \u001b[0mself\u001b[0m\u001b[1;33m.\u001b[0m\u001b[0msend\u001b[0m\u001b[1;33m(\u001b[0m\u001b[0mprep\u001b[0m\u001b[1;33m,\u001b[0m \u001b[1;33m**\u001b[0m\u001b[0msend_kwargs\u001b[0m\u001b[1;33m)\u001b[0m\u001b[1;33m\u001b[0m\u001b[0m\n\u001b[0m\u001b[0;32m    509\u001b[0m \u001b[1;33m\u001b[0m\u001b[0m\n\u001b[0;32m    510\u001b[0m         \u001b[1;32mreturn\u001b[0m \u001b[0mresp\u001b[0m\u001b[1;33m\u001b[0m\u001b[0m\n",
      "\u001b[1;32mC:\\ProgramData\\Anaconda2\\lib\\site-packages\\requests\\sessions.py\u001b[0m in \u001b[0;36msend\u001b[1;34m(self, request, **kwargs)\u001b[0m\n\u001b[0;32m    616\u001b[0m \u001b[1;33m\u001b[0m\u001b[0m\n\u001b[0;32m    617\u001b[0m         \u001b[1;31m# Send the request\u001b[0m\u001b[1;33m\u001b[0m\u001b[1;33m\u001b[0m\u001b[0m\n\u001b[1;32m--> 618\u001b[1;33m         \u001b[0mr\u001b[0m \u001b[1;33m=\u001b[0m \u001b[0madapter\u001b[0m\u001b[1;33m.\u001b[0m\u001b[0msend\u001b[0m\u001b[1;33m(\u001b[0m\u001b[0mrequest\u001b[0m\u001b[1;33m,\u001b[0m \u001b[1;33m**\u001b[0m\u001b[0mkwargs\u001b[0m\u001b[1;33m)\u001b[0m\u001b[1;33m\u001b[0m\u001b[0m\n\u001b[0m\u001b[0;32m    619\u001b[0m \u001b[1;33m\u001b[0m\u001b[0m\n\u001b[0;32m    620\u001b[0m         \u001b[1;31m# Total elapsed time of the request (approximately)\u001b[0m\u001b[1;33m\u001b[0m\u001b[1;33m\u001b[0m\u001b[0m\n",
      "\u001b[1;32mC:\\ProgramData\\Anaconda2\\lib\\site-packages\\requests\\adapters.py\u001b[0m in \u001b[0;36msend\u001b[1;34m(self, request, stream, timeout, verify, cert, proxies)\u001b[0m\n\u001b[0;32m    506\u001b[0m                 \u001b[1;32mraise\u001b[0m \u001b[0mSSLError\u001b[0m\u001b[1;33m(\u001b[0m\u001b[0me\u001b[0m\u001b[1;33m,\u001b[0m \u001b[0mrequest\u001b[0m\u001b[1;33m=\u001b[0m\u001b[0mrequest\u001b[0m\u001b[1;33m)\u001b[0m\u001b[1;33m\u001b[0m\u001b[0m\n\u001b[0;32m    507\u001b[0m \u001b[1;33m\u001b[0m\u001b[0m\n\u001b[1;32m--> 508\u001b[1;33m             \u001b[1;32mraise\u001b[0m \u001b[0mConnectionError\u001b[0m\u001b[1;33m(\u001b[0m\u001b[0me\u001b[0m\u001b[1;33m,\u001b[0m \u001b[0mrequest\u001b[0m\u001b[1;33m=\u001b[0m\u001b[0mrequest\u001b[0m\u001b[1;33m)\u001b[0m\u001b[1;33m\u001b[0m\u001b[0m\n\u001b[0m\u001b[0;32m    509\u001b[0m \u001b[1;33m\u001b[0m\u001b[0m\n\u001b[0;32m    510\u001b[0m         \u001b[1;32mexcept\u001b[0m \u001b[0mClosedPoolError\u001b[0m \u001b[1;32mas\u001b[0m \u001b[0me\u001b[0m\u001b[1;33m:\u001b[0m\u001b[1;33m\u001b[0m\u001b[0m\n",
      "\u001b[1;31mTweepError\u001b[0m: Failed to send request: HTTPSConnectionPool(host='api.twitter.com', port=443): Max retries exceeded with url: /1.1/statuses/home_timeline.json (Caused by NewConnectionError('<urllib3.connection.VerifiedHTTPSConnection object at 0x0000000008F974E0>: Failed to establish a new connection: [Errno 10060] A connection attempt failed because the connected party did not properly respond after a period of time, or established connection failed because connected host has failed to respond',))"
     ]
    }
   ],
   "source": [
    "\n",
    "import tweepy\n",
    "\n",
    "consumer_key = 'gPgUxAN2Ma7LqpPDskRnjCEn8'\n",
    "consumer_secret= \"qSXYZPRYrW6hfeGUNl8R4huMRihMEeBNcFwBYmqHWvMxTtd313\"\n",
    "access_token= \"985686629724622849-FivJfeVFG853RGGIBfbdv7OLllsPpnE\"\n",
    "access_token_secret= \"jxfLsqWxFjFFLxh1jKpdLnNtQVxoJbdFwJ2Fd4m75fvZc\"\n",
    "auth = tweepy.OAuthHandler(consumer_key, consumer_secret)\n",
    "auth.set_access_token(access_token, access_token_secret)\n",
    "\n",
    "api = tweepy.API(auth)\n",
    "\n",
    "public_tweets = api.home_timeline()\n",
    "for tweet in public_tweets:\n",
    "    print tweet.text\n",
    "# I am not able to resolve the TweepError "
   ]
  },
  {
   "cell_type": "markdown",
   "metadata": {
    "collapsed": true
   },
   "source": [
    "#### Exercise 9 - Python program with multiple modules to sort a list of numbers\n",
    "\n",
    "Write a Python program to sort a list of numbers in ascending order. Your Python program must have a function called **sortNumbers** that is placed in a separate module called **sorthelper.py**. This function **sortNumbers** accepts a **list** of numbers. Your main program, which is also a standalone Python program **main.py** must import **sorthelper.py** and use this module to sort the numbers. \n",
    "\n",
    "The numbers to be sorted must be passed via the command line using argparse.\n",
    "\n",
    "Here is an example of how your program would be invoked assuming the numbers to be sorted are 5 4 3 and 8\n",
    "\n",
    "**python main.py 5 4 3 8**"
   ]
  },
  {
   "cell_type": "code",
   "execution_count": 80,
   "metadata": {},
   "outputs": [
    {
     "name": "stdout",
     "output_type": "stream",
     "text": [
      "Overwriting sorthelper.py\n"
     ]
    }
   ],
   "source": [
    "%%%writefile sorthelper.py\n",
    "\n",
    "def sortNumbers(l1):\n",
    "    return sort(l1)\n",
    "\n"
   ]
  },
  {
   "cell_type": "code",
   "execution_count": 81,
   "metadata": {},
   "outputs": [
    {
     "name": "stdout",
     "output_type": "stream",
     "text": [
      "Overwriting main2.py\n"
     ]
    }
   ],
   "source": [
    "%%%writefile main2.py\n",
    "from sorthelper.py import *"
   ]
  },
  {
   "cell_type": "code",
   "execution_count": null,
   "metadata": {
    "collapsed": true
   },
   "outputs": [],
   "source": []
  }
 ],
 "metadata": {
  "kernelspec": {
   "display_name": "Python 2",
   "language": "python",
   "name": "python2"
  },
  "language_info": {
   "codemirror_mode": {
    "name": "ipython",
    "version": 2
   },
   "file_extension": ".py",
   "mimetype": "text/x-python",
   "name": "python",
   "nbconvert_exporter": "python",
   "pygments_lexer": "ipython2",
   "version": "2.7.14"
  }
 },
 "nbformat": 4,
 "nbformat_minor": 2
}
