{
 "cells": [
  {
   "cell_type": "markdown",
   "metadata": {},
   "source": [
    "# Lab Exercises Week 2"
   ]
  },
  {
   "cell_type": "code",
   "execution_count": 6,
   "metadata": {},
   "outputs": [
    {
     "name": "stdout",
     "output_type": "stream",
     "text": [
      "What is your score?90\n",
      "A\n"
     ]
    }
   ],
   "source": [
    "#Exercise 1\n",
    "score = int (raw_input(\"What is your score?\"))\n",
    "if score >= 90:\n",
    "    print \"A\"\n",
    "elif score >= 80:\n",
    "    print \"B\"\n",
    "else:\n",
    "    print \"fail\""
   ]
  },
  {
   "cell_type": "code",
   "execution_count": null,
   "metadata": {},
   "outputs": [],
   "source": [
    "#Exercise 2\n",
    "\n",
    "salary1= raw_input(\"Please enter your salary\")\n",
    "salary2= raw_input(\"Please enter your salary\")\n",
    "salary3= raw_input(\"Please enter your salary\")\n",
    "\n",
    "if (salary1== salary2):\n",
    "    print \"Employee 1 and Employee 2 have the same salary\"\n",
    "elif (salary1 ==salary3):\n",
    "    print \"Employee 1 and Employee 3 have the same salary\"\n",
    "elif (salary2 == salary3):\n",
    "    print \"Employee 2 and Employee 3 have the same salary\"\n",
    "else:\n",
    "    print \"None of the employees have the same salary\"\n",
    "    "
   ]
  },
  {
   "cell_type": "code",
   "execution_count": null,
   "metadata": {},
   "outputs": [],
   "source": [
    "#Exercise 3\n",
    "i=0\n",
    "value=0\n",
    "for i in range(0, 7):\n",
    "    x= int(raw_input(\"What is your age?\" ))\n",
    "    value= x +value\n",
    "    i= i+1\n",
    "print value/6"
   ]
  },
  {
   "cell_type": "code",
   "execution_count": null,
   "metadata": {
    "collapsed": true
   },
   "outputs": [],
   "source": []
  },
  {
   "cell_type": "code",
   "execution_count": null,
   "metadata": {
    "collapsed": true
   },
   "outputs": [],
   "source": []
  },
  {
   "cell_type": "code",
   "execution_count": null,
   "metadata": {
    "collapsed": true
   },
   "outputs": [],
   "source": []
  }
 ],
 "metadata": {
  "kernelspec": {
   "display_name": "Python 2",
   "language": "python",
   "name": "python2"
  },
  "language_info": {
   "codemirror_mode": {
    "name": "ipython",
    "version": 2
   },
   "file_extension": ".py",
   "mimetype": "text/x-python",
   "name": "python",
   "nbconvert_exporter": "python",
   "pygments_lexer": "ipython2",
   "version": "2.7.14"
  }
 },
 "nbformat": 4,
 "nbformat_minor": 2
}
