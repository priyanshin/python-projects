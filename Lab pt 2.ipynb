{
 "cells": [
  {
   "cell_type": "code",
   "execution_count": null,
   "metadata": {},
   "outputs": [],
   "source": [
    "#Exercise 3\n",
    "i=0\n",
    "value=0\n",
    "for i in range(0, 6):\n",
    "    x= int(raw_input(\"What is your age? \" ))\n",
    "    value= x +value\n",
    "    i= i+1\n",
    "print value/6"
   ]
  },
  {
   "cell_type": "code",
   "execution_count": null,
   "metadata": {
    "collapsed": true
   },
   "outputs": [],
   "source": [
    "#Exercise 3\n",
    "i=0\n",
    "j=0\n",
    "value=0\n",
    "for i in range(0, 7):\n",
    "    x= int(raw_input(\"What is your age?\" ))\n",
    "    if (x < j):\n",
    "        lowest= x\n",
    "        print x\n",
    "    elif (x>j):\n",
    "        highest=x\n",
    "        print x\n",
    "    j=x\n",
    "    value= x +value\n",
    "    i= i+1\n",
    "print value/6"
   ]
  }
 ],
 "metadata": {
  "kernelspec": {
   "display_name": "Python 2",
   "language": "python",
   "name": "python2"
  },
  "language_info": {
   "codemirror_mode": {
    "name": "ipython",
    "version": 2
   },
   "file_extension": ".py",
   "mimetype": "text/x-python",
   "name": "python",
   "nbconvert_exporter": "python",
   "pygments_lexer": "ipython2",
   "version": "2.7.14"
  }
 },
 "nbformat": 4,
 "nbformat_minor": 2
}
